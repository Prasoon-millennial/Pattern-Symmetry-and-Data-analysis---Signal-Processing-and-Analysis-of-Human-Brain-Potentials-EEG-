{
 "cells": [
  {
   "cell_type": "code",
   "execution_count": 12,
   "id": "ae72f5cd-9765-44f2-86d2-c003219aec1b",
   "metadata": {},
   "outputs": [],
   "source": [
    "#notebook for analysis of all the participants"
   ]
  },
  {
   "cell_type": "code",
   "execution_count": 13,
   "id": "91a2d8db-8cba-423d-94ab-95bbd6a01afa",
   "metadata": {},
   "outputs": [],
   "source": [
    "%run AllFunctions2.ipynb"
   ]
  },
  {
   "cell_type": "code",
   "execution_count": 14,
   "id": "5eca3336-a955-42b3-a6f3-1bbba61b8885",
   "metadata": {},
   "outputs": [],
   "source": [
    "#all subject ids\n",
    "subIds = ['001','002','003','004','005','006','007','008','009','010','011','012','013','014','015','016','017','018','019','020','021','022','023','024']"
   ]
  },
  {
   "cell_type": "code",
   "execution_count": 16,
   "id": "3a278dd4-e5ee-4d5d-9520-717ff9d4ccbb",
   "metadata": {
    "scrolled": true
   },
   "outputs": [
    {
     "name": "stdout",
     "output_type": "stream",
     "text": [
      "Extracting EDF parameters from /Users/sammy/Documents/SP EEG/pro_bids/sub-001/eeg/sub-001_task-jacobsen_eeg.bdf...\n",
      "BDF file detected\n",
      "Setting channel info structure...\n",
      "Creating raw.info structure...\n",
      "Reading events from /Users/sammy/Documents/SP EEG/pro_bids/sub-001/eeg/sub-001_task-jacobsen_events.tsv.\n",
      "Reading channel info from /Users/sammy/Documents/SP EEG/pro_bids/sub-001/eeg/sub-001_task-jacobsen_channels.tsv.\n",
      "Reading electrode coords from /Users/sammy/Documents/SP EEG/pro_bids/sub-001/eeg/sub-001_task-jacobsen_electrodes.tsv.\n",
      "Reading 0 ... 531967  =      0.000 ...  1038.998 secs...\n"
     ]
    },
    {
     "name": "stderr",
     "output_type": "stream",
     "text": [
      "/var/folders/m6/tws1p1s95hq4nqmf8vg1ncch0000gn/T/ipykernel_41516/3921119066.py:7: RuntimeWarning: The number of channels in the channels.tsv sidecar file (72) does not match the number of channels in the raw data file (73). Will not try to set channel names.\n",
      "  raw = read_raw_bids(bids_path)\n",
      "/var/folders/m6/tws1p1s95hq4nqmf8vg1ncch0000gn/T/ipykernel_41516/3921119066.py:7: RuntimeWarning: Cannot set channel type for the following channels, as they are missing in the raw data: 'AF3', 'AF4', 'AF7', 'AF8', 'AFz', 'C1', 'C2', 'C3', 'C4', 'C5', 'C6', 'CP1', 'CP2', 'CP3', 'CP4', 'CP5', 'CP6', 'CPz', 'Cz', 'EXG1', 'EXG2', 'EXG3', 'EXG4', 'EXG5', 'EXG6', 'EXG7', 'EXG8', 'F1', 'F2', 'F3', 'F4', 'F5', 'F6', 'F7', 'F8', 'FC1', 'FC2', 'FC3', 'FC4', 'FC5', 'FC6', 'FCz', 'FT7', 'FT8', 'Fp1', 'Fp2', 'Fpz', 'Fz', 'Iz', 'O1', 'O2', 'Oz', 'P1', 'P10', 'P2', 'P3', 'P4', 'P5', 'P6', 'P7', 'P8', 'P9', 'PO3', 'PO4', 'PO7', 'PO8', 'POz', 'Pz', 'T7', 'T8', 'TP7', 'TP8'\n",
      "  raw = read_raw_bids(bids_path)\n",
      "/var/folders/m6/tws1p1s95hq4nqmf8vg1ncch0000gn/T/ipykernel_41516/3921119066.py:7: RuntimeWarning: There are channels without locations (n/a) that are not marked as bad: [\"'EXG1'\", \"'EXG2'\", \"'EXG3'\", \"'EXG4'\", \"'EXG5'\", \"'EXG6'\", \"'EXG7'\", \"'EXG8'\"]\n",
      "  raw = read_raw_bids(bids_path)\n",
      "/var/folders/m6/tws1p1s95hq4nqmf8vg1ncch0000gn/T/ipykernel_41516/3921119066.py:7: RuntimeWarning: DigMontage is only a subset of info. There are 72 channel positions not present in the DigMontage. The channels missing from the montage are:\n",
      "\n",
      "['Fp1', 'AF7', 'AF3', 'F1', 'F3', 'F5', 'F7', 'FT7', 'FC5', 'FC3', 'FC1', 'C1', 'C3', 'C5', 'T7', 'TP7', 'CP5', 'CP3', 'CP1', 'P1', 'P3', 'P5', 'P7', 'P9', 'PO7', 'PO3', 'O1', 'Iz', 'Oz', 'POz', 'Pz', 'CPz', 'Fpz', 'Fp2', 'AF8', 'AF4', 'AFz', 'Fz', 'F2', 'F4', 'F6', 'F8', 'FT8', 'FC6', 'FC4', 'FC2', 'FCz', 'Cz', 'C2', 'C4', 'C6', 'T8', 'TP8', 'CP6', 'CP4', 'CP2', 'P2', 'P4', 'P6', 'P8', 'P10', 'PO8', 'PO4', 'O2', 'EXG1', 'EXG2', 'EXG3', 'EXG4', 'EXG5', 'EXG6', 'EXG7', 'EXG8'].\n",
      "\n",
      "Consider using inst.rename_channels to match the montage nomenclature, or inst.set_channel_types if these are not EEG channels, or use the on_missing parameter if the channel positions are allowed to be unknown in your analyses.\n",
      "  raw = read_raw_bids(bids_path)\n"
     ]
    },
    {
     "name": "stdout",
     "output_type": "stream",
     "text": [
      "Filtering raw data in 1 contiguous segment\n",
      "Setting up band-pass filter from 0.05 - 50 Hz\n",
      "\n",
      "FIR filter parameters\n",
      "---------------------\n",
      "Designing a one-pass, zero-phase, non-causal bandpass filter:\n",
      "- Windowed time-domain design (firwin) method\n",
      "- Hamming window with 0.0194 passband ripple and 53 dB stopband attenuation\n",
      "- Lower passband edge: 0.05\n",
      "- Lower transition bandwidth: 0.05 Hz (-6 dB cutoff frequency: 0.03 Hz)\n",
      "- Upper passband edge: 50.00 Hz\n",
      "- Upper transition bandwidth: 12.50 Hz (-6 dB cutoff frequency: 56.25 Hz)\n",
      "- Filter length: 33793 samples (66.002 s)\n",
      "\n"
     ]
    },
    {
     "name": "stderr",
     "output_type": "stream",
     "text": [
      "[Parallel(n_jobs=1)]: Done  17 tasks      | elapsed:    0.3s\n"
     ]
    },
    {
     "name": "stdout",
     "output_type": "stream",
     "text": [
      "Fitting ICA to data using 64 channels (please be patient, this may take a while)\n",
      "Selecting by number: 20 components\n",
      "Fitting ICA took 8.4s.\n"
     ]
    },
    {
     "name": "stderr",
     "output_type": "stream",
     "text": [
      "/var/folders/m6/tws1p1s95hq4nqmf8vg1ncch0000gn/T/ipykernel_41516/2578086535.py:8: RuntimeWarning: The provided Raw instance does not seem to be referenced to a common average reference (CAR). ICLabel was designed to classify features extracted from an EEG dataset referenced to a CAR (see the 'set_eeg_reference()' method for Raw and Epochs instances).\n",
      "  ic_labels = label_components(raw, ica, method='iclabel')\n",
      "/var/folders/m6/tws1p1s95hq4nqmf8vg1ncch0000gn/T/ipykernel_41516/2578086535.py:8: RuntimeWarning: The provided Raw instance is not filtered between 1 and 100 Hz. ICLabel was designed to classify features extracted from an EEG dataset bandpass filtered between 1 and 100 Hz (see the 'filter()' method for Raw and Epochs instances).\n",
      "  ic_labels = label_components(raw, ica, method='iclabel')\n",
      "/var/folders/m6/tws1p1s95hq4nqmf8vg1ncch0000gn/T/ipykernel_41516/2578086535.py:8: RuntimeWarning: The provided ICA instance was fitted with a 'fastica' algorithm. ICLabel was designed with extended infomax ICA decompositions. To use the extended infomax algorithm, use the 'mne.preprocessing.ICA' instance with the arguments 'ICA(method='infomax', fit_params=dict(extended=True))' (scikit-learn) or 'ICA(method='picard', fit_params=dict(ortho=False, extended=True))' (python-picard).\n",
      "  ic_labels = label_components(raw, ica, method='iclabel')\n"
     ]
    },
    {
     "name": "stdout",
     "output_type": "stream",
     "text": [
      "Applying ICA to Raw instance\n",
      "    Transforming to ICA space (20 components)\n",
      "    Zeroing out 20 ICA components\n",
      "    Projecting back using 64 PCA components\n",
      "Trigger channel Status has a non-zero initial value of {initial_value} (consider using initial_event=True to detect this event)\n",
      "Removing orphaned offset at the beginning of the file.\n",
      "159 events found on stim channel Status\n",
      "Event IDs: [1 3]\n",
      "Not setting metadata\n",
      "159 matching events found\n",
      "Setting baseline interval to [-0.19921875, 0.0] s\n",
      "Applying baseline correction (mode: mean)\n",
      "0 projection items activated\n",
      "Using data from preloaded Raw for 159 events and 615 original time points ...\n",
      "0 bad epochs dropped\n",
      "Applying baseline correction (mode: mean)\n",
      "Extracting EDF parameters from /Users/sammy/Documents/SP EEG/pro_bids/sub-002/eeg/sub-002_task-jacobsen_eeg.bdf...\n",
      "BDF file detected\n",
      "Setting channel info structure...\n",
      "Creating raw.info structure...\n",
      "Reading events from /Users/sammy/Documents/SP EEG/pro_bids/sub-002/eeg/sub-002_task-jacobsen_events.tsv.\n",
      "Reading channel info from /Users/sammy/Documents/SP EEG/pro_bids/sub-002/eeg/sub-002_task-jacobsen_channels.tsv.\n",
      "Reading electrode coords from /Users/sammy/Documents/SP EEG/pro_bids/sub-002/eeg/sub-002_task-jacobsen_electrodes.tsv.\n",
      "Reading 0 ... 452095  =      0.000 ...   882.998 secs...\n"
     ]
    },
    {
     "name": "stderr",
     "output_type": "stream",
     "text": [
      "/var/folders/m6/tws1p1s95hq4nqmf8vg1ncch0000gn/T/ipykernel_41516/3921119066.py:7: RuntimeWarning: The number of channels in the channels.tsv sidecar file (72) does not match the number of channels in the raw data file (73). Will not try to set channel names.\n",
      "  raw = read_raw_bids(bids_path)\n",
      "/var/folders/m6/tws1p1s95hq4nqmf8vg1ncch0000gn/T/ipykernel_41516/3921119066.py:7: RuntimeWarning: Cannot set channel type for the following channels, as they are missing in the raw data: 'AF3', 'AF4', 'AF7', 'AF8', 'AFz', 'C1', 'C2', 'C3', 'C4', 'C5', 'C6', 'CP1', 'CP2', 'CP3', 'CP4', 'CP5', 'CP6', 'CPz', 'Cz', 'EXG1', 'EXG2', 'EXG3', 'EXG4', 'EXG5', 'EXG6', 'EXG7', 'EXG8', 'F1', 'F2', 'F3', 'F4', 'F5', 'F6', 'F7', 'F8', 'FC1', 'FC2', 'FC3', 'FC4', 'FC5', 'FC6', 'FCz', 'FT7', 'FT8', 'Fp1', 'Fp2', 'Fpz', 'Fz', 'Iz', 'O1', 'O2', 'Oz', 'P1', 'P10', 'P2', 'P3', 'P4', 'P5', 'P6', 'P7', 'P8', 'P9', 'PO3', 'PO4', 'PO7', 'PO8', 'POz', 'Pz', 'T7', 'T8', 'TP7', 'TP8'\n",
      "  raw = read_raw_bids(bids_path)\n",
      "/var/folders/m6/tws1p1s95hq4nqmf8vg1ncch0000gn/T/ipykernel_41516/3921119066.py:7: RuntimeWarning: There are channels without locations (n/a) that are not marked as bad: [\"'EXG1'\", \"'EXG2'\", \"'EXG3'\", \"'EXG4'\", \"'EXG5'\", \"'EXG6'\", \"'EXG7'\", \"'EXG8'\"]\n",
      "  raw = read_raw_bids(bids_path)\n",
      "/var/folders/m6/tws1p1s95hq4nqmf8vg1ncch0000gn/T/ipykernel_41516/3921119066.py:7: RuntimeWarning: DigMontage is only a subset of info. There are 72 channel positions not present in the DigMontage. The channels missing from the montage are:\n",
      "\n",
      "['Fp1', 'AF7', 'AF3', 'F1', 'F3', 'F5', 'F7', 'FT7', 'FC5', 'FC3', 'FC1', 'C1', 'C3', 'C5', 'T7', 'TP7', 'CP5', 'CP3', 'CP1', 'P1', 'P3', 'P5', 'P7', 'P9', 'PO7', 'PO3', 'O1', 'Iz', 'Oz', 'POz', 'Pz', 'CPz', 'Fpz', 'Fp2', 'AF8', 'AF4', 'AFz', 'Fz', 'F2', 'F4', 'F6', 'F8', 'FT8', 'FC6', 'FC4', 'FC2', 'FCz', 'Cz', 'C2', 'C4', 'C6', 'T8', 'TP8', 'CP6', 'CP4', 'CP2', 'P2', 'P4', 'P6', 'P8', 'P10', 'PO8', 'PO4', 'O2', 'EXG1', 'EXG2', 'EXG3', 'EXG4', 'EXG5', 'EXG6', 'EXG7', 'EXG8'].\n",
      "\n",
      "Consider using inst.rename_channels to match the montage nomenclature, or inst.set_channel_types if these are not EEG channels, or use the on_missing parameter if the channel positions are allowed to be unknown in your analyses.\n",
      "  raw = read_raw_bids(bids_path)\n"
     ]
    },
    {
     "name": "stdout",
     "output_type": "stream",
     "text": [
      "Filtering raw data in 1 contiguous segment\n",
      "Setting up band-pass filter from 0.05 - 50 Hz\n",
      "\n",
      "FIR filter parameters\n",
      "---------------------\n",
      "Designing a one-pass, zero-phase, non-causal bandpass filter:\n",
      "- Windowed time-domain design (firwin) method\n",
      "- Hamming window with 0.0194 passband ripple and 53 dB stopband attenuation\n",
      "- Lower passband edge: 0.05\n",
      "- Lower transition bandwidth: 0.05 Hz (-6 dB cutoff frequency: 0.03 Hz)\n",
      "- Upper passband edge: 50.00 Hz\n",
      "- Upper transition bandwidth: 12.50 Hz (-6 dB cutoff frequency: 56.25 Hz)\n",
      "- Filter length: 33793 samples (66.002 s)\n",
      "\n"
     ]
    },
    {
     "name": "stderr",
     "output_type": "stream",
     "text": [
      "[Parallel(n_jobs=1)]: Done  17 tasks      | elapsed:    0.3s\n"
     ]
    },
    {
     "name": "stdout",
     "output_type": "stream",
     "text": [
      "Fitting ICA to data using 64 channels (please be patient, this may take a while)\n",
      "Selecting by number: 20 components\n",
      "Fitting ICA took 9.7s.\n"
     ]
    },
    {
     "name": "stderr",
     "output_type": "stream",
     "text": [
      "/var/folders/m6/tws1p1s95hq4nqmf8vg1ncch0000gn/T/ipykernel_41516/2578086535.py:8: RuntimeWarning: The provided Raw instance does not seem to be referenced to a common average reference (CAR). ICLabel was designed to classify features extracted from an EEG dataset referenced to a CAR (see the 'set_eeg_reference()' method for Raw and Epochs instances).\n",
      "  ic_labels = label_components(raw, ica, method='iclabel')\n",
      "/var/folders/m6/tws1p1s95hq4nqmf8vg1ncch0000gn/T/ipykernel_41516/2578086535.py:8: RuntimeWarning: The provided Raw instance is not filtered between 1 and 100 Hz. ICLabel was designed to classify features extracted from an EEG dataset bandpass filtered between 1 and 100 Hz (see the 'filter()' method for Raw and Epochs instances).\n",
      "  ic_labels = label_components(raw, ica, method='iclabel')\n",
      "/var/folders/m6/tws1p1s95hq4nqmf8vg1ncch0000gn/T/ipykernel_41516/2578086535.py:8: RuntimeWarning: The provided ICA instance was fitted with a 'fastica' algorithm. ICLabel was designed with extended infomax ICA decompositions. To use the extended infomax algorithm, use the 'mne.preprocessing.ICA' instance with the arguments 'ICA(method='infomax', fit_params=dict(extended=True))' (scikit-learn) or 'ICA(method='picard', fit_params=dict(ortho=False, extended=True))' (python-picard).\n",
      "  ic_labels = label_components(raw, ica, method='iclabel')\n"
     ]
    },
    {
     "name": "stdout",
     "output_type": "stream",
     "text": [
      "Applying ICA to Raw instance\n",
      "    Transforming to ICA space (20 components)\n",
      "    Zeroing out 20 ICA components\n",
      "    Projecting back using 64 PCA components\n",
      "Trigger channel Status has a non-zero initial value of {initial_value} (consider using initial_event=True to detect this event)\n",
      "Removing orphaned offset at the beginning of the file.\n",
      "160 events found on stim channel Status\n",
      "Event IDs: [1 3]\n",
      "Not setting metadata\n",
      "160 matching events found\n",
      "Setting baseline interval to [-0.19921875, 0.0] s\n",
      "Applying baseline correction (mode: mean)\n",
      "0 projection items activated\n",
      "Using data from preloaded Raw for 160 events and 615 original time points ...\n",
      "0 bad epochs dropped\n",
      "Applying baseline correction (mode: mean)\n",
      "Extracting EDF parameters from /Users/sammy/Documents/SP EEG/pro_bids/sub-003/eeg/sub-003_task-jacobsen_eeg.bdf...\n",
      "BDF file detected\n",
      "Setting channel info structure...\n",
      "Creating raw.info structure...\n",
      "Reading events from /Users/sammy/Documents/SP EEG/pro_bids/sub-003/eeg/sub-003_task-jacobsen_events.tsv.\n",
      "Reading channel info from /Users/sammy/Documents/SP EEG/pro_bids/sub-003/eeg/sub-003_task-jacobsen_channels.tsv.\n",
      "Reading electrode coords from /Users/sammy/Documents/SP EEG/pro_bids/sub-003/eeg/sub-003_task-jacobsen_electrodes.tsv.\n",
      "Reading 0 ... 703487  =      0.000 ...  1373.998 secs...\n"
     ]
    },
    {
     "name": "stderr",
     "output_type": "stream",
     "text": [
      "/var/folders/m6/tws1p1s95hq4nqmf8vg1ncch0000gn/T/ipykernel_41516/3921119066.py:7: RuntimeWarning: The number of channels in the channels.tsv sidecar file (72) does not match the number of channels in the raw data file (73). Will not try to set channel names.\n",
      "  raw = read_raw_bids(bids_path)\n",
      "/var/folders/m6/tws1p1s95hq4nqmf8vg1ncch0000gn/T/ipykernel_41516/3921119066.py:7: RuntimeWarning: Cannot set channel type for the following channels, as they are missing in the raw data: 'AF3', 'AF4', 'AF7', 'AF8', 'AFz', 'C1', 'C2', 'C3', 'C4', 'C5', 'C6', 'CP1', 'CP2', 'CP3', 'CP4', 'CP5', 'CP6', 'CPz', 'Cz', 'EXG1', 'EXG2', 'EXG3', 'EXG4', 'EXG5', 'EXG6', 'EXG7', 'EXG8', 'F1', 'F2', 'F3', 'F4', 'F5', 'F6', 'F7', 'F8', 'FC1', 'FC2', 'FC3', 'FC4', 'FC5', 'FC6', 'FCz', 'FT7', 'FT8', 'Fp1', 'Fp2', 'Fpz', 'Fz', 'Iz', 'O1', 'O2', 'Oz', 'P1', 'P10', 'P2', 'P3', 'P4', 'P5', 'P6', 'P7', 'P8', 'P9', 'PO3', 'PO4', 'PO7', 'PO8', 'POz', 'Pz', 'T7', 'T8', 'TP7', 'TP8'\n",
      "  raw = read_raw_bids(bids_path)\n",
      "/var/folders/m6/tws1p1s95hq4nqmf8vg1ncch0000gn/T/ipykernel_41516/3921119066.py:7: RuntimeWarning: There are channels without locations (n/a) that are not marked as bad: [\"'EXG1'\", \"'EXG2'\", \"'EXG3'\", \"'EXG4'\", \"'EXG5'\", \"'EXG6'\", \"'EXG7'\", \"'EXG8'\"]\n",
      "  raw = read_raw_bids(bids_path)\n",
      "/var/folders/m6/tws1p1s95hq4nqmf8vg1ncch0000gn/T/ipykernel_41516/3921119066.py:7: RuntimeWarning: DigMontage is only a subset of info. There are 72 channel positions not present in the DigMontage. The channels missing from the montage are:\n",
      "\n",
      "['Fp1', 'AF7', 'AF3', 'F1', 'F3', 'F5', 'F7', 'FT7', 'FC5', 'FC3', 'FC1', 'C1', 'C3', 'C5', 'T7', 'TP7', 'CP5', 'CP3', 'CP1', 'P1', 'P3', 'P5', 'P7', 'P9', 'PO7', 'PO3', 'O1', 'Iz', 'Oz', 'POz', 'Pz', 'CPz', 'Fpz', 'Fp2', 'AF8', 'AF4', 'AFz', 'Fz', 'F2', 'F4', 'F6', 'F8', 'FT8', 'FC6', 'FC4', 'FC2', 'FCz', 'Cz', 'C2', 'C4', 'C6', 'T8', 'TP8', 'CP6', 'CP4', 'CP2', 'P2', 'P4', 'P6', 'P8', 'P10', 'PO8', 'PO4', 'O2', 'EXG1', 'EXG2', 'EXG3', 'EXG4', 'EXG5', 'EXG6', 'EXG7', 'EXG8'].\n",
      "\n",
      "Consider using inst.rename_channels to match the montage nomenclature, or inst.set_channel_types if these are not EEG channels, or use the on_missing parameter if the channel positions are allowed to be unknown in your analyses.\n",
      "  raw = read_raw_bids(bids_path)\n"
     ]
    },
    {
     "name": "stdout",
     "output_type": "stream",
     "text": [
      "Filtering raw data in 1 contiguous segment\n",
      "Setting up band-pass filter from 0.05 - 50 Hz\n",
      "\n",
      "FIR filter parameters\n",
      "---------------------\n",
      "Designing a one-pass, zero-phase, non-causal bandpass filter:\n",
      "- Windowed time-domain design (firwin) method\n",
      "- Hamming window with 0.0194 passband ripple and 53 dB stopband attenuation\n",
      "- Lower passband edge: 0.05\n",
      "- Lower transition bandwidth: 0.05 Hz (-6 dB cutoff frequency: 0.03 Hz)\n",
      "- Upper passband edge: 50.00 Hz\n",
      "- Upper transition bandwidth: 12.50 Hz (-6 dB cutoff frequency: 56.25 Hz)\n",
      "- Filter length: 33793 samples (66.002 s)\n",
      "\n"
     ]
    },
    {
     "name": "stderr",
     "output_type": "stream",
     "text": [
      "[Parallel(n_jobs=1)]: Done  17 tasks      | elapsed:    0.4s\n"
     ]
    },
    {
     "name": "stdout",
     "output_type": "stream",
     "text": [
      "Fitting ICA to data using 64 channels (please be patient, this may take a while)\n",
      "Selecting by number: 20 components\n",
      "Fitting ICA took 73.3s.\n"
     ]
    },
    {
     "name": "stderr",
     "output_type": "stream",
     "text": [
      "/var/folders/m6/tws1p1s95hq4nqmf8vg1ncch0000gn/T/ipykernel_41516/2578086535.py:8: RuntimeWarning: The provided Raw instance does not seem to be referenced to a common average reference (CAR). ICLabel was designed to classify features extracted from an EEG dataset referenced to a CAR (see the 'set_eeg_reference()' method for Raw and Epochs instances).\n",
      "  ic_labels = label_components(raw, ica, method='iclabel')\n",
      "/var/folders/m6/tws1p1s95hq4nqmf8vg1ncch0000gn/T/ipykernel_41516/2578086535.py:8: RuntimeWarning: The provided Raw instance is not filtered between 1 and 100 Hz. ICLabel was designed to classify features extracted from an EEG dataset bandpass filtered between 1 and 100 Hz (see the 'filter()' method for Raw and Epochs instances).\n",
      "  ic_labels = label_components(raw, ica, method='iclabel')\n",
      "/var/folders/m6/tws1p1s95hq4nqmf8vg1ncch0000gn/T/ipykernel_41516/2578086535.py:8: RuntimeWarning: The provided ICA instance was fitted with a 'fastica' algorithm. ICLabel was designed with extended infomax ICA decompositions. To use the extended infomax algorithm, use the 'mne.preprocessing.ICA' instance with the arguments 'ICA(method='infomax', fit_params=dict(extended=True))' (scikit-learn) or 'ICA(method='picard', fit_params=dict(ortho=False, extended=True))' (python-picard).\n",
      "  ic_labels = label_components(raw, ica, method='iclabel')\n"
     ]
    },
    {
     "name": "stdout",
     "output_type": "stream",
     "text": [
      "Applying ICA to Raw instance\n",
      "    Transforming to ICA space (20 components)\n",
      "    Zeroing out 20 ICA components\n",
      "    Projecting back using 64 PCA components\n",
      "Trigger channel Status has a non-zero initial value of {initial_value} (consider using initial_event=True to detect this event)\n",
      "Removing orphaned offset at the beginning of the file.\n",
      "160 events found on stim channel Status\n",
      "Event IDs: [1 3]\n",
      "Not setting metadata\n",
      "160 matching events found\n",
      "Setting baseline interval to [-0.19921875, 0.0] s\n",
      "Applying baseline correction (mode: mean)\n",
      "0 projection items activated\n",
      "Using data from preloaded Raw for 160 events and 615 original time points ...\n",
      "0 bad epochs dropped\n",
      "Applying baseline correction (mode: mean)\n",
      "Extracting EDF parameters from /Users/sammy/Documents/SP EEG/pro_bids/sub-004/eeg/sub-004_task-jacobsen_eeg.bdf...\n",
      "BDF file detected\n",
      "Setting channel info structure...\n",
      "Creating raw.info structure...\n",
      "Reading events from /Users/sammy/Documents/SP EEG/pro_bids/sub-004/eeg/sub-004_task-jacobsen_events.tsv.\n",
      "Reading channel info from /Users/sammy/Documents/SP EEG/pro_bids/sub-004/eeg/sub-004_task-jacobsen_channels.tsv.\n",
      "Reading electrode coords from /Users/sammy/Documents/SP EEG/pro_bids/sub-004/eeg/sub-004_task-jacobsen_electrodes.tsv.\n",
      "Reading 0 ... 499199  =      0.000 ...   974.998 secs...\n"
     ]
    },
    {
     "name": "stderr",
     "output_type": "stream",
     "text": [
      "/var/folders/m6/tws1p1s95hq4nqmf8vg1ncch0000gn/T/ipykernel_41516/3921119066.py:7: RuntimeWarning: The number of channels in the channels.tsv sidecar file (72) does not match the number of channels in the raw data file (73). Will not try to set channel names.\n",
      "  raw = read_raw_bids(bids_path)\n",
      "/var/folders/m6/tws1p1s95hq4nqmf8vg1ncch0000gn/T/ipykernel_41516/3921119066.py:7: RuntimeWarning: Cannot set channel type for the following channels, as they are missing in the raw data: 'AF3', 'AF4', 'AF7', 'AF8', 'AFz', 'C1', 'C2', 'C3', 'C4', 'C5', 'C6', 'CP1', 'CP2', 'CP3', 'CP4', 'CP5', 'CP6', 'CPz', 'Cz', 'EXG1', 'EXG2', 'EXG3', 'EXG4', 'EXG5', 'EXG6', 'EXG7', 'EXG8', 'F1', 'F2', 'F3', 'F4', 'F5', 'F6', 'F7', 'F8', 'FC1', 'FC2', 'FC3', 'FC4', 'FC5', 'FC6', 'FCz', 'FT7', 'FT8', 'Fp1', 'Fp2', 'Fpz', 'Fz', 'Iz', 'O1', 'O2', 'Oz', 'P1', 'P10', 'P2', 'P3', 'P4', 'P5', 'P6', 'P7', 'P8', 'P9', 'PO3', 'PO4', 'PO7', 'PO8', 'POz', 'Pz', 'T7', 'T8', 'TP7', 'TP8'\n",
      "  raw = read_raw_bids(bids_path)\n",
      "/var/folders/m6/tws1p1s95hq4nqmf8vg1ncch0000gn/T/ipykernel_41516/3921119066.py:7: RuntimeWarning: There are channels without locations (n/a) that are not marked as bad: [\"'EXG1'\", \"'EXG2'\", \"'EXG3'\", \"'EXG4'\", \"'EXG5'\", \"'EXG6'\", \"'EXG7'\", \"'EXG8'\"]\n",
      "  raw = read_raw_bids(bids_path)\n",
      "/var/folders/m6/tws1p1s95hq4nqmf8vg1ncch0000gn/T/ipykernel_41516/3921119066.py:7: RuntimeWarning: DigMontage is only a subset of info. There are 72 channel positions not present in the DigMontage. The channels missing from the montage are:\n",
      "\n",
      "['Fp1', 'AF7', 'AF3', 'F1', 'F3', 'F5', 'F7', 'FT7', 'FC5', 'FC3', 'FC1', 'C1', 'C3', 'C5', 'T7', 'TP7', 'CP5', 'CP3', 'CP1', 'P1', 'P3', 'P5', 'P7', 'P9', 'PO7', 'PO3', 'O1', 'Iz', 'Oz', 'POz', 'Pz', 'CPz', 'Fpz', 'Fp2', 'AF8', 'AF4', 'AFz', 'Fz', 'F2', 'F4', 'F6', 'F8', 'FT8', 'FC6', 'FC4', 'FC2', 'FCz', 'Cz', 'C2', 'C4', 'C6', 'T8', 'TP8', 'CP6', 'CP4', 'CP2', 'P2', 'P4', 'P6', 'P8', 'P10', 'PO8', 'PO4', 'O2', 'EXG1', 'EXG2', 'EXG3', 'EXG4', 'EXG5', 'EXG6', 'EXG7', 'EXG8'].\n",
      "\n",
      "Consider using inst.rename_channels to match the montage nomenclature, or inst.set_channel_types if these are not EEG channels, or use the on_missing parameter if the channel positions are allowed to be unknown in your analyses.\n",
      "  raw = read_raw_bids(bids_path)\n"
     ]
    },
    {
     "name": "stdout",
     "output_type": "stream",
     "text": [
      "Filtering raw data in 1 contiguous segment\n",
      "Setting up band-pass filter from 0.05 - 50 Hz\n",
      "\n",
      "FIR filter parameters\n",
      "---------------------\n",
      "Designing a one-pass, zero-phase, non-causal bandpass filter:\n",
      "- Windowed time-domain design (firwin) method\n",
      "- Hamming window with 0.0194 passband ripple and 53 dB stopband attenuation\n",
      "- Lower passband edge: 0.05\n",
      "- Lower transition bandwidth: 0.05 Hz (-6 dB cutoff frequency: 0.03 Hz)\n",
      "- Upper passband edge: 50.00 Hz\n",
      "- Upper transition bandwidth: 12.50 Hz (-6 dB cutoff frequency: 56.25 Hz)\n",
      "- Filter length: 33793 samples (66.002 s)\n",
      "\n"
     ]
    },
    {
     "name": "stderr",
     "output_type": "stream",
     "text": [
      "[Parallel(n_jobs=1)]: Done  17 tasks      | elapsed:    0.3s\n"
     ]
    },
    {
     "name": "stdout",
     "output_type": "stream",
     "text": [
      "Fitting ICA to data using 64 channels (please be patient, this may take a while)\n",
      "Selecting by number: 20 components\n",
      "Fitting ICA took 13.3s.\n"
     ]
    },
    {
     "name": "stderr",
     "output_type": "stream",
     "text": [
      "/var/folders/m6/tws1p1s95hq4nqmf8vg1ncch0000gn/T/ipykernel_41516/2578086535.py:5: RuntimeWarning: Using n_components=20 (resulting in n_components_=20) may lead to an unstable mixing matrix estimation because the ratio between the largest (61) and smallest (3.8e-05) variances is too large (> 1e6); consider setting n_components=0.999999 or an integer <= 15\n",
      "  ica.fit(raw)\n",
      "/var/folders/m6/tws1p1s95hq4nqmf8vg1ncch0000gn/T/ipykernel_41516/2578086535.py:8: RuntimeWarning: The provided Raw instance does not seem to be referenced to a common average reference (CAR). ICLabel was designed to classify features extracted from an EEG dataset referenced to a CAR (see the 'set_eeg_reference()' method for Raw and Epochs instances).\n",
      "  ic_labels = label_components(raw, ica, method='iclabel')\n",
      "/var/folders/m6/tws1p1s95hq4nqmf8vg1ncch0000gn/T/ipykernel_41516/2578086535.py:8: RuntimeWarning: The provided Raw instance is not filtered between 1 and 100 Hz. ICLabel was designed to classify features extracted from an EEG dataset bandpass filtered between 1 and 100 Hz (see the 'filter()' method for Raw and Epochs instances).\n",
      "  ic_labels = label_components(raw, ica, method='iclabel')\n",
      "/var/folders/m6/tws1p1s95hq4nqmf8vg1ncch0000gn/T/ipykernel_41516/2578086535.py:8: RuntimeWarning: The provided ICA instance was fitted with a 'fastica' algorithm. ICLabel was designed with extended infomax ICA decompositions. To use the extended infomax algorithm, use the 'mne.preprocessing.ICA' instance with the arguments 'ICA(method='infomax', fit_params=dict(extended=True))' (scikit-learn) or 'ICA(method='picard', fit_params=dict(ortho=False, extended=True))' (python-picard).\n",
      "  ic_labels = label_components(raw, ica, method='iclabel')\n"
     ]
    },
    {
     "name": "stdout",
     "output_type": "stream",
     "text": [
      "Applying ICA to Raw instance\n",
      "    Transforming to ICA space (20 components)\n",
      "    Zeroing out 20 ICA components\n",
      "    Projecting back using 64 PCA components\n",
      "Trigger channel Status has a non-zero initial value of {initial_value} (consider using initial_event=True to detect this event)\n",
      "Removing orphaned offset at the beginning of the file.\n",
      "161 events found on stim channel Status\n",
      "Event IDs: [    1     3 65536]\n",
      "Not setting metadata\n",
      "160 matching events found\n",
      "Setting baseline interval to [-0.19921875, 0.0] s\n",
      "Applying baseline correction (mode: mean)\n",
      "0 projection items activated\n",
      "Using data from preloaded Raw for 160 events and 615 original time points ...\n",
      "0 bad epochs dropped\n",
      "Applying baseline correction (mode: mean)\n",
      "Extracting EDF parameters from /Users/sammy/Documents/SP EEG/pro_bids/sub-005/eeg/sub-005_task-jacobsen_eeg.bdf...\n",
      "BDF file detected\n",
      "Setting channel info structure...\n",
      "Creating raw.info structure...\n",
      "Reading events from /Users/sammy/Documents/SP EEG/pro_bids/sub-005/eeg/sub-005_task-jacobsen_events.tsv.\n",
      "Reading channel info from /Users/sammy/Documents/SP EEG/pro_bids/sub-005/eeg/sub-005_task-jacobsen_channels.tsv.\n",
      "Reading electrode coords from /Users/sammy/Documents/SP EEG/pro_bids/sub-005/eeg/sub-005_task-jacobsen_electrodes.tsv.\n",
      "Reading 0 ... 461311  =      0.000 ...   900.998 secs...\n"
     ]
    },
    {
     "name": "stderr",
     "output_type": "stream",
     "text": [
      "/var/folders/m6/tws1p1s95hq4nqmf8vg1ncch0000gn/T/ipykernel_41516/3921119066.py:7: RuntimeWarning: The number of channels in the channels.tsv sidecar file (72) does not match the number of channels in the raw data file (73). Will not try to set channel names.\n",
      "  raw = read_raw_bids(bids_path)\n",
      "/var/folders/m6/tws1p1s95hq4nqmf8vg1ncch0000gn/T/ipykernel_41516/3921119066.py:7: RuntimeWarning: Cannot set channel type for the following channels, as they are missing in the raw data: 'AF3', 'AF4', 'AF7', 'AF8', 'AFz', 'C1', 'C2', 'C3', 'C4', 'C5', 'C6', 'CP1', 'CP2', 'CP3', 'CP4', 'CP5', 'CP6', 'CPz', 'Cz', 'EXG1', 'EXG2', 'EXG3', 'EXG4', 'EXG5', 'EXG6', 'EXG7', 'EXG8', 'F1', 'F2', 'F3', 'F4', 'F5', 'F6', 'F7', 'F8', 'FC1', 'FC2', 'FC3', 'FC4', 'FC5', 'FC6', 'FCz', 'FT7', 'FT8', 'Fp1', 'Fp2', 'Fpz', 'Fz', 'Iz', 'O1', 'O2', 'Oz', 'P1', 'P10', 'P2', 'P3', 'P4', 'P5', 'P6', 'P7', 'P8', 'P9', 'PO3', 'PO4', 'PO7', 'PO8', 'POz', 'Pz', 'T7', 'T8', 'TP7', 'TP8'\n",
      "  raw = read_raw_bids(bids_path)\n",
      "/var/folders/m6/tws1p1s95hq4nqmf8vg1ncch0000gn/T/ipykernel_41516/3921119066.py:7: RuntimeWarning: There are channels without locations (n/a) that are not marked as bad: [\"'EXG1'\", \"'EXG2'\", \"'EXG3'\", \"'EXG4'\", \"'EXG5'\", \"'EXG6'\", \"'EXG7'\", \"'EXG8'\"]\n",
      "  raw = read_raw_bids(bids_path)\n",
      "/var/folders/m6/tws1p1s95hq4nqmf8vg1ncch0000gn/T/ipykernel_41516/3921119066.py:7: RuntimeWarning: DigMontage is only a subset of info. There are 72 channel positions not present in the DigMontage. The channels missing from the montage are:\n",
      "\n",
      "['Fp1', 'AF7', 'AF3', 'F1', 'F3', 'F5', 'F7', 'FT7', 'FC5', 'FC3', 'FC1', 'C1', 'C3', 'C5', 'T7', 'TP7', 'CP5', 'CP3', 'CP1', 'P1', 'P3', 'P5', 'P7', 'P9', 'PO7', 'PO3', 'O1', 'Iz', 'Oz', 'POz', 'Pz', 'CPz', 'Fpz', 'Fp2', 'AF8', 'AF4', 'AFz', 'Fz', 'F2', 'F4', 'F6', 'F8', 'FT8', 'FC6', 'FC4', 'FC2', 'FCz', 'Cz', 'C2', 'C4', 'C6', 'T8', 'TP8', 'CP6', 'CP4', 'CP2', 'P2', 'P4', 'P6', 'P8', 'P10', 'PO8', 'PO4', 'O2', 'EXG1', 'EXG2', 'EXG3', 'EXG4', 'EXG5', 'EXG6', 'EXG7', 'EXG8'].\n",
      "\n",
      "Consider using inst.rename_channels to match the montage nomenclature, or inst.set_channel_types if these are not EEG channels, or use the on_missing parameter if the channel positions are allowed to be unknown in your analyses.\n",
      "  raw = read_raw_bids(bids_path)\n"
     ]
    },
    {
     "name": "stdout",
     "output_type": "stream",
     "text": [
      "Filtering raw data in 1 contiguous segment\n",
      "Setting up band-pass filter from 0.05 - 50 Hz\n",
      "\n",
      "FIR filter parameters\n",
      "---------------------\n",
      "Designing a one-pass, zero-phase, non-causal bandpass filter:\n",
      "- Windowed time-domain design (firwin) method\n",
      "- Hamming window with 0.0194 passband ripple and 53 dB stopband attenuation\n",
      "- Lower passband edge: 0.05\n",
      "- Lower transition bandwidth: 0.05 Hz (-6 dB cutoff frequency: 0.03 Hz)\n",
      "- Upper passband edge: 50.00 Hz\n",
      "- Upper transition bandwidth: 12.50 Hz (-6 dB cutoff frequency: 56.25 Hz)\n",
      "- Filter length: 33793 samples (66.002 s)\n",
      "\n"
     ]
    },
    {
     "name": "stderr",
     "output_type": "stream",
     "text": [
      "[Parallel(n_jobs=1)]: Done  17 tasks      | elapsed:    0.3s\n"
     ]
    },
    {
     "name": "stdout",
     "output_type": "stream",
     "text": [
      "Fitting ICA to data using 64 channels (please be patient, this may take a while)\n",
      "Selecting by number: 20 components\n",
      "Fitting ICA took 6.6s.\n"
     ]
    },
    {
     "name": "stderr",
     "output_type": "stream",
     "text": [
      "/var/folders/m6/tws1p1s95hq4nqmf8vg1ncch0000gn/T/ipykernel_41516/2578086535.py:8: RuntimeWarning: The provided Raw instance does not seem to be referenced to a common average reference (CAR). ICLabel was designed to classify features extracted from an EEG dataset referenced to a CAR (see the 'set_eeg_reference()' method for Raw and Epochs instances).\n",
      "  ic_labels = label_components(raw, ica, method='iclabel')\n",
      "/var/folders/m6/tws1p1s95hq4nqmf8vg1ncch0000gn/T/ipykernel_41516/2578086535.py:8: RuntimeWarning: The provided Raw instance is not filtered between 1 and 100 Hz. ICLabel was designed to classify features extracted from an EEG dataset bandpass filtered between 1 and 100 Hz (see the 'filter()' method for Raw and Epochs instances).\n",
      "  ic_labels = label_components(raw, ica, method='iclabel')\n",
      "/var/folders/m6/tws1p1s95hq4nqmf8vg1ncch0000gn/T/ipykernel_41516/2578086535.py:8: RuntimeWarning: The provided ICA instance was fitted with a 'fastica' algorithm. ICLabel was designed with extended infomax ICA decompositions. To use the extended infomax algorithm, use the 'mne.preprocessing.ICA' instance with the arguments 'ICA(method='infomax', fit_params=dict(extended=True))' (scikit-learn) or 'ICA(method='picard', fit_params=dict(ortho=False, extended=True))' (python-picard).\n",
      "  ic_labels = label_components(raw, ica, method='iclabel')\n"
     ]
    },
    {
     "name": "stdout",
     "output_type": "stream",
     "text": [
      "Applying ICA to Raw instance\n",
      "    Transforming to ICA space (20 components)\n",
      "    Zeroing out 20 ICA components\n",
      "    Projecting back using 64 PCA components\n",
      "Trigger channel Status has a non-zero initial value of {initial_value} (consider using initial_event=True to detect this event)\n",
      "Removing orphaned offset at the beginning of the file.\n",
      "160 events found on stim channel Status\n",
      "Event IDs: [1 3]\n",
      "Not setting metadata\n",
      "160 matching events found\n",
      "Setting baseline interval to [-0.19921875, 0.0] s\n",
      "Applying baseline correction (mode: mean)\n",
      "0 projection items activated\n",
      "Using data from preloaded Raw for 160 events and 615 original time points ...\n",
      "0 bad epochs dropped\n",
      "Applying baseline correction (mode: mean)\n",
      "Extracting EDF parameters from /Users/sammy/Documents/SP EEG/pro_bids/sub-006/eeg/sub-006_task-jacobsen_eeg.bdf...\n",
      "BDF file detected\n",
      "Setting channel info structure...\n",
      "Creating raw.info structure...\n",
      "Reading events from /Users/sammy/Documents/SP EEG/pro_bids/sub-006/eeg/sub-006_task-jacobsen_events.tsv.\n",
      "Reading channel info from /Users/sammy/Documents/SP EEG/pro_bids/sub-006/eeg/sub-006_task-jacobsen_channels.tsv.\n",
      "Reading electrode coords from /Users/sammy/Documents/SP EEG/pro_bids/sub-006/eeg/sub-006_task-jacobsen_electrodes.tsv.\n",
      "Reading 0 ... 481279  =      0.000 ...   939.998 secs...\n"
     ]
    },
    {
     "name": "stderr",
     "output_type": "stream",
     "text": [
      "/var/folders/m6/tws1p1s95hq4nqmf8vg1ncch0000gn/T/ipykernel_41516/3921119066.py:7: RuntimeWarning: The number of channels in the channels.tsv sidecar file (72) does not match the number of channels in the raw data file (73). Will not try to set channel names.\n",
      "  raw = read_raw_bids(bids_path)\n",
      "/var/folders/m6/tws1p1s95hq4nqmf8vg1ncch0000gn/T/ipykernel_41516/3921119066.py:7: RuntimeWarning: Cannot set channel type for the following channels, as they are missing in the raw data: 'AF3', 'AF4', 'AF7', 'AF8', 'AFz', 'C1', 'C2', 'C3', 'C4', 'C5', 'C6', 'CP1', 'CP2', 'CP3', 'CP4', 'CP5', 'CP6', 'CPz', 'Cz', 'EXG1', 'EXG2', 'EXG3', 'EXG4', 'EXG5', 'EXG6', 'EXG7', 'EXG8', 'F1', 'F2', 'F3', 'F4', 'F5', 'F6', 'F7', 'F8', 'FC1', 'FC2', 'FC3', 'FC4', 'FC5', 'FC6', 'FCz', 'FT7', 'FT8', 'Fp1', 'Fp2', 'Fpz', 'Fz', 'Iz', 'O1', 'O2', 'Oz', 'P1', 'P10', 'P2', 'P3', 'P4', 'P5', 'P6', 'P7', 'P8', 'P9', 'PO3', 'PO4', 'PO7', 'PO8', 'POz', 'Pz', 'T7', 'T8', 'TP7', 'TP8'\n",
      "  raw = read_raw_bids(bids_path)\n",
      "/var/folders/m6/tws1p1s95hq4nqmf8vg1ncch0000gn/T/ipykernel_41516/3921119066.py:7: RuntimeWarning: There are channels without locations (n/a) that are not marked as bad: [\"'EXG1'\", \"'EXG2'\", \"'EXG3'\", \"'EXG4'\", \"'EXG5'\", \"'EXG6'\", \"'EXG7'\", \"'EXG8'\"]\n",
      "  raw = read_raw_bids(bids_path)\n",
      "/var/folders/m6/tws1p1s95hq4nqmf8vg1ncch0000gn/T/ipykernel_41516/3921119066.py:7: RuntimeWarning: DigMontage is only a subset of info. There are 72 channel positions not present in the DigMontage. The channels missing from the montage are:\n",
      "\n",
      "['Fp1', 'AF7', 'AF3', 'F1', 'F3', 'F5', 'F7', 'FT7', 'FC5', 'FC3', 'FC1', 'C1', 'C3', 'C5', 'T7', 'TP7', 'CP5', 'CP3', 'CP1', 'P1', 'P3', 'P5', 'P7', 'P9', 'PO7', 'PO3', 'O1', 'Iz', 'Oz', 'POz', 'Pz', 'CPz', 'Fpz', 'Fp2', 'AF8', 'AF4', 'AFz', 'Fz', 'F2', 'F4', 'F6', 'F8', 'FT8', 'FC6', 'FC4', 'FC2', 'FCz', 'Cz', 'C2', 'C4', 'C6', 'T8', 'TP8', 'CP6', 'CP4', 'CP2', 'P2', 'P4', 'P6', 'P8', 'P10', 'PO8', 'PO4', 'O2', 'EXG1', 'EXG2', 'EXG3', 'EXG4', 'EXG5', 'EXG6', 'EXG7', 'EXG8'].\n",
      "\n",
      "Consider using inst.rename_channels to match the montage nomenclature, or inst.set_channel_types if these are not EEG channels, or use the on_missing parameter if the channel positions are allowed to be unknown in your analyses.\n",
      "  raw = read_raw_bids(bids_path)\n"
     ]
    },
    {
     "name": "stdout",
     "output_type": "stream",
     "text": [
      "Filtering raw data in 1 contiguous segment\n",
      "Setting up band-pass filter from 0.05 - 50 Hz\n",
      "\n",
      "FIR filter parameters\n",
      "---------------------\n",
      "Designing a one-pass, zero-phase, non-causal bandpass filter:\n",
      "- Windowed time-domain design (firwin) method\n",
      "- Hamming window with 0.0194 passband ripple and 53 dB stopband attenuation\n",
      "- Lower passband edge: 0.05\n",
      "- Lower transition bandwidth: 0.05 Hz (-6 dB cutoff frequency: 0.03 Hz)\n",
      "- Upper passband edge: 50.00 Hz\n",
      "- Upper transition bandwidth: 12.50 Hz (-6 dB cutoff frequency: 56.25 Hz)\n",
      "- Filter length: 33793 samples (66.002 s)\n",
      "\n"
     ]
    },
    {
     "name": "stderr",
     "output_type": "stream",
     "text": [
      "[Parallel(n_jobs=1)]: Done  17 tasks      | elapsed:    0.3s\n"
     ]
    },
    {
     "name": "stdout",
     "output_type": "stream",
     "text": [
      "Fitting ICA to data using 64 channels (please be patient, this may take a while)\n",
      "Selecting by number: 20 components\n",
      "Fitting ICA took 10.4s.\n"
     ]
    },
    {
     "name": "stderr",
     "output_type": "stream",
     "text": [
      "/var/folders/m6/tws1p1s95hq4nqmf8vg1ncch0000gn/T/ipykernel_41516/2578086535.py:8: RuntimeWarning: The provided Raw instance does not seem to be referenced to a common average reference (CAR). ICLabel was designed to classify features extracted from an EEG dataset referenced to a CAR (see the 'set_eeg_reference()' method for Raw and Epochs instances).\n",
      "  ic_labels = label_components(raw, ica, method='iclabel')\n",
      "/var/folders/m6/tws1p1s95hq4nqmf8vg1ncch0000gn/T/ipykernel_41516/2578086535.py:8: RuntimeWarning: The provided Raw instance is not filtered between 1 and 100 Hz. ICLabel was designed to classify features extracted from an EEG dataset bandpass filtered between 1 and 100 Hz (see the 'filter()' method for Raw and Epochs instances).\n",
      "  ic_labels = label_components(raw, ica, method='iclabel')\n",
      "/var/folders/m6/tws1p1s95hq4nqmf8vg1ncch0000gn/T/ipykernel_41516/2578086535.py:8: RuntimeWarning: The provided ICA instance was fitted with a 'fastica' algorithm. ICLabel was designed with extended infomax ICA decompositions. To use the extended infomax algorithm, use the 'mne.preprocessing.ICA' instance with the arguments 'ICA(method='infomax', fit_params=dict(extended=True))' (scikit-learn) or 'ICA(method='picard', fit_params=dict(ortho=False, extended=True))' (python-picard).\n",
      "  ic_labels = label_components(raw, ica, method='iclabel')\n"
     ]
    },
    {
     "name": "stdout",
     "output_type": "stream",
     "text": [
      "Applying ICA to Raw instance\n",
      "    Transforming to ICA space (20 components)\n",
      "    Zeroing out 20 ICA components\n",
      "    Projecting back using 64 PCA components\n",
      "Trigger channel Status has a non-zero initial value of {initial_value} (consider using initial_event=True to detect this event)\n",
      "Removing orphaned offset at the beginning of the file.\n",
      "160 events found on stim channel Status\n",
      "Event IDs: [1 3]\n",
      "Not setting metadata\n",
      "160 matching events found\n",
      "Setting baseline interval to [-0.19921875, 0.0] s\n",
      "Applying baseline correction (mode: mean)\n",
      "0 projection items activated\n",
      "Using data from preloaded Raw for 160 events and 615 original time points ...\n",
      "0 bad epochs dropped\n",
      "Applying baseline correction (mode: mean)\n",
      "Extracting EDF parameters from /Users/sammy/Documents/SP EEG/pro_bids/sub-007/eeg/sub-007_task-jacobsen_eeg.bdf...\n",
      "BDF file detected\n",
      "Setting channel info structure...\n",
      "Creating raw.info structure...\n",
      "Reading events from /Users/sammy/Documents/SP EEG/pro_bids/sub-007/eeg/sub-007_task-jacobsen_events.tsv.\n",
      "Reading channel info from /Users/sammy/Documents/SP EEG/pro_bids/sub-007/eeg/sub-007_task-jacobsen_channels.tsv.\n",
      "Reading electrode coords from /Users/sammy/Documents/SP EEG/pro_bids/sub-007/eeg/sub-007_task-jacobsen_electrodes.tsv.\n",
      "Reading 0 ... 435711  =      0.000 ...   850.998 secs...\n"
     ]
    },
    {
     "name": "stderr",
     "output_type": "stream",
     "text": [
      "/var/folders/m6/tws1p1s95hq4nqmf8vg1ncch0000gn/T/ipykernel_41516/3921119066.py:7: RuntimeWarning: The number of channels in the channels.tsv sidecar file (72) does not match the number of channels in the raw data file (73). Will not try to set channel names.\n",
      "  raw = read_raw_bids(bids_path)\n",
      "/var/folders/m6/tws1p1s95hq4nqmf8vg1ncch0000gn/T/ipykernel_41516/3921119066.py:7: RuntimeWarning: Cannot set channel type for the following channels, as they are missing in the raw data: 'AF3', 'AF4', 'AF7', 'AF8', 'AFz', 'C1', 'C2', 'C3', 'C4', 'C5', 'C6', 'CP1', 'CP2', 'CP3', 'CP4', 'CP5', 'CP6', 'CPz', 'Cz', 'EXG1', 'EXG2', 'EXG3', 'EXG4', 'EXG5', 'EXG6', 'EXG7', 'EXG8', 'F1', 'F2', 'F3', 'F4', 'F5', 'F6', 'F7', 'F8', 'FC1', 'FC2', 'FC3', 'FC4', 'FC5', 'FC6', 'FCz', 'FT7', 'FT8', 'Fp1', 'Fp2', 'Fpz', 'Fz', 'Iz', 'O1', 'O2', 'Oz', 'P1', 'P10', 'P2', 'P3', 'P4', 'P5', 'P6', 'P7', 'P8', 'P9', 'PO3', 'PO4', 'PO7', 'PO8', 'POz', 'Pz', 'T7', 'T8', 'TP7', 'TP8'\n",
      "  raw = read_raw_bids(bids_path)\n",
      "/var/folders/m6/tws1p1s95hq4nqmf8vg1ncch0000gn/T/ipykernel_41516/3921119066.py:7: RuntimeWarning: There are channels without locations (n/a) that are not marked as bad: [\"'EXG1'\", \"'EXG2'\", \"'EXG3'\", \"'EXG4'\", \"'EXG5'\", \"'EXG6'\", \"'EXG7'\", \"'EXG8'\"]\n",
      "  raw = read_raw_bids(bids_path)\n",
      "/var/folders/m6/tws1p1s95hq4nqmf8vg1ncch0000gn/T/ipykernel_41516/3921119066.py:7: RuntimeWarning: DigMontage is only a subset of info. There are 72 channel positions not present in the DigMontage. The channels missing from the montage are:\n",
      "\n",
      "['Fp1', 'AF7', 'AF3', 'F1', 'F3', 'F5', 'F7', 'FT7', 'FC5', 'FC3', 'FC1', 'C1', 'C3', 'C5', 'T7', 'TP7', 'CP5', 'CP3', 'CP1', 'P1', 'P3', 'P5', 'P7', 'P9', 'PO7', 'PO3', 'O1', 'Iz', 'Oz', 'POz', 'Pz', 'CPz', 'Fpz', 'Fp2', 'AF8', 'AF4', 'AFz', 'Fz', 'F2', 'F4', 'F6', 'F8', 'FT8', 'FC6', 'FC4', 'FC2', 'FCz', 'Cz', 'C2', 'C4', 'C6', 'T8', 'TP8', 'CP6', 'CP4', 'CP2', 'P2', 'P4', 'P6', 'P8', 'P10', 'PO8', 'PO4', 'O2', 'EXG1', 'EXG2', 'EXG3', 'EXG4', 'EXG5', 'EXG6', 'EXG7', 'EXG8'].\n",
      "\n",
      "Consider using inst.rename_channels to match the montage nomenclature, or inst.set_channel_types if these are not EEG channels, or use the on_missing parameter if the channel positions are allowed to be unknown in your analyses.\n",
      "  raw = read_raw_bids(bids_path)\n"
     ]
    },
    {
     "name": "stdout",
     "output_type": "stream",
     "text": [
      "Filtering raw data in 1 contiguous segment\n",
      "Setting up band-pass filter from 0.05 - 50 Hz\n",
      "\n",
      "FIR filter parameters\n",
      "---------------------\n",
      "Designing a one-pass, zero-phase, non-causal bandpass filter:\n",
      "- Windowed time-domain design (firwin) method\n",
      "- Hamming window with 0.0194 passband ripple and 53 dB stopband attenuation\n",
      "- Lower passband edge: 0.05\n",
      "- Lower transition bandwidth: 0.05 Hz (-6 dB cutoff frequency: 0.03 Hz)\n",
      "- Upper passband edge: 50.00 Hz\n",
      "- Upper transition bandwidth: 12.50 Hz (-6 dB cutoff frequency: 56.25 Hz)\n",
      "- Filter length: 33793 samples (66.002 s)\n",
      "\n"
     ]
    },
    {
     "name": "stderr",
     "output_type": "stream",
     "text": [
      "[Parallel(n_jobs=1)]: Done  17 tasks      | elapsed:    0.3s\n"
     ]
    },
    {
     "name": "stdout",
     "output_type": "stream",
     "text": [
      "Fitting ICA to data using 64 channels (please be patient, this may take a while)\n",
      "Selecting by number: 20 components\n",
      "Fitting ICA took 17.7s.\n"
     ]
    },
    {
     "name": "stderr",
     "output_type": "stream",
     "text": [
      "/var/folders/m6/tws1p1s95hq4nqmf8vg1ncch0000gn/T/ipykernel_41516/2578086535.py:8: RuntimeWarning: The provided Raw instance does not seem to be referenced to a common average reference (CAR). ICLabel was designed to classify features extracted from an EEG dataset referenced to a CAR (see the 'set_eeg_reference()' method for Raw and Epochs instances).\n",
      "  ic_labels = label_components(raw, ica, method='iclabel')\n",
      "/var/folders/m6/tws1p1s95hq4nqmf8vg1ncch0000gn/T/ipykernel_41516/2578086535.py:8: RuntimeWarning: The provided Raw instance is not filtered between 1 and 100 Hz. ICLabel was designed to classify features extracted from an EEG dataset bandpass filtered between 1 and 100 Hz (see the 'filter()' method for Raw and Epochs instances).\n",
      "  ic_labels = label_components(raw, ica, method='iclabel')\n",
      "/var/folders/m6/tws1p1s95hq4nqmf8vg1ncch0000gn/T/ipykernel_41516/2578086535.py:8: RuntimeWarning: The provided ICA instance was fitted with a 'fastica' algorithm. ICLabel was designed with extended infomax ICA decompositions. To use the extended infomax algorithm, use the 'mne.preprocessing.ICA' instance with the arguments 'ICA(method='infomax', fit_params=dict(extended=True))' (scikit-learn) or 'ICA(method='picard', fit_params=dict(ortho=False, extended=True))' (python-picard).\n",
      "  ic_labels = label_components(raw, ica, method='iclabel')\n"
     ]
    },
    {
     "name": "stdout",
     "output_type": "stream",
     "text": [
      "Applying ICA to Raw instance\n",
      "    Transforming to ICA space (20 components)\n",
      "    Zeroing out 20 ICA components\n",
      "    Projecting back using 64 PCA components\n",
      "Trigger channel Status has a non-zero initial value of {initial_value} (consider using initial_event=True to detect this event)\n",
      "Removing orphaned offset at the beginning of the file.\n",
      "160 events found on stim channel Status\n",
      "Event IDs: [1 3]\n",
      "Not setting metadata\n",
      "160 matching events found\n",
      "Setting baseline interval to [-0.19921875, 0.0] s\n",
      "Applying baseline correction (mode: mean)\n",
      "0 projection items activated\n",
      "Using data from preloaded Raw for 160 events and 615 original time points ...\n",
      "0 bad epochs dropped\n",
      "Applying baseline correction (mode: mean)\n",
      "Extracting EDF parameters from /Users/sammy/Documents/SP EEG/pro_bids/sub-008/eeg/sub-008_task-jacobsen_eeg.bdf...\n",
      "BDF file detected\n",
      "Setting channel info structure...\n",
      "Creating raw.info structure...\n",
      "Reading events from /Users/sammy/Documents/SP EEG/pro_bids/sub-008/eeg/sub-008_task-jacobsen_events.tsv.\n",
      "Reading channel info from /Users/sammy/Documents/SP EEG/pro_bids/sub-008/eeg/sub-008_task-jacobsen_channels.tsv.\n",
      "Reading electrode coords from /Users/sammy/Documents/SP EEG/pro_bids/sub-008/eeg/sub-008_task-jacobsen_electrodes.tsv.\n",
      "Reading 0 ... 520191  =      0.000 ...  1015.998 secs...\n"
     ]
    },
    {
     "name": "stderr",
     "output_type": "stream",
     "text": [
      "/var/folders/m6/tws1p1s95hq4nqmf8vg1ncch0000gn/T/ipykernel_41516/3921119066.py:7: RuntimeWarning: The number of channels in the channels.tsv sidecar file (72) does not match the number of channels in the raw data file (73). Will not try to set channel names.\n",
      "  raw = read_raw_bids(bids_path)\n",
      "/var/folders/m6/tws1p1s95hq4nqmf8vg1ncch0000gn/T/ipykernel_41516/3921119066.py:7: RuntimeWarning: Cannot set channel type for the following channels, as they are missing in the raw data: 'AF3', 'AF4', 'AF7', 'AF8', 'AFz', 'C1', 'C2', 'C3', 'C4', 'C5', 'C6', 'CP1', 'CP2', 'CP3', 'CP4', 'CP5', 'CP6', 'CPz', 'Cz', 'EXG1', 'EXG2', 'EXG3', 'EXG4', 'EXG5', 'EXG6', 'EXG7', 'EXG8', 'F1', 'F2', 'F3', 'F4', 'F5', 'F6', 'F7', 'F8', 'FC1', 'FC2', 'FC3', 'FC4', 'FC5', 'FC6', 'FCz', 'FT7', 'FT8', 'Fp1', 'Fp2', 'Fpz', 'Fz', 'Iz', 'O1', 'O2', 'Oz', 'P1', 'P10', 'P2', 'P3', 'P4', 'P5', 'P6', 'P7', 'P8', 'P9', 'PO3', 'PO4', 'PO7', 'PO8', 'POz', 'Pz', 'T7', 'T8', 'TP7', 'TP8'\n",
      "  raw = read_raw_bids(bids_path)\n",
      "/var/folders/m6/tws1p1s95hq4nqmf8vg1ncch0000gn/T/ipykernel_41516/3921119066.py:7: RuntimeWarning: There are channels without locations (n/a) that are not marked as bad: [\"'EXG1'\", \"'EXG2'\", \"'EXG3'\", \"'EXG4'\", \"'EXG5'\", \"'EXG6'\", \"'EXG7'\", \"'EXG8'\"]\n",
      "  raw = read_raw_bids(bids_path)\n",
      "/var/folders/m6/tws1p1s95hq4nqmf8vg1ncch0000gn/T/ipykernel_41516/3921119066.py:7: RuntimeWarning: DigMontage is only a subset of info. There are 72 channel positions not present in the DigMontage. The channels missing from the montage are:\n",
      "\n",
      "['Fp1', 'AF7', 'AF3', 'F1', 'F3', 'F5', 'F7', 'FT7', 'FC5', 'FC3', 'FC1', 'C1', 'C3', 'C5', 'T7', 'TP7', 'CP5', 'CP3', 'CP1', 'P1', 'P3', 'P5', 'P7', 'P9', 'PO7', 'PO3', 'O1', 'Iz', 'Oz', 'POz', 'Pz', 'CPz', 'Fpz', 'Fp2', 'AF8', 'AF4', 'AFz', 'Fz', 'F2', 'F4', 'F6', 'F8', 'FT8', 'FC6', 'FC4', 'FC2', 'FCz', 'Cz', 'C2', 'C4', 'C6', 'T8', 'TP8', 'CP6', 'CP4', 'CP2', 'P2', 'P4', 'P6', 'P8', 'P10', 'PO8', 'PO4', 'O2', 'EXG1', 'EXG2', 'EXG3', 'EXG4', 'EXG5', 'EXG6', 'EXG7', 'EXG8'].\n",
      "\n",
      "Consider using inst.rename_channels to match the montage nomenclature, or inst.set_channel_types if these are not EEG channels, or use the on_missing parameter if the channel positions are allowed to be unknown in your analyses.\n",
      "  raw = read_raw_bids(bids_path)\n"
     ]
    },
    {
     "name": "stdout",
     "output_type": "stream",
     "text": [
      "Filtering raw data in 1 contiguous segment\n",
      "Setting up band-pass filter from 0.05 - 50 Hz\n",
      "\n",
      "FIR filter parameters\n",
      "---------------------\n",
      "Designing a one-pass, zero-phase, non-causal bandpass filter:\n",
      "- Windowed time-domain design (firwin) method\n",
      "- Hamming window with 0.0194 passband ripple and 53 dB stopband attenuation\n",
      "- Lower passband edge: 0.05\n",
      "- Lower transition bandwidth: 0.05 Hz (-6 dB cutoff frequency: 0.03 Hz)\n",
      "- Upper passband edge: 50.00 Hz\n",
      "- Upper transition bandwidth: 12.50 Hz (-6 dB cutoff frequency: 56.25 Hz)\n",
      "- Filter length: 33793 samples (66.002 s)\n",
      "\n"
     ]
    },
    {
     "name": "stderr",
     "output_type": "stream",
     "text": [
      "[Parallel(n_jobs=1)]: Done  17 tasks      | elapsed:    0.4s\n"
     ]
    },
    {
     "name": "stdout",
     "output_type": "stream",
     "text": [
      "Fitting ICA to data using 64 channels (please be patient, this may take a while)\n",
      "Selecting by number: 20 components\n",
      "Fitting ICA took 183.3s.\n"
     ]
    },
    {
     "name": "stderr",
     "output_type": "stream",
     "text": [
      "/opt/anaconda3/envs/mne_env/lib/python3.9/site-packages/sklearn/decomposition/_fastica.py:128: ConvergenceWarning: FastICA did not converge. Consider increasing tolerance or the maximum number of iterations.\n",
      "  warnings.warn(\n",
      "/var/folders/m6/tws1p1s95hq4nqmf8vg1ncch0000gn/T/ipykernel_41516/2578086535.py:8: RuntimeWarning: The provided Raw instance does not seem to be referenced to a common average reference (CAR). ICLabel was designed to classify features extracted from an EEG dataset referenced to a CAR (see the 'set_eeg_reference()' method for Raw and Epochs instances).\n",
      "  ic_labels = label_components(raw, ica, method='iclabel')\n",
      "/var/folders/m6/tws1p1s95hq4nqmf8vg1ncch0000gn/T/ipykernel_41516/2578086535.py:8: RuntimeWarning: The provided Raw instance is not filtered between 1 and 100 Hz. ICLabel was designed to classify features extracted from an EEG dataset bandpass filtered between 1 and 100 Hz (see the 'filter()' method for Raw and Epochs instances).\n",
      "  ic_labels = label_components(raw, ica, method='iclabel')\n",
      "/var/folders/m6/tws1p1s95hq4nqmf8vg1ncch0000gn/T/ipykernel_41516/2578086535.py:8: RuntimeWarning: The provided ICA instance was fitted with a 'fastica' algorithm. ICLabel was designed with extended infomax ICA decompositions. To use the extended infomax algorithm, use the 'mne.preprocessing.ICA' instance with the arguments 'ICA(method='infomax', fit_params=dict(extended=True))' (scikit-learn) or 'ICA(method='picard', fit_params=dict(ortho=False, extended=True))' (python-picard).\n",
      "  ic_labels = label_components(raw, ica, method='iclabel')\n"
     ]
    },
    {
     "name": "stdout",
     "output_type": "stream",
     "text": [
      "Applying ICA to Raw instance\n",
      "    Transforming to ICA space (20 components)\n",
      "    Zeroing out 20 ICA components\n",
      "    Projecting back using 64 PCA components\n",
      "Trigger channel Status has a non-zero initial value of {initial_value} (consider using initial_event=True to detect this event)\n",
      "Removing orphaned offset at the beginning of the file.\n",
      "160 events found on stim channel Status\n",
      "Event IDs: [1 3]\n",
      "Not setting metadata\n",
      "160 matching events found\n",
      "Setting baseline interval to [-0.19921875, 0.0] s\n",
      "Applying baseline correction (mode: mean)\n",
      "0 projection items activated\n",
      "Using data from preloaded Raw for 160 events and 615 original time points ...\n",
      "0 bad epochs dropped\n",
      "Applying baseline correction (mode: mean)\n",
      "Extracting EDF parameters from /Users/sammy/Documents/SP EEG/pro_bids/sub-009/eeg/sub-009_task-jacobsen_eeg.bdf...\n",
      "BDF file detected\n",
      "Setting channel info structure...\n",
      "Creating raw.info structure...\n",
      "Reading events from /Users/sammy/Documents/SP EEG/pro_bids/sub-009/eeg/sub-009_task-jacobsen_events.tsv.\n",
      "Reading channel info from /Users/sammy/Documents/SP EEG/pro_bids/sub-009/eeg/sub-009_task-jacobsen_channels.tsv.\n",
      "Reading electrode coords from /Users/sammy/Documents/SP EEG/pro_bids/sub-009/eeg/sub-009_task-jacobsen_electrodes.tsv.\n",
      "Reading 0 ... 444415  =      0.000 ...   867.998 secs...\n"
     ]
    },
    {
     "name": "stderr",
     "output_type": "stream",
     "text": [
      "/var/folders/m6/tws1p1s95hq4nqmf8vg1ncch0000gn/T/ipykernel_41516/3921119066.py:7: RuntimeWarning: The number of channels in the channels.tsv sidecar file (72) does not match the number of channels in the raw data file (73). Will not try to set channel names.\n",
      "  raw = read_raw_bids(bids_path)\n",
      "/var/folders/m6/tws1p1s95hq4nqmf8vg1ncch0000gn/T/ipykernel_41516/3921119066.py:7: RuntimeWarning: Cannot set channel type for the following channels, as they are missing in the raw data: 'AF3', 'AF4', 'AF7', 'AF8', 'AFz', 'C1', 'C2', 'C3', 'C4', 'C5', 'C6', 'CP1', 'CP2', 'CP3', 'CP4', 'CP5', 'CP6', 'CPz', 'Cz', 'EXG1', 'EXG2', 'EXG3', 'EXG4', 'EXG5', 'EXG6', 'EXG7', 'EXG8', 'F1', 'F2', 'F3', 'F4', 'F5', 'F6', 'F7', 'F8', 'FC1', 'FC2', 'FC3', 'FC4', 'FC5', 'FC6', 'FCz', 'FT7', 'FT8', 'Fp1', 'Fp2', 'Fpz', 'Fz', 'Iz', 'O1', 'O2', 'Oz', 'P1', 'P10', 'P2', 'P3', 'P4', 'P5', 'P6', 'P7', 'P8', 'P9', 'PO3', 'PO4', 'PO7', 'PO8', 'POz', 'Pz', 'T7', 'T8', 'TP7', 'TP8'\n",
      "  raw = read_raw_bids(bids_path)\n",
      "/var/folders/m6/tws1p1s95hq4nqmf8vg1ncch0000gn/T/ipykernel_41516/3921119066.py:7: RuntimeWarning: There are channels without locations (n/a) that are not marked as bad: [\"'EXG1'\", \"'EXG2'\", \"'EXG3'\", \"'EXG4'\", \"'EXG5'\", \"'EXG6'\", \"'EXG7'\", \"'EXG8'\"]\n",
      "  raw = read_raw_bids(bids_path)\n",
      "/var/folders/m6/tws1p1s95hq4nqmf8vg1ncch0000gn/T/ipykernel_41516/3921119066.py:7: RuntimeWarning: DigMontage is only a subset of info. There are 72 channel positions not present in the DigMontage. The channels missing from the montage are:\n",
      "\n",
      "['Fp1', 'AF7', 'AF3', 'F1', 'F3', 'F5', 'F7', 'FT7', 'FC5', 'FC3', 'FC1', 'C1', 'C3', 'C5', 'T7', 'TP7', 'CP5', 'CP3', 'CP1', 'P1', 'P3', 'P5', 'P7', 'P9', 'PO7', 'PO3', 'O1', 'Iz', 'Oz', 'POz', 'Pz', 'CPz', 'Fpz', 'Fp2', 'AF8', 'AF4', 'AFz', 'Fz', 'F2', 'F4', 'F6', 'F8', 'FT8', 'FC6', 'FC4', 'FC2', 'FCz', 'Cz', 'C2', 'C4', 'C6', 'T8', 'TP8', 'CP6', 'CP4', 'CP2', 'P2', 'P4', 'P6', 'P8', 'P10', 'PO8', 'PO4', 'O2', 'EXG1', 'EXG2', 'EXG3', 'EXG4', 'EXG5', 'EXG6', 'EXG7', 'EXG8'].\n",
      "\n",
      "Consider using inst.rename_channels to match the montage nomenclature, or inst.set_channel_types if these are not EEG channels, or use the on_missing parameter if the channel positions are allowed to be unknown in your analyses.\n",
      "  raw = read_raw_bids(bids_path)\n"
     ]
    },
    {
     "name": "stdout",
     "output_type": "stream",
     "text": [
      "Filtering raw data in 1 contiguous segment\n",
      "Setting up band-pass filter from 0.05 - 50 Hz\n",
      "\n",
      "FIR filter parameters\n",
      "---------------------\n",
      "Designing a one-pass, zero-phase, non-causal bandpass filter:\n",
      "- Windowed time-domain design (firwin) method\n",
      "- Hamming window with 0.0194 passband ripple and 53 dB stopband attenuation\n",
      "- Lower passband edge: 0.05\n",
      "- Lower transition bandwidth: 0.05 Hz (-6 dB cutoff frequency: 0.03 Hz)\n",
      "- Upper passband edge: 50.00 Hz\n",
      "- Upper transition bandwidth: 12.50 Hz (-6 dB cutoff frequency: 56.25 Hz)\n",
      "- Filter length: 33793 samples (66.002 s)\n",
      "\n"
     ]
    },
    {
     "name": "stderr",
     "output_type": "stream",
     "text": [
      "[Parallel(n_jobs=1)]: Done  17 tasks      | elapsed:    0.3s\n"
     ]
    },
    {
     "name": "stdout",
     "output_type": "stream",
     "text": [
      "Fitting ICA to data using 64 channels (please be patient, this may take a while)\n",
      "Selecting by number: 20 components\n",
      "Fitting ICA took 15.5s.\n"
     ]
    },
    {
     "name": "stderr",
     "output_type": "stream",
     "text": [
      "/var/folders/m6/tws1p1s95hq4nqmf8vg1ncch0000gn/T/ipykernel_41516/2578086535.py:8: RuntimeWarning: The provided Raw instance does not seem to be referenced to a common average reference (CAR). ICLabel was designed to classify features extracted from an EEG dataset referenced to a CAR (see the 'set_eeg_reference()' method for Raw and Epochs instances).\n",
      "  ic_labels = label_components(raw, ica, method='iclabel')\n",
      "/var/folders/m6/tws1p1s95hq4nqmf8vg1ncch0000gn/T/ipykernel_41516/2578086535.py:8: RuntimeWarning: The provided Raw instance is not filtered between 1 and 100 Hz. ICLabel was designed to classify features extracted from an EEG dataset bandpass filtered between 1 and 100 Hz (see the 'filter()' method for Raw and Epochs instances).\n",
      "  ic_labels = label_components(raw, ica, method='iclabel')\n",
      "/var/folders/m6/tws1p1s95hq4nqmf8vg1ncch0000gn/T/ipykernel_41516/2578086535.py:8: RuntimeWarning: The provided ICA instance was fitted with a 'fastica' algorithm. ICLabel was designed with extended infomax ICA decompositions. To use the extended infomax algorithm, use the 'mne.preprocessing.ICA' instance with the arguments 'ICA(method='infomax', fit_params=dict(extended=True))' (scikit-learn) or 'ICA(method='picard', fit_params=dict(ortho=False, extended=True))' (python-picard).\n",
      "  ic_labels = label_components(raw, ica, method='iclabel')\n"
     ]
    },
    {
     "name": "stdout",
     "output_type": "stream",
     "text": [
      "Applying ICA to Raw instance\n",
      "    Transforming to ICA space (20 components)\n",
      "    Zeroing out 20 ICA components\n",
      "    Projecting back using 64 PCA components\n",
      "Trigger channel Status has a non-zero initial value of {initial_value} (consider using initial_event=True to detect this event)\n",
      "Removing orphaned offset at the beginning of the file.\n",
      "160 events found on stim channel Status\n",
      "Event IDs: [1 3]\n",
      "Not setting metadata\n",
      "160 matching events found\n",
      "Setting baseline interval to [-0.19921875, 0.0] s\n",
      "Applying baseline correction (mode: mean)\n",
      "0 projection items activated\n",
      "Using data from preloaded Raw for 160 events and 615 original time points ...\n",
      "0 bad epochs dropped\n",
      "Applying baseline correction (mode: mean)\n",
      "Extracting EDF parameters from /Users/sammy/Documents/SP EEG/pro_bids/sub-010/eeg/sub-010_task-jacobsen_eeg.bdf...\n",
      "BDF file detected\n",
      "Setting channel info structure...\n",
      "Creating raw.info structure...\n",
      "Reading events from /Users/sammy/Documents/SP EEG/pro_bids/sub-010/eeg/sub-010_task-jacobsen_events.tsv.\n",
      "Reading channel info from /Users/sammy/Documents/SP EEG/pro_bids/sub-010/eeg/sub-010_task-jacobsen_channels.tsv.\n",
      "Reading electrode coords from /Users/sammy/Documents/SP EEG/pro_bids/sub-010/eeg/sub-010_task-jacobsen_electrodes.tsv.\n",
      "Reading 0 ... 454655  =      0.000 ...   887.998 secs...\n"
     ]
    },
    {
     "name": "stderr",
     "output_type": "stream",
     "text": [
      "/var/folders/m6/tws1p1s95hq4nqmf8vg1ncch0000gn/T/ipykernel_41516/3921119066.py:7: RuntimeWarning: The number of channels in the channels.tsv sidecar file (72) does not match the number of channels in the raw data file (73). Will not try to set channel names.\n",
      "  raw = read_raw_bids(bids_path)\n",
      "/var/folders/m6/tws1p1s95hq4nqmf8vg1ncch0000gn/T/ipykernel_41516/3921119066.py:7: RuntimeWarning: Cannot set channel type for the following channels, as they are missing in the raw data: 'AF3', 'AF4', 'AF7', 'AF8', 'AFz', 'C1', 'C2', 'C3', 'C4', 'C5', 'C6', 'CP1', 'CP2', 'CP3', 'CP4', 'CP5', 'CP6', 'CPz', 'Cz', 'EXG1', 'EXG2', 'EXG3', 'EXG4', 'EXG5', 'EXG6', 'EXG7', 'EXG8', 'F1', 'F2', 'F3', 'F4', 'F5', 'F6', 'F7', 'F8', 'FC1', 'FC2', 'FC3', 'FC4', 'FC5', 'FC6', 'FCz', 'FT7', 'FT8', 'Fp1', 'Fp2', 'Fpz', 'Fz', 'Iz', 'O1', 'O2', 'Oz', 'P1', 'P10', 'P2', 'P3', 'P4', 'P5', 'P6', 'P7', 'P8', 'P9', 'PO3', 'PO4', 'PO7', 'PO8', 'POz', 'Pz', 'T7', 'T8', 'TP7', 'TP8'\n",
      "  raw = read_raw_bids(bids_path)\n",
      "/var/folders/m6/tws1p1s95hq4nqmf8vg1ncch0000gn/T/ipykernel_41516/3921119066.py:7: RuntimeWarning: There are channels without locations (n/a) that are not marked as bad: [\"'EXG1'\", \"'EXG2'\", \"'EXG3'\", \"'EXG4'\", \"'EXG5'\", \"'EXG6'\", \"'EXG7'\", \"'EXG8'\"]\n",
      "  raw = read_raw_bids(bids_path)\n",
      "/var/folders/m6/tws1p1s95hq4nqmf8vg1ncch0000gn/T/ipykernel_41516/3921119066.py:7: RuntimeWarning: DigMontage is only a subset of info. There are 72 channel positions not present in the DigMontage. The channels missing from the montage are:\n",
      "\n",
      "['Fp1', 'AF7', 'AF3', 'F1', 'F3', 'F5', 'F7', 'FT7', 'FC5', 'FC3', 'FC1', 'C1', 'C3', 'C5', 'T7', 'TP7', 'CP5', 'CP3', 'CP1', 'P1', 'P3', 'P5', 'P7', 'P9', 'PO7', 'PO3', 'O1', 'Iz', 'Oz', 'POz', 'Pz', 'CPz', 'Fpz', 'Fp2', 'AF8', 'AF4', 'AFz', 'Fz', 'F2', 'F4', 'F6', 'F8', 'FT8', 'FC6', 'FC4', 'FC2', 'FCz', 'Cz', 'C2', 'C4', 'C6', 'T8', 'TP8', 'CP6', 'CP4', 'CP2', 'P2', 'P4', 'P6', 'P8', 'P10', 'PO8', 'PO4', 'O2', 'EXG1', 'EXG2', 'EXG3', 'EXG4', 'EXG5', 'EXG6', 'EXG7', 'EXG8'].\n",
      "\n",
      "Consider using inst.rename_channels to match the montage nomenclature, or inst.set_channel_types if these are not EEG channels, or use the on_missing parameter if the channel positions are allowed to be unknown in your analyses.\n",
      "  raw = read_raw_bids(bids_path)\n"
     ]
    },
    {
     "name": "stdout",
     "output_type": "stream",
     "text": [
      "Filtering raw data in 1 contiguous segment\n",
      "Setting up band-pass filter from 0.05 - 50 Hz\n",
      "\n",
      "FIR filter parameters\n",
      "---------------------\n",
      "Designing a one-pass, zero-phase, non-causal bandpass filter:\n",
      "- Windowed time-domain design (firwin) method\n",
      "- Hamming window with 0.0194 passband ripple and 53 dB stopband attenuation\n",
      "- Lower passband edge: 0.05\n",
      "- Lower transition bandwidth: 0.05 Hz (-6 dB cutoff frequency: 0.03 Hz)\n",
      "- Upper passband edge: 50.00 Hz\n",
      "- Upper transition bandwidth: 12.50 Hz (-6 dB cutoff frequency: 56.25 Hz)\n",
      "- Filter length: 33793 samples (66.002 s)\n",
      "\n"
     ]
    },
    {
     "name": "stderr",
     "output_type": "stream",
     "text": [
      "[Parallel(n_jobs=1)]: Done  17 tasks      | elapsed:    0.3s\n"
     ]
    },
    {
     "name": "stdout",
     "output_type": "stream",
     "text": [
      "Fitting ICA to data using 64 channels (please be patient, this may take a while)\n",
      "Selecting by number: 20 components\n",
      "Fitting ICA took 6.4s.\n"
     ]
    },
    {
     "name": "stderr",
     "output_type": "stream",
     "text": [
      "/var/folders/m6/tws1p1s95hq4nqmf8vg1ncch0000gn/T/ipykernel_41516/2578086535.py:8: RuntimeWarning: The provided Raw instance does not seem to be referenced to a common average reference (CAR). ICLabel was designed to classify features extracted from an EEG dataset referenced to a CAR (see the 'set_eeg_reference()' method for Raw and Epochs instances).\n",
      "  ic_labels = label_components(raw, ica, method='iclabel')\n",
      "/var/folders/m6/tws1p1s95hq4nqmf8vg1ncch0000gn/T/ipykernel_41516/2578086535.py:8: RuntimeWarning: The provided Raw instance is not filtered between 1 and 100 Hz. ICLabel was designed to classify features extracted from an EEG dataset bandpass filtered between 1 and 100 Hz (see the 'filter()' method for Raw and Epochs instances).\n",
      "  ic_labels = label_components(raw, ica, method='iclabel')\n",
      "/var/folders/m6/tws1p1s95hq4nqmf8vg1ncch0000gn/T/ipykernel_41516/2578086535.py:8: RuntimeWarning: The provided ICA instance was fitted with a 'fastica' algorithm. ICLabel was designed with extended infomax ICA decompositions. To use the extended infomax algorithm, use the 'mne.preprocessing.ICA' instance with the arguments 'ICA(method='infomax', fit_params=dict(extended=True))' (scikit-learn) or 'ICA(method='picard', fit_params=dict(ortho=False, extended=True))' (python-picard).\n",
      "  ic_labels = label_components(raw, ica, method='iclabel')\n"
     ]
    },
    {
     "name": "stdout",
     "output_type": "stream",
     "text": [
      "Applying ICA to Raw instance\n",
      "    Transforming to ICA space (20 components)\n",
      "    Zeroing out 20 ICA components\n",
      "    Projecting back using 64 PCA components\n",
      "Trigger channel Status has a non-zero initial value of {initial_value} (consider using initial_event=True to detect this event)\n",
      "Removing orphaned offset at the beginning of the file.\n",
      "160 events found on stim channel Status\n",
      "Event IDs: [1 3]\n",
      "Not setting metadata\n",
      "160 matching events found\n",
      "Setting baseline interval to [-0.19921875, 0.0] s\n",
      "Applying baseline correction (mode: mean)\n",
      "0 projection items activated\n",
      "Using data from preloaded Raw for 160 events and 615 original time points ...\n",
      "0 bad epochs dropped\n",
      "Applying baseline correction (mode: mean)\n",
      "Extracting EDF parameters from /Users/sammy/Documents/SP EEG/pro_bids/sub-011/eeg/sub-011_task-jacobsen_eeg.bdf...\n",
      "BDF file detected\n",
      "Setting channel info structure...\n",
      "Creating raw.info structure...\n",
      "Reading events from /Users/sammy/Documents/SP EEG/pro_bids/sub-011/eeg/sub-011_task-jacobsen_events.tsv.\n",
      "Reading channel info from /Users/sammy/Documents/SP EEG/pro_bids/sub-011/eeg/sub-011_task-jacobsen_channels.tsv.\n",
      "Reading electrode coords from /Users/sammy/Documents/SP EEG/pro_bids/sub-011/eeg/sub-011_task-jacobsen_electrodes.tsv.\n",
      "Reading 0 ... 483839  =      0.000 ...   944.998 secs...\n"
     ]
    },
    {
     "name": "stderr",
     "output_type": "stream",
     "text": [
      "/var/folders/m6/tws1p1s95hq4nqmf8vg1ncch0000gn/T/ipykernel_41516/3921119066.py:7: RuntimeWarning: The number of channels in the channels.tsv sidecar file (72) does not match the number of channels in the raw data file (73). Will not try to set channel names.\n",
      "  raw = read_raw_bids(bids_path)\n",
      "/var/folders/m6/tws1p1s95hq4nqmf8vg1ncch0000gn/T/ipykernel_41516/3921119066.py:7: RuntimeWarning: Cannot set channel type for the following channels, as they are missing in the raw data: 'AF3', 'AF4', 'AF7', 'AF8', 'AFz', 'C1', 'C2', 'C3', 'C4', 'C5', 'C6', 'CP1', 'CP2', 'CP3', 'CP4', 'CP5', 'CP6', 'CPz', 'Cz', 'EXG1', 'EXG2', 'EXG3', 'EXG4', 'EXG5', 'EXG6', 'EXG7', 'EXG8', 'F1', 'F2', 'F3', 'F4', 'F5', 'F6', 'F7', 'F8', 'FC1', 'FC2', 'FC3', 'FC4', 'FC5', 'FC6', 'FCz', 'FT7', 'FT8', 'Fp1', 'Fp2', 'Fpz', 'Fz', 'Iz', 'O1', 'O2', 'Oz', 'P1', 'P10', 'P2', 'P3', 'P4', 'P5', 'P6', 'P7', 'P8', 'P9', 'PO3', 'PO4', 'PO7', 'PO8', 'POz', 'Pz', 'T7', 'T8', 'TP7', 'TP8'\n",
      "  raw = read_raw_bids(bids_path)\n",
      "/var/folders/m6/tws1p1s95hq4nqmf8vg1ncch0000gn/T/ipykernel_41516/3921119066.py:7: RuntimeWarning: There are channels without locations (n/a) that are not marked as bad: [\"'EXG1'\", \"'EXG2'\", \"'EXG3'\", \"'EXG4'\", \"'EXG5'\", \"'EXG6'\", \"'EXG7'\", \"'EXG8'\"]\n",
      "  raw = read_raw_bids(bids_path)\n",
      "/var/folders/m6/tws1p1s95hq4nqmf8vg1ncch0000gn/T/ipykernel_41516/3921119066.py:7: RuntimeWarning: DigMontage is only a subset of info. There are 72 channel positions not present in the DigMontage. The channels missing from the montage are:\n",
      "\n",
      "['Fp1', 'AF7', 'AF3', 'F1', 'F3', 'F5', 'F7', 'FT7', 'FC5', 'FC3', 'FC1', 'C1', 'C3', 'C5', 'T7', 'TP7', 'CP5', 'CP3', 'CP1', 'P1', 'P3', 'P5', 'P7', 'P9', 'PO7', 'PO3', 'O1', 'Iz', 'Oz', 'POz', 'Pz', 'CPz', 'Fpz', 'Fp2', 'AF8', 'AF4', 'AFz', 'Fz', 'F2', 'F4', 'F6', 'F8', 'FT8', 'FC6', 'FC4', 'FC2', 'FCz', 'Cz', 'C2', 'C4', 'C6', 'T8', 'TP8', 'CP6', 'CP4', 'CP2', 'P2', 'P4', 'P6', 'P8', 'P10', 'PO8', 'PO4', 'O2', 'EXG1', 'EXG2', 'EXG3', 'EXG4', 'EXG5', 'EXG6', 'EXG7', 'EXG8'].\n",
      "\n",
      "Consider using inst.rename_channels to match the montage nomenclature, or inst.set_channel_types if these are not EEG channels, or use the on_missing parameter if the channel positions are allowed to be unknown in your analyses.\n",
      "  raw = read_raw_bids(bids_path)\n"
     ]
    },
    {
     "name": "stdout",
     "output_type": "stream",
     "text": [
      "Filtering raw data in 1 contiguous segment\n",
      "Setting up band-pass filter from 0.05 - 50 Hz\n",
      "\n",
      "FIR filter parameters\n",
      "---------------------\n",
      "Designing a one-pass, zero-phase, non-causal bandpass filter:\n",
      "- Windowed time-domain design (firwin) method\n",
      "- Hamming window with 0.0194 passband ripple and 53 dB stopband attenuation\n",
      "- Lower passband edge: 0.05\n",
      "- Lower transition bandwidth: 0.05 Hz (-6 dB cutoff frequency: 0.03 Hz)\n",
      "- Upper passband edge: 50.00 Hz\n",
      "- Upper transition bandwidth: 12.50 Hz (-6 dB cutoff frequency: 56.25 Hz)\n",
      "- Filter length: 33793 samples (66.002 s)\n",
      "\n"
     ]
    },
    {
     "name": "stderr",
     "output_type": "stream",
     "text": [
      "[Parallel(n_jobs=1)]: Done  17 tasks      | elapsed:    0.3s\n"
     ]
    },
    {
     "name": "stdout",
     "output_type": "stream",
     "text": [
      "Fitting ICA to data using 64 channels (please be patient, this may take a while)\n",
      "Selecting by number: 20 components\n",
      "Fitting ICA took 16.1s.\n"
     ]
    },
    {
     "name": "stderr",
     "output_type": "stream",
     "text": [
      "/var/folders/m6/tws1p1s95hq4nqmf8vg1ncch0000gn/T/ipykernel_41516/2578086535.py:8: RuntimeWarning: The provided Raw instance does not seem to be referenced to a common average reference (CAR). ICLabel was designed to classify features extracted from an EEG dataset referenced to a CAR (see the 'set_eeg_reference()' method for Raw and Epochs instances).\n",
      "  ic_labels = label_components(raw, ica, method='iclabel')\n",
      "/var/folders/m6/tws1p1s95hq4nqmf8vg1ncch0000gn/T/ipykernel_41516/2578086535.py:8: RuntimeWarning: The provided Raw instance is not filtered between 1 and 100 Hz. ICLabel was designed to classify features extracted from an EEG dataset bandpass filtered between 1 and 100 Hz (see the 'filter()' method for Raw and Epochs instances).\n",
      "  ic_labels = label_components(raw, ica, method='iclabel')\n",
      "/var/folders/m6/tws1p1s95hq4nqmf8vg1ncch0000gn/T/ipykernel_41516/2578086535.py:8: RuntimeWarning: The provided ICA instance was fitted with a 'fastica' algorithm. ICLabel was designed with extended infomax ICA decompositions. To use the extended infomax algorithm, use the 'mne.preprocessing.ICA' instance with the arguments 'ICA(method='infomax', fit_params=dict(extended=True))' (scikit-learn) or 'ICA(method='picard', fit_params=dict(ortho=False, extended=True))' (python-picard).\n",
      "  ic_labels = label_components(raw, ica, method='iclabel')\n"
     ]
    },
    {
     "name": "stdout",
     "output_type": "stream",
     "text": [
      "Applying ICA to Raw instance\n",
      "    Transforming to ICA space (20 components)\n",
      "    Zeroing out 20 ICA components\n",
      "    Projecting back using 64 PCA components\n",
      "Trigger channel Status has a non-zero initial value of {initial_value} (consider using initial_event=True to detect this event)\n",
      "Removing orphaned offset at the beginning of the file.\n",
      "160 events found on stim channel Status\n",
      "Event IDs: [1 3]\n",
      "Not setting metadata\n",
      "160 matching events found\n",
      "Setting baseline interval to [-0.19921875, 0.0] s\n",
      "Applying baseline correction (mode: mean)\n",
      "0 projection items activated\n",
      "Using data from preloaded Raw for 160 events and 615 original time points ...\n",
      "0 bad epochs dropped\n",
      "Applying baseline correction (mode: mean)\n",
      "Extracting EDF parameters from /Users/sammy/Documents/SP EEG/pro_bids/sub-012/eeg/sub-012_task-jacobsen_eeg.bdf...\n",
      "BDF file detected\n",
      "Setting channel info structure...\n",
      "Creating raw.info structure...\n",
      "Reading events from /Users/sammy/Documents/SP EEG/pro_bids/sub-012/eeg/sub-012_task-jacobsen_events.tsv.\n",
      "Reading channel info from /Users/sammy/Documents/SP EEG/pro_bids/sub-012/eeg/sub-012_task-jacobsen_channels.tsv.\n",
      "Reading electrode coords from /Users/sammy/Documents/SP EEG/pro_bids/sub-012/eeg/sub-012_task-jacobsen_electrodes.tsv.\n",
      "Reading 0 ... 488447  =      0.000 ...   953.998 secs...\n"
     ]
    },
    {
     "name": "stderr",
     "output_type": "stream",
     "text": [
      "/var/folders/m6/tws1p1s95hq4nqmf8vg1ncch0000gn/T/ipykernel_41516/3921119066.py:7: RuntimeWarning: The number of channels in the channels.tsv sidecar file (72) does not match the number of channels in the raw data file (73). Will not try to set channel names.\n",
      "  raw = read_raw_bids(bids_path)\n",
      "/var/folders/m6/tws1p1s95hq4nqmf8vg1ncch0000gn/T/ipykernel_41516/3921119066.py:7: RuntimeWarning: Cannot set channel type for the following channels, as they are missing in the raw data: 'AF3', 'AF4', 'AF7', 'AF8', 'AFz', 'C1', 'C2', 'C3', 'C4', 'C5', 'C6', 'CP1', 'CP2', 'CP3', 'CP4', 'CP5', 'CP6', 'CPz', 'Cz', 'EXG1', 'EXG2', 'EXG3', 'EXG4', 'EXG5', 'EXG6', 'EXG7', 'EXG8', 'F1', 'F2', 'F3', 'F4', 'F5', 'F6', 'F7', 'F8', 'FC1', 'FC2', 'FC3', 'FC4', 'FC5', 'FC6', 'FCz', 'FT7', 'FT8', 'Fp1', 'Fp2', 'Fpz', 'Fz', 'Iz', 'O1', 'O2', 'Oz', 'P1', 'P10', 'P2', 'P3', 'P4', 'P5', 'P6', 'P7', 'P8', 'P9', 'PO3', 'PO4', 'PO7', 'PO8', 'POz', 'Pz', 'T7', 'T8', 'TP7', 'TP8'\n",
      "  raw = read_raw_bids(bids_path)\n",
      "/var/folders/m6/tws1p1s95hq4nqmf8vg1ncch0000gn/T/ipykernel_41516/3921119066.py:7: RuntimeWarning: There are channels without locations (n/a) that are not marked as bad: [\"'EXG1'\", \"'EXG2'\", \"'EXG3'\", \"'EXG4'\", \"'EXG5'\", \"'EXG6'\", \"'EXG7'\", \"'EXG8'\"]\n",
      "  raw = read_raw_bids(bids_path)\n",
      "/var/folders/m6/tws1p1s95hq4nqmf8vg1ncch0000gn/T/ipykernel_41516/3921119066.py:7: RuntimeWarning: DigMontage is only a subset of info. There are 72 channel positions not present in the DigMontage. The channels missing from the montage are:\n",
      "\n",
      "['Fp1', 'AF7', 'AF3', 'F1', 'F3', 'F5', 'F7', 'FT7', 'FC5', 'FC3', 'FC1', 'C1', 'C3', 'C5', 'T7', 'TP7', 'CP5', 'CP3', 'CP1', 'P1', 'P3', 'P5', 'P7', 'P9', 'PO7', 'PO3', 'O1', 'Iz', 'Oz', 'POz', 'Pz', 'CPz', 'Fpz', 'Fp2', 'AF8', 'AF4', 'AFz', 'Fz', 'F2', 'F4', 'F6', 'F8', 'FT8', 'FC6', 'FC4', 'FC2', 'FCz', 'Cz', 'C2', 'C4', 'C6', 'T8', 'TP8', 'CP6', 'CP4', 'CP2', 'P2', 'P4', 'P6', 'P8', 'P10', 'PO8', 'PO4', 'O2', 'EXG1', 'EXG2', 'EXG3', 'EXG4', 'EXG5', 'EXG6', 'EXG7', 'EXG8'].\n",
      "\n",
      "Consider using inst.rename_channels to match the montage nomenclature, or inst.set_channel_types if these are not EEG channels, or use the on_missing parameter if the channel positions are allowed to be unknown in your analyses.\n",
      "  raw = read_raw_bids(bids_path)\n"
     ]
    },
    {
     "name": "stdout",
     "output_type": "stream",
     "text": [
      "Filtering raw data in 1 contiguous segment\n",
      "Setting up band-pass filter from 0.05 - 50 Hz\n",
      "\n",
      "FIR filter parameters\n",
      "---------------------\n",
      "Designing a one-pass, zero-phase, non-causal bandpass filter:\n",
      "- Windowed time-domain design (firwin) method\n",
      "- Hamming window with 0.0194 passband ripple and 53 dB stopband attenuation\n",
      "- Lower passband edge: 0.05\n",
      "- Lower transition bandwidth: 0.05 Hz (-6 dB cutoff frequency: 0.03 Hz)\n",
      "- Upper passband edge: 50.00 Hz\n",
      "- Upper transition bandwidth: 12.50 Hz (-6 dB cutoff frequency: 56.25 Hz)\n",
      "- Filter length: 33793 samples (66.002 s)\n",
      "\n"
     ]
    },
    {
     "name": "stderr",
     "output_type": "stream",
     "text": [
      "[Parallel(n_jobs=1)]: Done  17 tasks      | elapsed:    0.3s\n"
     ]
    },
    {
     "name": "stdout",
     "output_type": "stream",
     "text": [
      "Fitting ICA to data using 64 channels (please be patient, this may take a while)\n",
      "Selecting by number: 20 components\n",
      "Fitting ICA took 161.9s.\n"
     ]
    },
    {
     "name": "stderr",
     "output_type": "stream",
     "text": [
      "/opt/anaconda3/envs/mne_env/lib/python3.9/site-packages/sklearn/decomposition/_fastica.py:128: ConvergenceWarning: FastICA did not converge. Consider increasing tolerance or the maximum number of iterations.\n",
      "  warnings.warn(\n",
      "/var/folders/m6/tws1p1s95hq4nqmf8vg1ncch0000gn/T/ipykernel_41516/2578086535.py:8: RuntimeWarning: The provided Raw instance does not seem to be referenced to a common average reference (CAR). ICLabel was designed to classify features extracted from an EEG dataset referenced to a CAR (see the 'set_eeg_reference()' method for Raw and Epochs instances).\n",
      "  ic_labels = label_components(raw, ica, method='iclabel')\n",
      "/var/folders/m6/tws1p1s95hq4nqmf8vg1ncch0000gn/T/ipykernel_41516/2578086535.py:8: RuntimeWarning: The provided Raw instance is not filtered between 1 and 100 Hz. ICLabel was designed to classify features extracted from an EEG dataset bandpass filtered between 1 and 100 Hz (see the 'filter()' method for Raw and Epochs instances).\n",
      "  ic_labels = label_components(raw, ica, method='iclabel')\n",
      "/var/folders/m6/tws1p1s95hq4nqmf8vg1ncch0000gn/T/ipykernel_41516/2578086535.py:8: RuntimeWarning: The provided ICA instance was fitted with a 'fastica' algorithm. ICLabel was designed with extended infomax ICA decompositions. To use the extended infomax algorithm, use the 'mne.preprocessing.ICA' instance with the arguments 'ICA(method='infomax', fit_params=dict(extended=True))' (scikit-learn) or 'ICA(method='picard', fit_params=dict(ortho=False, extended=True))' (python-picard).\n",
      "  ic_labels = label_components(raw, ica, method='iclabel')\n"
     ]
    },
    {
     "name": "stdout",
     "output_type": "stream",
     "text": [
      "Applying ICA to Raw instance\n",
      "    Transforming to ICA space (20 components)\n",
      "    Zeroing out 20 ICA components\n",
      "    Projecting back using 64 PCA components\n",
      "Trigger channel Status has a non-zero initial value of {initial_value} (consider using initial_event=True to detect this event)\n",
      "Removing orphaned offset at the beginning of the file.\n",
      "160 events found on stim channel Status\n",
      "Event IDs: [1 3]\n",
      "Not setting metadata\n",
      "160 matching events found\n",
      "Setting baseline interval to [-0.19921875, 0.0] s\n",
      "Applying baseline correction (mode: mean)\n",
      "0 projection items activated\n",
      "Using data from preloaded Raw for 160 events and 615 original time points ...\n",
      "0 bad epochs dropped\n",
      "Applying baseline correction (mode: mean)\n",
      "Extracting EDF parameters from /Users/sammy/Documents/SP EEG/pro_bids/sub-013/eeg/sub-013_task-jacobsen_eeg.bdf...\n",
      "BDF file detected\n",
      "Setting channel info structure...\n",
      "Creating raw.info structure...\n",
      "Reading events from /Users/sammy/Documents/SP EEG/pro_bids/sub-013/eeg/sub-013_task-jacobsen_events.tsv.\n",
      "Reading channel info from /Users/sammy/Documents/SP EEG/pro_bids/sub-013/eeg/sub-013_task-jacobsen_channels.tsv.\n",
      "Reading electrode coords from /Users/sammy/Documents/SP EEG/pro_bids/sub-013/eeg/sub-013_task-jacobsen_electrodes.tsv.\n",
      "Reading 0 ... 478207  =      0.000 ...   933.998 secs...\n"
     ]
    },
    {
     "name": "stderr",
     "output_type": "stream",
     "text": [
      "/var/folders/m6/tws1p1s95hq4nqmf8vg1ncch0000gn/T/ipykernel_41516/3921119066.py:7: RuntimeWarning: The number of channels in the channels.tsv sidecar file (72) does not match the number of channels in the raw data file (73). Will not try to set channel names.\n",
      "  raw = read_raw_bids(bids_path)\n",
      "/var/folders/m6/tws1p1s95hq4nqmf8vg1ncch0000gn/T/ipykernel_41516/3921119066.py:7: RuntimeWarning: Cannot set channel type for the following channels, as they are missing in the raw data: 'AF3', 'AF4', 'AF7', 'AF8', 'AFz', 'C1', 'C2', 'C3', 'C4', 'C5', 'C6', 'CP1', 'CP2', 'CP3', 'CP4', 'CP5', 'CP6', 'CPz', 'Cz', 'EXG1', 'EXG2', 'EXG3', 'EXG4', 'EXG5', 'EXG6', 'EXG7', 'EXG8', 'F1', 'F2', 'F3', 'F4', 'F5', 'F6', 'F7', 'F8', 'FC1', 'FC2', 'FC3', 'FC4', 'FC5', 'FC6', 'FCz', 'FT7', 'FT8', 'Fp1', 'Fp2', 'Fpz', 'Fz', 'Iz', 'O1', 'O2', 'Oz', 'P1', 'P10', 'P2', 'P3', 'P4', 'P5', 'P6', 'P7', 'P8', 'P9', 'PO3', 'PO4', 'PO7', 'PO8', 'POz', 'Pz', 'T7', 'T8', 'TP7', 'TP8'\n",
      "  raw = read_raw_bids(bids_path)\n",
      "/var/folders/m6/tws1p1s95hq4nqmf8vg1ncch0000gn/T/ipykernel_41516/3921119066.py:7: RuntimeWarning: There are channels without locations (n/a) that are not marked as bad: [\"'EXG1'\", \"'EXG2'\", \"'EXG3'\", \"'EXG4'\", \"'EXG5'\", \"'EXG6'\", \"'EXG7'\", \"'EXG8'\"]\n",
      "  raw = read_raw_bids(bids_path)\n",
      "/var/folders/m6/tws1p1s95hq4nqmf8vg1ncch0000gn/T/ipykernel_41516/3921119066.py:7: RuntimeWarning: DigMontage is only a subset of info. There are 72 channel positions not present in the DigMontage. The channels missing from the montage are:\n",
      "\n",
      "['Fp1', 'AF7', 'AF3', 'F1', 'F3', 'F5', 'F7', 'FT7', 'FC5', 'FC3', 'FC1', 'C1', 'C3', 'C5', 'T7', 'TP7', 'CP5', 'CP3', 'CP1', 'P1', 'P3', 'P5', 'P7', 'P9', 'PO7', 'PO3', 'O1', 'Iz', 'Oz', 'POz', 'Pz', 'CPz', 'Fpz', 'Fp2', 'AF8', 'AF4', 'AFz', 'Fz', 'F2', 'F4', 'F6', 'F8', 'FT8', 'FC6', 'FC4', 'FC2', 'FCz', 'Cz', 'C2', 'C4', 'C6', 'T8', 'TP8', 'CP6', 'CP4', 'CP2', 'P2', 'P4', 'P6', 'P8', 'P10', 'PO8', 'PO4', 'O2', 'EXG1', 'EXG2', 'EXG3', 'EXG4', 'EXG5', 'EXG6', 'EXG7', 'EXG8'].\n",
      "\n",
      "Consider using inst.rename_channels to match the montage nomenclature, or inst.set_channel_types if these are not EEG channels, or use the on_missing parameter if the channel positions are allowed to be unknown in your analyses.\n",
      "  raw = read_raw_bids(bids_path)\n"
     ]
    },
    {
     "name": "stdout",
     "output_type": "stream",
     "text": [
      "Filtering raw data in 1 contiguous segment\n",
      "Setting up band-pass filter from 0.05 - 50 Hz\n",
      "\n",
      "FIR filter parameters\n",
      "---------------------\n",
      "Designing a one-pass, zero-phase, non-causal bandpass filter:\n",
      "- Windowed time-domain design (firwin) method\n",
      "- Hamming window with 0.0194 passband ripple and 53 dB stopband attenuation\n",
      "- Lower passband edge: 0.05\n",
      "- Lower transition bandwidth: 0.05 Hz (-6 dB cutoff frequency: 0.03 Hz)\n",
      "- Upper passband edge: 50.00 Hz\n",
      "- Upper transition bandwidth: 12.50 Hz (-6 dB cutoff frequency: 56.25 Hz)\n",
      "- Filter length: 33793 samples (66.002 s)\n",
      "\n"
     ]
    },
    {
     "name": "stderr",
     "output_type": "stream",
     "text": [
      "[Parallel(n_jobs=1)]: Done  17 tasks      | elapsed:    0.3s\n"
     ]
    },
    {
     "name": "stdout",
     "output_type": "stream",
     "text": [
      "Fitting ICA to data using 64 channels (please be patient, this may take a while)\n",
      "Selecting by number: 20 components\n",
      "Fitting ICA took 9.5s.\n"
     ]
    },
    {
     "name": "stderr",
     "output_type": "stream",
     "text": [
      "/var/folders/m6/tws1p1s95hq4nqmf8vg1ncch0000gn/T/ipykernel_41516/2578086535.py:8: RuntimeWarning: The provided Raw instance does not seem to be referenced to a common average reference (CAR). ICLabel was designed to classify features extracted from an EEG dataset referenced to a CAR (see the 'set_eeg_reference()' method for Raw and Epochs instances).\n",
      "  ic_labels = label_components(raw, ica, method='iclabel')\n",
      "/var/folders/m6/tws1p1s95hq4nqmf8vg1ncch0000gn/T/ipykernel_41516/2578086535.py:8: RuntimeWarning: The provided Raw instance is not filtered between 1 and 100 Hz. ICLabel was designed to classify features extracted from an EEG dataset bandpass filtered between 1 and 100 Hz (see the 'filter()' method for Raw and Epochs instances).\n",
      "  ic_labels = label_components(raw, ica, method='iclabel')\n",
      "/var/folders/m6/tws1p1s95hq4nqmf8vg1ncch0000gn/T/ipykernel_41516/2578086535.py:8: RuntimeWarning: The provided ICA instance was fitted with a 'fastica' algorithm. ICLabel was designed with extended infomax ICA decompositions. To use the extended infomax algorithm, use the 'mne.preprocessing.ICA' instance with the arguments 'ICA(method='infomax', fit_params=dict(extended=True))' (scikit-learn) or 'ICA(method='picard', fit_params=dict(ortho=False, extended=True))' (python-picard).\n",
      "  ic_labels = label_components(raw, ica, method='iclabel')\n"
     ]
    },
    {
     "name": "stdout",
     "output_type": "stream",
     "text": [
      "Applying ICA to Raw instance\n",
      "    Transforming to ICA space (20 components)\n",
      "    Zeroing out 20 ICA components\n",
      "    Projecting back using 64 PCA components\n",
      "Trigger channel Status has a non-zero initial value of {initial_value} (consider using initial_event=True to detect this event)\n",
      "Removing orphaned offset at the beginning of the file.\n",
      "161 events found on stim channel Status\n",
      "Event IDs: [    1     3 65536]\n",
      "Not setting metadata\n",
      "160 matching events found\n",
      "Setting baseline interval to [-0.19921875, 0.0] s\n",
      "Applying baseline correction (mode: mean)\n",
      "0 projection items activated\n",
      "Using data from preloaded Raw for 160 events and 615 original time points ...\n",
      "0 bad epochs dropped\n",
      "Applying baseline correction (mode: mean)\n",
      "Extracting EDF parameters from /Users/sammy/Documents/SP EEG/pro_bids/sub-014/eeg/sub-014_task-jacobsen_eeg.bdf...\n",
      "BDF file detected\n",
      "Setting channel info structure...\n",
      "Creating raw.info structure...\n",
      "Reading events from /Users/sammy/Documents/SP EEG/pro_bids/sub-014/eeg/sub-014_task-jacobsen_events.tsv.\n",
      "Reading channel info from /Users/sammy/Documents/SP EEG/pro_bids/sub-014/eeg/sub-014_task-jacobsen_channels.tsv.\n",
      "Reading electrode coords from /Users/sammy/Documents/SP EEG/pro_bids/sub-014/eeg/sub-014_task-jacobsen_electrodes.tsv.\n",
      "Reading 0 ... 472063  =      0.000 ...   921.998 secs...\n"
     ]
    },
    {
     "name": "stderr",
     "output_type": "stream",
     "text": [
      "/var/folders/m6/tws1p1s95hq4nqmf8vg1ncch0000gn/T/ipykernel_41516/3921119066.py:7: RuntimeWarning: The number of channels in the channels.tsv sidecar file (72) does not match the number of channels in the raw data file (73). Will not try to set channel names.\n",
      "  raw = read_raw_bids(bids_path)\n",
      "/var/folders/m6/tws1p1s95hq4nqmf8vg1ncch0000gn/T/ipykernel_41516/3921119066.py:7: RuntimeWarning: Cannot set channel type for the following channels, as they are missing in the raw data: 'AF3', 'AF4', 'AF7', 'AF8', 'AFz', 'C1', 'C2', 'C3', 'C4', 'C5', 'C6', 'CP1', 'CP2', 'CP3', 'CP4', 'CP5', 'CP6', 'CPz', 'Cz', 'EXG1', 'EXG2', 'EXG3', 'EXG4', 'EXG5', 'EXG6', 'EXG7', 'EXG8', 'F1', 'F2', 'F3', 'F4', 'F5', 'F6', 'F7', 'F8', 'FC1', 'FC2', 'FC3', 'FC4', 'FC5', 'FC6', 'FCz', 'FT7', 'FT8', 'Fp1', 'Fp2', 'Fpz', 'Fz', 'Iz', 'O1', 'O2', 'Oz', 'P1', 'P10', 'P2', 'P3', 'P4', 'P5', 'P6', 'P7', 'P8', 'P9', 'PO3', 'PO4', 'PO7', 'PO8', 'POz', 'Pz', 'T7', 'T8', 'TP7', 'TP8'\n",
      "  raw = read_raw_bids(bids_path)\n",
      "/var/folders/m6/tws1p1s95hq4nqmf8vg1ncch0000gn/T/ipykernel_41516/3921119066.py:7: RuntimeWarning: There are channels without locations (n/a) that are not marked as bad: [\"'EXG1'\", \"'EXG2'\", \"'EXG3'\", \"'EXG4'\", \"'EXG5'\", \"'EXG6'\", \"'EXG7'\", \"'EXG8'\"]\n",
      "  raw = read_raw_bids(bids_path)\n",
      "/var/folders/m6/tws1p1s95hq4nqmf8vg1ncch0000gn/T/ipykernel_41516/3921119066.py:7: RuntimeWarning: DigMontage is only a subset of info. There are 72 channel positions not present in the DigMontage. The channels missing from the montage are:\n",
      "\n",
      "['Fp1', 'AF7', 'AF3', 'F1', 'F3', 'F5', 'F7', 'FT7', 'FC5', 'FC3', 'FC1', 'C1', 'C3', 'C5', 'T7', 'TP7', 'CP5', 'CP3', 'CP1', 'P1', 'P3', 'P5', 'P7', 'P9', 'PO7', 'PO3', 'O1', 'Iz', 'Oz', 'POz', 'Pz', 'CPz', 'Fpz', 'Fp2', 'AF8', 'AF4', 'AFz', 'Fz', 'F2', 'F4', 'F6', 'F8', 'FT8', 'FC6', 'FC4', 'FC2', 'FCz', 'Cz', 'C2', 'C4', 'C6', 'T8', 'TP8', 'CP6', 'CP4', 'CP2', 'P2', 'P4', 'P6', 'P8', 'P10', 'PO8', 'PO4', 'O2', 'EXG1', 'EXG2', 'EXG3', 'EXG4', 'EXG5', 'EXG6', 'EXG7', 'EXG8'].\n",
      "\n",
      "Consider using inst.rename_channels to match the montage nomenclature, or inst.set_channel_types if these are not EEG channels, or use the on_missing parameter if the channel positions are allowed to be unknown in your analyses.\n",
      "  raw = read_raw_bids(bids_path)\n"
     ]
    },
    {
     "name": "stdout",
     "output_type": "stream",
     "text": [
      "Filtering raw data in 1 contiguous segment\n",
      "Setting up band-pass filter from 0.05 - 50 Hz\n",
      "\n",
      "FIR filter parameters\n",
      "---------------------\n",
      "Designing a one-pass, zero-phase, non-causal bandpass filter:\n",
      "- Windowed time-domain design (firwin) method\n",
      "- Hamming window with 0.0194 passband ripple and 53 dB stopband attenuation\n",
      "- Lower passband edge: 0.05\n",
      "- Lower transition bandwidth: 0.05 Hz (-6 dB cutoff frequency: 0.03 Hz)\n",
      "- Upper passband edge: 50.00 Hz\n",
      "- Upper transition bandwidth: 12.50 Hz (-6 dB cutoff frequency: 56.25 Hz)\n",
      "- Filter length: 33793 samples (66.002 s)\n",
      "\n"
     ]
    },
    {
     "name": "stderr",
     "output_type": "stream",
     "text": [
      "[Parallel(n_jobs=1)]: Done  17 tasks      | elapsed:    0.3s\n"
     ]
    },
    {
     "name": "stdout",
     "output_type": "stream",
     "text": [
      "Fitting ICA to data using 64 channels (please be patient, this may take a while)\n",
      "Selecting by number: 20 components\n",
      "Fitting ICA took 13.6s.\n"
     ]
    },
    {
     "name": "stderr",
     "output_type": "stream",
     "text": [
      "/var/folders/m6/tws1p1s95hq4nqmf8vg1ncch0000gn/T/ipykernel_41516/2578086535.py:8: RuntimeWarning: The provided Raw instance does not seem to be referenced to a common average reference (CAR). ICLabel was designed to classify features extracted from an EEG dataset referenced to a CAR (see the 'set_eeg_reference()' method for Raw and Epochs instances).\n",
      "  ic_labels = label_components(raw, ica, method='iclabel')\n",
      "/var/folders/m6/tws1p1s95hq4nqmf8vg1ncch0000gn/T/ipykernel_41516/2578086535.py:8: RuntimeWarning: The provided Raw instance is not filtered between 1 and 100 Hz. ICLabel was designed to classify features extracted from an EEG dataset bandpass filtered between 1 and 100 Hz (see the 'filter()' method for Raw and Epochs instances).\n",
      "  ic_labels = label_components(raw, ica, method='iclabel')\n",
      "/var/folders/m6/tws1p1s95hq4nqmf8vg1ncch0000gn/T/ipykernel_41516/2578086535.py:8: RuntimeWarning: The provided ICA instance was fitted with a 'fastica' algorithm. ICLabel was designed with extended infomax ICA decompositions. To use the extended infomax algorithm, use the 'mne.preprocessing.ICA' instance with the arguments 'ICA(method='infomax', fit_params=dict(extended=True))' (scikit-learn) or 'ICA(method='picard', fit_params=dict(ortho=False, extended=True))' (python-picard).\n",
      "  ic_labels = label_components(raw, ica, method='iclabel')\n"
     ]
    },
    {
     "name": "stdout",
     "output_type": "stream",
     "text": [
      "Applying ICA to Raw instance\n",
      "    Transforming to ICA space (20 components)\n",
      "    Zeroing out 20 ICA components\n",
      "    Projecting back using 64 PCA components\n",
      "Trigger channel Status has a non-zero initial value of {initial_value} (consider using initial_event=True to detect this event)\n",
      "Removing orphaned offset at the beginning of the file.\n",
      "160 events found on stim channel Status\n",
      "Event IDs: [1 3]\n",
      "Not setting metadata\n",
      "160 matching events found\n",
      "Setting baseline interval to [-0.19921875, 0.0] s\n",
      "Applying baseline correction (mode: mean)\n",
      "0 projection items activated\n",
      "Using data from preloaded Raw for 160 events and 615 original time points ...\n",
      "0 bad epochs dropped\n",
      "Applying baseline correction (mode: mean)\n",
      "Extracting EDF parameters from /Users/sammy/Documents/SP EEG/pro_bids/sub-015/eeg/sub-015_task-jacobsen_eeg.bdf...\n",
      "BDF file detected\n",
      "Setting channel info structure...\n",
      "Creating raw.info structure...\n",
      "Reading events from /Users/sammy/Documents/SP EEG/pro_bids/sub-015/eeg/sub-015_task-jacobsen_events.tsv.\n",
      "Reading channel info from /Users/sammy/Documents/SP EEG/pro_bids/sub-015/eeg/sub-015_task-jacobsen_channels.tsv.\n",
      "Reading electrode coords from /Users/sammy/Documents/SP EEG/pro_bids/sub-015/eeg/sub-015_task-jacobsen_electrodes.tsv.\n",
      "Reading 0 ... 536575  =      0.000 ...  1047.998 secs...\n"
     ]
    },
    {
     "name": "stderr",
     "output_type": "stream",
     "text": [
      "/var/folders/m6/tws1p1s95hq4nqmf8vg1ncch0000gn/T/ipykernel_41516/3921119066.py:7: RuntimeWarning: The number of channels in the channels.tsv sidecar file (72) does not match the number of channels in the raw data file (73). Will not try to set channel names.\n",
      "  raw = read_raw_bids(bids_path)\n",
      "/var/folders/m6/tws1p1s95hq4nqmf8vg1ncch0000gn/T/ipykernel_41516/3921119066.py:7: RuntimeWarning: Cannot set channel type for the following channels, as they are missing in the raw data: 'AF3', 'AF4', 'AF7', 'AF8', 'AFz', 'C1', 'C2', 'C3', 'C4', 'C5', 'C6', 'CP1', 'CP2', 'CP3', 'CP4', 'CP5', 'CP6', 'CPz', 'Cz', 'EXG1', 'EXG2', 'EXG3', 'EXG4', 'EXG5', 'EXG6', 'EXG7', 'EXG8', 'F1', 'F2', 'F3', 'F4', 'F5', 'F6', 'F7', 'F8', 'FC1', 'FC2', 'FC3', 'FC4', 'FC5', 'FC6', 'FCz', 'FT7', 'FT8', 'Fp1', 'Fp2', 'Fpz', 'Fz', 'Iz', 'O1', 'O2', 'Oz', 'P1', 'P10', 'P2', 'P3', 'P4', 'P5', 'P6', 'P7', 'P8', 'P9', 'PO3', 'PO4', 'PO7', 'PO8', 'POz', 'Pz', 'T7', 'T8', 'TP7', 'TP8'\n",
      "  raw = read_raw_bids(bids_path)\n",
      "/var/folders/m6/tws1p1s95hq4nqmf8vg1ncch0000gn/T/ipykernel_41516/3921119066.py:7: RuntimeWarning: There are channels without locations (n/a) that are not marked as bad: [\"'EXG1'\", \"'EXG2'\", \"'EXG3'\", \"'EXG4'\", \"'EXG5'\", \"'EXG6'\", \"'EXG7'\", \"'EXG8'\"]\n",
      "  raw = read_raw_bids(bids_path)\n",
      "/var/folders/m6/tws1p1s95hq4nqmf8vg1ncch0000gn/T/ipykernel_41516/3921119066.py:7: RuntimeWarning: DigMontage is only a subset of info. There are 72 channel positions not present in the DigMontage. The channels missing from the montage are:\n",
      "\n",
      "['Fp1', 'AF7', 'AF3', 'F1', 'F3', 'F5', 'F7', 'FT7', 'FC5', 'FC3', 'FC1', 'C1', 'C3', 'C5', 'T7', 'TP7', 'CP5', 'CP3', 'CP1', 'P1', 'P3', 'P5', 'P7', 'P9', 'PO7', 'PO3', 'O1', 'Iz', 'Oz', 'POz', 'Pz', 'CPz', 'Fpz', 'Fp2', 'AF8', 'AF4', 'AFz', 'Fz', 'F2', 'F4', 'F6', 'F8', 'FT8', 'FC6', 'FC4', 'FC2', 'FCz', 'Cz', 'C2', 'C4', 'C6', 'T8', 'TP8', 'CP6', 'CP4', 'CP2', 'P2', 'P4', 'P6', 'P8', 'P10', 'PO8', 'PO4', 'O2', 'EXG1', 'EXG2', 'EXG3', 'EXG4', 'EXG5', 'EXG6', 'EXG7', 'EXG8'].\n",
      "\n",
      "Consider using inst.rename_channels to match the montage nomenclature, or inst.set_channel_types if these are not EEG channels, or use the on_missing parameter if the channel positions are allowed to be unknown in your analyses.\n",
      "  raw = read_raw_bids(bids_path)\n"
     ]
    },
    {
     "name": "stdout",
     "output_type": "stream",
     "text": [
      "Filtering raw data in 1 contiguous segment\n",
      "Setting up band-pass filter from 0.05 - 50 Hz\n",
      "\n",
      "FIR filter parameters\n",
      "---------------------\n",
      "Designing a one-pass, zero-phase, non-causal bandpass filter:\n",
      "- Windowed time-domain design (firwin) method\n",
      "- Hamming window with 0.0194 passband ripple and 53 dB stopband attenuation\n",
      "- Lower passband edge: 0.05\n",
      "- Lower transition bandwidth: 0.05 Hz (-6 dB cutoff frequency: 0.03 Hz)\n",
      "- Upper passband edge: 50.00 Hz\n",
      "- Upper transition bandwidth: 12.50 Hz (-6 dB cutoff frequency: 56.25 Hz)\n",
      "- Filter length: 33793 samples (66.002 s)\n",
      "\n"
     ]
    },
    {
     "name": "stderr",
     "output_type": "stream",
     "text": [
      "[Parallel(n_jobs=1)]: Done  17 tasks      | elapsed:    0.3s\n"
     ]
    },
    {
     "name": "stdout",
     "output_type": "stream",
     "text": [
      "Fitting ICA to data using 64 channels (please be patient, this may take a while)\n",
      "Selecting by number: 20 components\n",
      "Fitting ICA took 8.3s.\n"
     ]
    },
    {
     "name": "stderr",
     "output_type": "stream",
     "text": [
      "/var/folders/m6/tws1p1s95hq4nqmf8vg1ncch0000gn/T/ipykernel_41516/2578086535.py:8: RuntimeWarning: The provided Raw instance does not seem to be referenced to a common average reference (CAR). ICLabel was designed to classify features extracted from an EEG dataset referenced to a CAR (see the 'set_eeg_reference()' method for Raw and Epochs instances).\n",
      "  ic_labels = label_components(raw, ica, method='iclabel')\n",
      "/var/folders/m6/tws1p1s95hq4nqmf8vg1ncch0000gn/T/ipykernel_41516/2578086535.py:8: RuntimeWarning: The provided Raw instance is not filtered between 1 and 100 Hz. ICLabel was designed to classify features extracted from an EEG dataset bandpass filtered between 1 and 100 Hz (see the 'filter()' method for Raw and Epochs instances).\n",
      "  ic_labels = label_components(raw, ica, method='iclabel')\n",
      "/var/folders/m6/tws1p1s95hq4nqmf8vg1ncch0000gn/T/ipykernel_41516/2578086535.py:8: RuntimeWarning: The provided ICA instance was fitted with a 'fastica' algorithm. ICLabel was designed with extended infomax ICA decompositions. To use the extended infomax algorithm, use the 'mne.preprocessing.ICA' instance with the arguments 'ICA(method='infomax', fit_params=dict(extended=True))' (scikit-learn) or 'ICA(method='picard', fit_params=dict(ortho=False, extended=True))' (python-picard).\n",
      "  ic_labels = label_components(raw, ica, method='iclabel')\n"
     ]
    },
    {
     "name": "stdout",
     "output_type": "stream",
     "text": [
      "Applying ICA to Raw instance\n",
      "    Transforming to ICA space (20 components)\n",
      "    Zeroing out 20 ICA components\n",
      "    Projecting back using 64 PCA components\n",
      "Trigger channel Status has a non-zero initial value of {initial_value} (consider using initial_event=True to detect this event)\n",
      "Removing orphaned offset at the beginning of the file.\n",
      "160 events found on stim channel Status\n",
      "Event IDs: [1 3]\n",
      "Not setting metadata\n",
      "160 matching events found\n",
      "Setting baseline interval to [-0.19921875, 0.0] s\n",
      "Applying baseline correction (mode: mean)\n",
      "0 projection items activated\n",
      "Using data from preloaded Raw for 160 events and 615 original time points ...\n",
      "0 bad epochs dropped\n",
      "Applying baseline correction (mode: mean)\n",
      "Extracting EDF parameters from /Users/sammy/Documents/SP EEG/pro_bids/sub-016/eeg/sub-016_task-jacobsen_eeg.bdf...\n",
      "BDF file detected\n",
      "Setting channel info structure...\n",
      "Creating raw.info structure...\n",
      "Reading events from /Users/sammy/Documents/SP EEG/pro_bids/sub-016/eeg/sub-016_task-jacobsen_events.tsv.\n",
      "Reading channel info from /Users/sammy/Documents/SP EEG/pro_bids/sub-016/eeg/sub-016_task-jacobsen_channels.tsv.\n",
      "Reading electrode coords from /Users/sammy/Documents/SP EEG/pro_bids/sub-016/eeg/sub-016_task-jacobsen_electrodes.tsv.\n",
      "Reading 0 ... 461823  =      0.000 ...   901.998 secs...\n"
     ]
    },
    {
     "name": "stderr",
     "output_type": "stream",
     "text": [
      "/var/folders/m6/tws1p1s95hq4nqmf8vg1ncch0000gn/T/ipykernel_41516/3921119066.py:7: RuntimeWarning: The number of channels in the channels.tsv sidecar file (72) does not match the number of channels in the raw data file (73). Will not try to set channel names.\n",
      "  raw = read_raw_bids(bids_path)\n",
      "/var/folders/m6/tws1p1s95hq4nqmf8vg1ncch0000gn/T/ipykernel_41516/3921119066.py:7: RuntimeWarning: Cannot set channel type for the following channels, as they are missing in the raw data: 'AF3', 'AF4', 'AF7', 'AF8', 'AFz', 'C1', 'C2', 'C3', 'C4', 'C5', 'C6', 'CP1', 'CP2', 'CP3', 'CP4', 'CP5', 'CP6', 'CPz', 'Cz', 'EXG1', 'EXG2', 'EXG3', 'EXG4', 'EXG5', 'EXG6', 'EXG7', 'EXG8', 'F1', 'F2', 'F3', 'F4', 'F5', 'F6', 'F7', 'F8', 'FC1', 'FC2', 'FC3', 'FC4', 'FC5', 'FC6', 'FCz', 'FT7', 'FT8', 'Fp1', 'Fp2', 'Fpz', 'Fz', 'Iz', 'O1', 'O2', 'Oz', 'P1', 'P10', 'P2', 'P3', 'P4', 'P5', 'P6', 'P7', 'P8', 'P9', 'PO3', 'PO4', 'PO7', 'PO8', 'POz', 'Pz', 'T7', 'T8', 'TP7', 'TP8'\n",
      "  raw = read_raw_bids(bids_path)\n",
      "/var/folders/m6/tws1p1s95hq4nqmf8vg1ncch0000gn/T/ipykernel_41516/3921119066.py:7: RuntimeWarning: There are channels without locations (n/a) that are not marked as bad: [\"'EXG1'\", \"'EXG2'\", \"'EXG3'\", \"'EXG4'\", \"'EXG5'\", \"'EXG6'\", \"'EXG7'\", \"'EXG8'\"]\n",
      "  raw = read_raw_bids(bids_path)\n",
      "/var/folders/m6/tws1p1s95hq4nqmf8vg1ncch0000gn/T/ipykernel_41516/3921119066.py:7: RuntimeWarning: DigMontage is only a subset of info. There are 72 channel positions not present in the DigMontage. The channels missing from the montage are:\n",
      "\n",
      "['Fp1', 'AF7', 'AF3', 'F1', 'F3', 'F5', 'F7', 'FT7', 'FC5', 'FC3', 'FC1', 'C1', 'C3', 'C5', 'T7', 'TP7', 'CP5', 'CP3', 'CP1', 'P1', 'P3', 'P5', 'P7', 'P9', 'PO7', 'PO3', 'O1', 'Iz', 'Oz', 'POz', 'Pz', 'CPz', 'Fpz', 'Fp2', 'AF8', 'AF4', 'AFz', 'Fz', 'F2', 'F4', 'F6', 'F8', 'FT8', 'FC6', 'FC4', 'FC2', 'FCz', 'Cz', 'C2', 'C4', 'C6', 'T8', 'TP8', 'CP6', 'CP4', 'CP2', 'P2', 'P4', 'P6', 'P8', 'P10', 'PO8', 'PO4', 'O2', 'EXG1', 'EXG2', 'EXG3', 'EXG4', 'EXG5', 'EXG6', 'EXG7', 'EXG8'].\n",
      "\n",
      "Consider using inst.rename_channels to match the montage nomenclature, or inst.set_channel_types if these are not EEG channels, or use the on_missing parameter if the channel positions are allowed to be unknown in your analyses.\n",
      "  raw = read_raw_bids(bids_path)\n"
     ]
    },
    {
     "name": "stdout",
     "output_type": "stream",
     "text": [
      "Filtering raw data in 1 contiguous segment\n",
      "Setting up band-pass filter from 0.05 - 50 Hz\n",
      "\n",
      "FIR filter parameters\n",
      "---------------------\n",
      "Designing a one-pass, zero-phase, non-causal bandpass filter:\n",
      "- Windowed time-domain design (firwin) method\n",
      "- Hamming window with 0.0194 passband ripple and 53 dB stopband attenuation\n",
      "- Lower passband edge: 0.05\n",
      "- Lower transition bandwidth: 0.05 Hz (-6 dB cutoff frequency: 0.03 Hz)\n",
      "- Upper passband edge: 50.00 Hz\n",
      "- Upper transition bandwidth: 12.50 Hz (-6 dB cutoff frequency: 56.25 Hz)\n",
      "- Filter length: 33793 samples (66.002 s)\n",
      "\n"
     ]
    },
    {
     "name": "stderr",
     "output_type": "stream",
     "text": [
      "[Parallel(n_jobs=1)]: Done  17 tasks      | elapsed:    0.3s\n"
     ]
    },
    {
     "name": "stdout",
     "output_type": "stream",
     "text": [
      "Fitting ICA to data using 64 channels (please be patient, this may take a while)\n",
      "Selecting by number: 20 components\n",
      "Fitting ICA took 154.4s.\n"
     ]
    },
    {
     "name": "stderr",
     "output_type": "stream",
     "text": [
      "/opt/anaconda3/envs/mne_env/lib/python3.9/site-packages/sklearn/decomposition/_fastica.py:128: ConvergenceWarning: FastICA did not converge. Consider increasing tolerance or the maximum number of iterations.\n",
      "  warnings.warn(\n",
      "/var/folders/m6/tws1p1s95hq4nqmf8vg1ncch0000gn/T/ipykernel_41516/2578086535.py:8: RuntimeWarning: The provided Raw instance does not seem to be referenced to a common average reference (CAR). ICLabel was designed to classify features extracted from an EEG dataset referenced to a CAR (see the 'set_eeg_reference()' method for Raw and Epochs instances).\n",
      "  ic_labels = label_components(raw, ica, method='iclabel')\n",
      "/var/folders/m6/tws1p1s95hq4nqmf8vg1ncch0000gn/T/ipykernel_41516/2578086535.py:8: RuntimeWarning: The provided Raw instance is not filtered between 1 and 100 Hz. ICLabel was designed to classify features extracted from an EEG dataset bandpass filtered between 1 and 100 Hz (see the 'filter()' method for Raw and Epochs instances).\n",
      "  ic_labels = label_components(raw, ica, method='iclabel')\n",
      "/var/folders/m6/tws1p1s95hq4nqmf8vg1ncch0000gn/T/ipykernel_41516/2578086535.py:8: RuntimeWarning: The provided ICA instance was fitted with a 'fastica' algorithm. ICLabel was designed with extended infomax ICA decompositions. To use the extended infomax algorithm, use the 'mne.preprocessing.ICA' instance with the arguments 'ICA(method='infomax', fit_params=dict(extended=True))' (scikit-learn) or 'ICA(method='picard', fit_params=dict(ortho=False, extended=True))' (python-picard).\n",
      "  ic_labels = label_components(raw, ica, method='iclabel')\n"
     ]
    },
    {
     "name": "stdout",
     "output_type": "stream",
     "text": [
      "Applying ICA to Raw instance\n",
      "    Transforming to ICA space (20 components)\n",
      "    Zeroing out 20 ICA components\n",
      "    Projecting back using 64 PCA components\n",
      "Trigger channel Status has a non-zero initial value of {initial_value} (consider using initial_event=True to detect this event)\n",
      "Removing orphaned offset at the beginning of the file.\n",
      "161 events found on stim channel Status\n",
      "Event IDs: [    1     3 65536]\n",
      "Not setting metadata\n",
      "160 matching events found\n",
      "Setting baseline interval to [-0.19921875, 0.0] s\n",
      "Applying baseline correction (mode: mean)\n",
      "0 projection items activated\n",
      "Using data from preloaded Raw for 160 events and 615 original time points ...\n",
      "0 bad epochs dropped\n",
      "Applying baseline correction (mode: mean)\n",
      "Extracting EDF parameters from /Users/sammy/Documents/SP EEG/pro_bids/sub-017/eeg/sub-017_task-jacobsen_eeg.bdf...\n",
      "BDF file detected\n",
      "Setting channel info structure...\n",
      "Creating raw.info structure...\n",
      "Reading events from /Users/sammy/Documents/SP EEG/pro_bids/sub-017/eeg/sub-017_task-jacobsen_events.tsv.\n",
      "Reading channel info from /Users/sammy/Documents/SP EEG/pro_bids/sub-017/eeg/sub-017_task-jacobsen_channels.tsv.\n",
      "Reading electrode coords from /Users/sammy/Documents/SP EEG/pro_bids/sub-017/eeg/sub-017_task-jacobsen_electrodes.tsv.\n",
      "Reading 0 ... 479231  =      0.000 ...   935.998 secs...\n"
     ]
    },
    {
     "name": "stderr",
     "output_type": "stream",
     "text": [
      "/var/folders/m6/tws1p1s95hq4nqmf8vg1ncch0000gn/T/ipykernel_41516/3921119066.py:7: RuntimeWarning: The number of channels in the channels.tsv sidecar file (72) does not match the number of channels in the raw data file (73). Will not try to set channel names.\n",
      "  raw = read_raw_bids(bids_path)\n",
      "/var/folders/m6/tws1p1s95hq4nqmf8vg1ncch0000gn/T/ipykernel_41516/3921119066.py:7: RuntimeWarning: Cannot set channel type for the following channels, as they are missing in the raw data: 'AF3', 'AF4', 'AF7', 'AF8', 'AFz', 'C1', 'C2', 'C3', 'C4', 'C5', 'C6', 'CP1', 'CP2', 'CP3', 'CP4', 'CP5', 'CP6', 'CPz', 'Cz', 'EXG1', 'EXG2', 'EXG3', 'EXG4', 'EXG5', 'EXG6', 'EXG7', 'EXG8', 'F1', 'F2', 'F3', 'F4', 'F5', 'F6', 'F7', 'F8', 'FC1', 'FC2', 'FC3', 'FC4', 'FC5', 'FC6', 'FCz', 'FT7', 'FT8', 'Fp1', 'Fp2', 'Fpz', 'Fz', 'Iz', 'O1', 'O2', 'Oz', 'P1', 'P10', 'P2', 'P3', 'P4', 'P5', 'P6', 'P7', 'P8', 'P9', 'PO3', 'PO4', 'PO7', 'PO8', 'POz', 'Pz', 'T7', 'T8', 'TP7', 'TP8'\n",
      "  raw = read_raw_bids(bids_path)\n",
      "/var/folders/m6/tws1p1s95hq4nqmf8vg1ncch0000gn/T/ipykernel_41516/3921119066.py:7: RuntimeWarning: There are channels without locations (n/a) that are not marked as bad: [\"'EXG1'\", \"'EXG2'\", \"'EXG3'\", \"'EXG4'\", \"'EXG5'\", \"'EXG6'\", \"'EXG7'\", \"'EXG8'\"]\n",
      "  raw = read_raw_bids(bids_path)\n",
      "/var/folders/m6/tws1p1s95hq4nqmf8vg1ncch0000gn/T/ipykernel_41516/3921119066.py:7: RuntimeWarning: DigMontage is only a subset of info. There are 72 channel positions not present in the DigMontage. The channels missing from the montage are:\n",
      "\n",
      "['Fp1', 'AF7', 'AF3', 'F1', 'F3', 'F5', 'F7', 'FT7', 'FC5', 'FC3', 'FC1', 'C1', 'C3', 'C5', 'T7', 'TP7', 'CP5', 'CP3', 'CP1', 'P1', 'P3', 'P5', 'P7', 'P9', 'PO7', 'PO3', 'O1', 'Iz', 'Oz', 'POz', 'Pz', 'CPz', 'Fpz', 'Fp2', 'AF8', 'AF4', 'AFz', 'Fz', 'F2', 'F4', 'F6', 'F8', 'FT8', 'FC6', 'FC4', 'FC2', 'FCz', 'Cz', 'C2', 'C4', 'C6', 'T8', 'TP8', 'CP6', 'CP4', 'CP2', 'P2', 'P4', 'P6', 'P8', 'P10', 'PO8', 'PO4', 'O2', 'EXG1', 'EXG2', 'EXG3', 'EXG4', 'EXG5', 'EXG6', 'EXG7', 'EXG8'].\n",
      "\n",
      "Consider using inst.rename_channels to match the montage nomenclature, or inst.set_channel_types if these are not EEG channels, or use the on_missing parameter if the channel positions are allowed to be unknown in your analyses.\n",
      "  raw = read_raw_bids(bids_path)\n"
     ]
    },
    {
     "name": "stdout",
     "output_type": "stream",
     "text": [
      "Filtering raw data in 1 contiguous segment\n",
      "Setting up band-pass filter from 0.05 - 50 Hz\n",
      "\n",
      "FIR filter parameters\n",
      "---------------------\n",
      "Designing a one-pass, zero-phase, non-causal bandpass filter:\n",
      "- Windowed time-domain design (firwin) method\n",
      "- Hamming window with 0.0194 passband ripple and 53 dB stopband attenuation\n",
      "- Lower passband edge: 0.05\n",
      "- Lower transition bandwidth: 0.05 Hz (-6 dB cutoff frequency: 0.03 Hz)\n",
      "- Upper passband edge: 50.00 Hz\n",
      "- Upper transition bandwidth: 12.50 Hz (-6 dB cutoff frequency: 56.25 Hz)\n",
      "- Filter length: 33793 samples (66.002 s)\n",
      "\n"
     ]
    },
    {
     "name": "stderr",
     "output_type": "stream",
     "text": [
      "[Parallel(n_jobs=1)]: Done  17 tasks      | elapsed:    0.3s\n"
     ]
    },
    {
     "name": "stdout",
     "output_type": "stream",
     "text": [
      "Fitting ICA to data using 64 channels (please be patient, this may take a while)\n",
      "Selecting by number: 20 components\n",
      "Fitting ICA took 7.5s.\n"
     ]
    },
    {
     "name": "stderr",
     "output_type": "stream",
     "text": [
      "/var/folders/m6/tws1p1s95hq4nqmf8vg1ncch0000gn/T/ipykernel_41516/2578086535.py:8: RuntimeWarning: The provided Raw instance does not seem to be referenced to a common average reference (CAR). ICLabel was designed to classify features extracted from an EEG dataset referenced to a CAR (see the 'set_eeg_reference()' method for Raw and Epochs instances).\n",
      "  ic_labels = label_components(raw, ica, method='iclabel')\n",
      "/var/folders/m6/tws1p1s95hq4nqmf8vg1ncch0000gn/T/ipykernel_41516/2578086535.py:8: RuntimeWarning: The provided Raw instance is not filtered between 1 and 100 Hz. ICLabel was designed to classify features extracted from an EEG dataset bandpass filtered between 1 and 100 Hz (see the 'filter()' method for Raw and Epochs instances).\n",
      "  ic_labels = label_components(raw, ica, method='iclabel')\n",
      "/var/folders/m6/tws1p1s95hq4nqmf8vg1ncch0000gn/T/ipykernel_41516/2578086535.py:8: RuntimeWarning: The provided ICA instance was fitted with a 'fastica' algorithm. ICLabel was designed with extended infomax ICA decompositions. To use the extended infomax algorithm, use the 'mne.preprocessing.ICA' instance with the arguments 'ICA(method='infomax', fit_params=dict(extended=True))' (scikit-learn) or 'ICA(method='picard', fit_params=dict(ortho=False, extended=True))' (python-picard).\n",
      "  ic_labels = label_components(raw, ica, method='iclabel')\n"
     ]
    },
    {
     "name": "stdout",
     "output_type": "stream",
     "text": [
      "Applying ICA to Raw instance\n",
      "    Transforming to ICA space (20 components)\n",
      "    Zeroing out 20 ICA components\n",
      "    Projecting back using 64 PCA components\n",
      "Trigger channel Status has a non-zero initial value of {initial_value} (consider using initial_event=True to detect this event)\n",
      "Removing orphaned offset at the beginning of the file.\n",
      "161 events found on stim channel Status\n",
      "Event IDs: [    1     3 65536]\n",
      "Not setting metadata\n",
      "160 matching events found\n",
      "Setting baseline interval to [-0.19921875, 0.0] s\n",
      "Applying baseline correction (mode: mean)\n",
      "0 projection items activated\n",
      "Using data from preloaded Raw for 160 events and 615 original time points ...\n",
      "0 bad epochs dropped\n",
      "Applying baseline correction (mode: mean)\n",
      "Extracting EDF parameters from /Users/sammy/Documents/SP EEG/pro_bids/sub-018/eeg/sub-018_task-jacobsen_eeg.bdf...\n",
      "BDF file detected\n",
      "Setting channel info structure...\n",
      "Creating raw.info structure...\n",
      "Reading events from /Users/sammy/Documents/SP EEG/pro_bids/sub-018/eeg/sub-018_task-jacobsen_events.tsv.\n",
      "Reading channel info from /Users/sammy/Documents/SP EEG/pro_bids/sub-018/eeg/sub-018_task-jacobsen_channels.tsv.\n",
      "Reading electrode coords from /Users/sammy/Documents/SP EEG/pro_bids/sub-018/eeg/sub-018_task-jacobsen_electrodes.tsv.\n",
      "Reading 0 ... 478719  =      0.000 ...   934.998 secs...\n"
     ]
    },
    {
     "name": "stderr",
     "output_type": "stream",
     "text": [
      "/var/folders/m6/tws1p1s95hq4nqmf8vg1ncch0000gn/T/ipykernel_41516/3921119066.py:7: RuntimeWarning: The number of channels in the channels.tsv sidecar file (72) does not match the number of channels in the raw data file (73). Will not try to set channel names.\n",
      "  raw = read_raw_bids(bids_path)\n",
      "/var/folders/m6/tws1p1s95hq4nqmf8vg1ncch0000gn/T/ipykernel_41516/3921119066.py:7: RuntimeWarning: Cannot set channel type for the following channels, as they are missing in the raw data: 'AF3', 'AF4', 'AF7', 'AF8', 'AFz', 'C1', 'C2', 'C3', 'C4', 'C5', 'C6', 'CP1', 'CP2', 'CP3', 'CP4', 'CP5', 'CP6', 'CPz', 'Cz', 'EXG1', 'EXG2', 'EXG3', 'EXG4', 'EXG5', 'EXG6', 'EXG7', 'EXG8', 'F1', 'F2', 'F3', 'F4', 'F5', 'F6', 'F7', 'F8', 'FC1', 'FC2', 'FC3', 'FC4', 'FC5', 'FC6', 'FCz', 'FT7', 'FT8', 'Fp1', 'Fp2', 'Fpz', 'Fz', 'Iz', 'O1', 'O2', 'Oz', 'P1', 'P10', 'P2', 'P3', 'P4', 'P5', 'P6', 'P7', 'P8', 'P9', 'PO3', 'PO4', 'PO7', 'PO8', 'POz', 'Pz', 'T7', 'T8', 'TP7', 'TP8'\n",
      "  raw = read_raw_bids(bids_path)\n",
      "/var/folders/m6/tws1p1s95hq4nqmf8vg1ncch0000gn/T/ipykernel_41516/3921119066.py:7: RuntimeWarning: There are channels without locations (n/a) that are not marked as bad: [\"'EXG1'\", \"'EXG2'\", \"'EXG3'\", \"'EXG4'\", \"'EXG5'\", \"'EXG6'\", \"'EXG7'\", \"'EXG8'\"]\n",
      "  raw = read_raw_bids(bids_path)\n",
      "/var/folders/m6/tws1p1s95hq4nqmf8vg1ncch0000gn/T/ipykernel_41516/3921119066.py:7: RuntimeWarning: DigMontage is only a subset of info. There are 72 channel positions not present in the DigMontage. The channels missing from the montage are:\n",
      "\n",
      "['Fp1', 'AF7', 'AF3', 'F1', 'F3', 'F5', 'F7', 'FT7', 'FC5', 'FC3', 'FC1', 'C1', 'C3', 'C5', 'T7', 'TP7', 'CP5', 'CP3', 'CP1', 'P1', 'P3', 'P5', 'P7', 'P9', 'PO7', 'PO3', 'O1', 'Iz', 'Oz', 'POz', 'Pz', 'CPz', 'Fpz', 'Fp2', 'AF8', 'AF4', 'AFz', 'Fz', 'F2', 'F4', 'F6', 'F8', 'FT8', 'FC6', 'FC4', 'FC2', 'FCz', 'Cz', 'C2', 'C4', 'C6', 'T8', 'TP8', 'CP6', 'CP4', 'CP2', 'P2', 'P4', 'P6', 'P8', 'P10', 'PO8', 'PO4', 'O2', 'EXG1', 'EXG2', 'EXG3', 'EXG4', 'EXG5', 'EXG6', 'EXG7', 'EXG8'].\n",
      "\n",
      "Consider using inst.rename_channels to match the montage nomenclature, or inst.set_channel_types if these are not EEG channels, or use the on_missing parameter if the channel positions are allowed to be unknown in your analyses.\n",
      "  raw = read_raw_bids(bids_path)\n"
     ]
    },
    {
     "name": "stdout",
     "output_type": "stream",
     "text": [
      "Filtering raw data in 1 contiguous segment\n",
      "Setting up band-pass filter from 0.05 - 50 Hz\n",
      "\n",
      "FIR filter parameters\n",
      "---------------------\n",
      "Designing a one-pass, zero-phase, non-causal bandpass filter:\n",
      "- Windowed time-domain design (firwin) method\n",
      "- Hamming window with 0.0194 passband ripple and 53 dB stopband attenuation\n",
      "- Lower passband edge: 0.05\n",
      "- Lower transition bandwidth: 0.05 Hz (-6 dB cutoff frequency: 0.03 Hz)\n",
      "- Upper passband edge: 50.00 Hz\n",
      "- Upper transition bandwidth: 12.50 Hz (-6 dB cutoff frequency: 56.25 Hz)\n",
      "- Filter length: 33793 samples (66.002 s)\n",
      "\n"
     ]
    },
    {
     "name": "stderr",
     "output_type": "stream",
     "text": [
      "[Parallel(n_jobs=1)]: Done  17 tasks      | elapsed:    0.3s\n"
     ]
    },
    {
     "name": "stdout",
     "output_type": "stream",
     "text": [
      "Fitting ICA to data using 64 channels (please be patient, this may take a while)\n",
      "Selecting by number: 20 components\n",
      "Fitting ICA took 7.8s.\n"
     ]
    },
    {
     "name": "stderr",
     "output_type": "stream",
     "text": [
      "/var/folders/m6/tws1p1s95hq4nqmf8vg1ncch0000gn/T/ipykernel_41516/2578086535.py:5: RuntimeWarning: Using n_components=20 (resulting in n_components_=20) may lead to an unstable mixing matrix estimation because the ratio between the largest (64) and smallest (5.8e-06) variances is too large (> 1e6); consider setting n_components=0.999999 or an integer <= 6\n",
      "  ica.fit(raw)\n",
      "/var/folders/m6/tws1p1s95hq4nqmf8vg1ncch0000gn/T/ipykernel_41516/2578086535.py:8: RuntimeWarning: The provided Raw instance does not seem to be referenced to a common average reference (CAR). ICLabel was designed to classify features extracted from an EEG dataset referenced to a CAR (see the 'set_eeg_reference()' method for Raw and Epochs instances).\n",
      "  ic_labels = label_components(raw, ica, method='iclabel')\n",
      "/var/folders/m6/tws1p1s95hq4nqmf8vg1ncch0000gn/T/ipykernel_41516/2578086535.py:8: RuntimeWarning: The provided Raw instance is not filtered between 1 and 100 Hz. ICLabel was designed to classify features extracted from an EEG dataset bandpass filtered between 1 and 100 Hz (see the 'filter()' method for Raw and Epochs instances).\n",
      "  ic_labels = label_components(raw, ica, method='iclabel')\n",
      "/var/folders/m6/tws1p1s95hq4nqmf8vg1ncch0000gn/T/ipykernel_41516/2578086535.py:8: RuntimeWarning: The provided ICA instance was fitted with a 'fastica' algorithm. ICLabel was designed with extended infomax ICA decompositions. To use the extended infomax algorithm, use the 'mne.preprocessing.ICA' instance with the arguments 'ICA(method='infomax', fit_params=dict(extended=True))' (scikit-learn) or 'ICA(method='picard', fit_params=dict(ortho=False, extended=True))' (python-picard).\n",
      "  ic_labels = label_components(raw, ica, method='iclabel')\n"
     ]
    },
    {
     "name": "stdout",
     "output_type": "stream",
     "text": [
      "Applying ICA to Raw instance\n",
      "    Transforming to ICA space (20 components)\n",
      "    Zeroing out 20 ICA components\n",
      "    Projecting back using 64 PCA components\n",
      "Trigger channel Status has a non-zero initial value of {initial_value} (consider using initial_event=True to detect this event)\n",
      "Removing orphaned offset at the beginning of the file.\n",
      "160 events found on stim channel Status\n",
      "Event IDs: [1 3]\n",
      "Not setting metadata\n",
      "160 matching events found\n",
      "Setting baseline interval to [-0.19921875, 0.0] s\n",
      "Applying baseline correction (mode: mean)\n",
      "0 projection items activated\n",
      "Using data from preloaded Raw for 160 events and 615 original time points ...\n",
      "0 bad epochs dropped\n",
      "Applying baseline correction (mode: mean)\n",
      "Extracting EDF parameters from /Users/sammy/Documents/SP EEG/pro_bids/sub-019/eeg/sub-019_task-jacobsen_eeg.bdf...\n",
      "BDF file detected\n",
      "Setting channel info structure...\n",
      "Creating raw.info structure...\n",
      "Reading events from /Users/sammy/Documents/SP EEG/pro_bids/sub-019/eeg/sub-019_task-jacobsen_events.tsv.\n",
      "Reading channel info from /Users/sammy/Documents/SP EEG/pro_bids/sub-019/eeg/sub-019_task-jacobsen_channels.tsv.\n",
      "Reading electrode coords from /Users/sammy/Documents/SP EEG/pro_bids/sub-019/eeg/sub-019_task-jacobsen_electrodes.tsv.\n",
      "Reading 0 ... 462335  =      0.000 ...   902.998 secs...\n"
     ]
    },
    {
     "name": "stderr",
     "output_type": "stream",
     "text": [
      "/var/folders/m6/tws1p1s95hq4nqmf8vg1ncch0000gn/T/ipykernel_41516/3921119066.py:7: RuntimeWarning: The number of channels in the channels.tsv sidecar file (72) does not match the number of channels in the raw data file (73). Will not try to set channel names.\n",
      "  raw = read_raw_bids(bids_path)\n",
      "/var/folders/m6/tws1p1s95hq4nqmf8vg1ncch0000gn/T/ipykernel_41516/3921119066.py:7: RuntimeWarning: Cannot set channel type for the following channels, as they are missing in the raw data: 'AF3', 'AF4', 'AF7', 'AF8', 'AFz', 'C1', 'C2', 'C3', 'C4', 'C5', 'C6', 'CP1', 'CP2', 'CP3', 'CP4', 'CP5', 'CP6', 'CPz', 'Cz', 'EXG1', 'EXG2', 'EXG3', 'EXG4', 'EXG5', 'EXG6', 'EXG7', 'EXG8', 'F1', 'F2', 'F3', 'F4', 'F5', 'F6', 'F7', 'F8', 'FC1', 'FC2', 'FC3', 'FC4', 'FC5', 'FC6', 'FCz', 'FT7', 'FT8', 'Fp1', 'Fp2', 'Fpz', 'Fz', 'Iz', 'O1', 'O2', 'Oz', 'P1', 'P10', 'P2', 'P3', 'P4', 'P5', 'P6', 'P7', 'P8', 'P9', 'PO3', 'PO4', 'PO7', 'PO8', 'POz', 'Pz', 'T7', 'T8', 'TP7', 'TP8'\n",
      "  raw = read_raw_bids(bids_path)\n",
      "/var/folders/m6/tws1p1s95hq4nqmf8vg1ncch0000gn/T/ipykernel_41516/3921119066.py:7: RuntimeWarning: There are channels without locations (n/a) that are not marked as bad: [\"'EXG1'\", \"'EXG2'\", \"'EXG3'\", \"'EXG4'\", \"'EXG5'\", \"'EXG6'\", \"'EXG7'\", \"'EXG8'\"]\n",
      "  raw = read_raw_bids(bids_path)\n",
      "/var/folders/m6/tws1p1s95hq4nqmf8vg1ncch0000gn/T/ipykernel_41516/3921119066.py:7: RuntimeWarning: DigMontage is only a subset of info. There are 72 channel positions not present in the DigMontage. The channels missing from the montage are:\n",
      "\n",
      "['Fp1', 'AF7', 'AF3', 'F1', 'F3', 'F5', 'F7', 'FT7', 'FC5', 'FC3', 'FC1', 'C1', 'C3', 'C5', 'T7', 'TP7', 'CP5', 'CP3', 'CP1', 'P1', 'P3', 'P5', 'P7', 'P9', 'PO7', 'PO3', 'O1', 'Iz', 'Oz', 'POz', 'Pz', 'CPz', 'Fpz', 'Fp2', 'AF8', 'AF4', 'AFz', 'Fz', 'F2', 'F4', 'F6', 'F8', 'FT8', 'FC6', 'FC4', 'FC2', 'FCz', 'Cz', 'C2', 'C4', 'C6', 'T8', 'TP8', 'CP6', 'CP4', 'CP2', 'P2', 'P4', 'P6', 'P8', 'P10', 'PO8', 'PO4', 'O2', 'EXG1', 'EXG2', 'EXG3', 'EXG4', 'EXG5', 'EXG6', 'EXG7', 'EXG8'].\n",
      "\n",
      "Consider using inst.rename_channels to match the montage nomenclature, or inst.set_channel_types if these are not EEG channels, or use the on_missing parameter if the channel positions are allowed to be unknown in your analyses.\n",
      "  raw = read_raw_bids(bids_path)\n"
     ]
    },
    {
     "name": "stdout",
     "output_type": "stream",
     "text": [
      "Filtering raw data in 1 contiguous segment\n",
      "Setting up band-pass filter from 0.05 - 50 Hz\n",
      "\n",
      "FIR filter parameters\n",
      "---------------------\n",
      "Designing a one-pass, zero-phase, non-causal bandpass filter:\n",
      "- Windowed time-domain design (firwin) method\n",
      "- Hamming window with 0.0194 passband ripple and 53 dB stopband attenuation\n",
      "- Lower passband edge: 0.05\n",
      "- Lower transition bandwidth: 0.05 Hz (-6 dB cutoff frequency: 0.03 Hz)\n",
      "- Upper passband edge: 50.00 Hz\n",
      "- Upper transition bandwidth: 12.50 Hz (-6 dB cutoff frequency: 56.25 Hz)\n",
      "- Filter length: 33793 samples (66.002 s)\n",
      "\n"
     ]
    },
    {
     "name": "stderr",
     "output_type": "stream",
     "text": [
      "[Parallel(n_jobs=1)]: Done  17 tasks      | elapsed:    0.3s\n"
     ]
    },
    {
     "name": "stdout",
     "output_type": "stream",
     "text": [
      "Fitting ICA to data using 64 channels (please be patient, this may take a while)\n",
      "Selecting by number: 20 components\n",
      "Fitting ICA took 144.9s.\n"
     ]
    },
    {
     "name": "stderr",
     "output_type": "stream",
     "text": [
      "/opt/anaconda3/envs/mne_env/lib/python3.9/site-packages/sklearn/decomposition/_fastica.py:128: ConvergenceWarning: FastICA did not converge. Consider increasing tolerance or the maximum number of iterations.\n",
      "  warnings.warn(\n",
      "/var/folders/m6/tws1p1s95hq4nqmf8vg1ncch0000gn/T/ipykernel_41516/2578086535.py:8: RuntimeWarning: The provided Raw instance does not seem to be referenced to a common average reference (CAR). ICLabel was designed to classify features extracted from an EEG dataset referenced to a CAR (see the 'set_eeg_reference()' method for Raw and Epochs instances).\n",
      "  ic_labels = label_components(raw, ica, method='iclabel')\n",
      "/var/folders/m6/tws1p1s95hq4nqmf8vg1ncch0000gn/T/ipykernel_41516/2578086535.py:8: RuntimeWarning: The provided Raw instance is not filtered between 1 and 100 Hz. ICLabel was designed to classify features extracted from an EEG dataset bandpass filtered between 1 and 100 Hz (see the 'filter()' method for Raw and Epochs instances).\n",
      "  ic_labels = label_components(raw, ica, method='iclabel')\n",
      "/var/folders/m6/tws1p1s95hq4nqmf8vg1ncch0000gn/T/ipykernel_41516/2578086535.py:8: RuntimeWarning: The provided ICA instance was fitted with a 'fastica' algorithm. ICLabel was designed with extended infomax ICA decompositions. To use the extended infomax algorithm, use the 'mne.preprocessing.ICA' instance with the arguments 'ICA(method='infomax', fit_params=dict(extended=True))' (scikit-learn) or 'ICA(method='picard', fit_params=dict(ortho=False, extended=True))' (python-picard).\n",
      "  ic_labels = label_components(raw, ica, method='iclabel')\n"
     ]
    },
    {
     "name": "stdout",
     "output_type": "stream",
     "text": [
      "Applying ICA to Raw instance\n",
      "    Transforming to ICA space (20 components)\n",
      "    Zeroing out 20 ICA components\n",
      "    Projecting back using 64 PCA components\n",
      "Trigger channel Status has a non-zero initial value of {initial_value} (consider using initial_event=True to detect this event)\n",
      "Removing orphaned offset at the beginning of the file.\n",
      "160 events found on stim channel Status\n",
      "Event IDs: [1 3]\n",
      "Not setting metadata\n",
      "160 matching events found\n",
      "Setting baseline interval to [-0.19921875, 0.0] s\n",
      "Applying baseline correction (mode: mean)\n",
      "0 projection items activated\n",
      "Using data from preloaded Raw for 160 events and 615 original time points ...\n",
      "0 bad epochs dropped\n",
      "Applying baseline correction (mode: mean)\n",
      "Extracting EDF parameters from /Users/sammy/Documents/SP EEG/pro_bids/sub-020/eeg/sub-020_task-jacobsen_eeg.bdf...\n",
      "BDF file detected\n",
      "Setting channel info structure...\n",
      "Creating raw.info structure...\n",
      "Reading events from /Users/sammy/Documents/SP EEG/pro_bids/sub-020/eeg/sub-020_task-jacobsen_events.tsv.\n",
      "Reading channel info from /Users/sammy/Documents/SP EEG/pro_bids/sub-020/eeg/sub-020_task-jacobsen_channels.tsv.\n",
      "Reading electrode coords from /Users/sammy/Documents/SP EEG/pro_bids/sub-020/eeg/sub-020_task-jacobsen_electrodes.tsv.\n",
      "Reading 0 ... 481791  =      0.000 ...   940.998 secs...\n"
     ]
    },
    {
     "name": "stderr",
     "output_type": "stream",
     "text": [
      "/var/folders/m6/tws1p1s95hq4nqmf8vg1ncch0000gn/T/ipykernel_41516/3921119066.py:7: RuntimeWarning: The number of channels in the channels.tsv sidecar file (72) does not match the number of channels in the raw data file (73). Will not try to set channel names.\n",
      "  raw = read_raw_bids(bids_path)\n",
      "/var/folders/m6/tws1p1s95hq4nqmf8vg1ncch0000gn/T/ipykernel_41516/3921119066.py:7: RuntimeWarning: Cannot set channel type for the following channels, as they are missing in the raw data: 'AF3', 'AF4', 'AF7', 'AF8', 'AFz', 'C1', 'C2', 'C3', 'C4', 'C5', 'C6', 'CP1', 'CP2', 'CP3', 'CP4', 'CP5', 'CP6', 'CPz', 'Cz', 'EXG1', 'EXG2', 'EXG3', 'EXG4', 'EXG5', 'EXG6', 'EXG7', 'EXG8', 'F1', 'F2', 'F3', 'F4', 'F5', 'F6', 'F7', 'F8', 'FC1', 'FC2', 'FC3', 'FC4', 'FC5', 'FC6', 'FCz', 'FT7', 'FT8', 'Fp1', 'Fp2', 'Fpz', 'Fz', 'Iz', 'O1', 'O2', 'Oz', 'P1', 'P10', 'P2', 'P3', 'P4', 'P5', 'P6', 'P7', 'P8', 'P9', 'PO3', 'PO4', 'PO7', 'PO8', 'POz', 'Pz', 'T7', 'T8', 'TP7', 'TP8'\n",
      "  raw = read_raw_bids(bids_path)\n",
      "/var/folders/m6/tws1p1s95hq4nqmf8vg1ncch0000gn/T/ipykernel_41516/3921119066.py:7: RuntimeWarning: There are channels without locations (n/a) that are not marked as bad: [\"'EXG1'\", \"'EXG2'\", \"'EXG3'\", \"'EXG4'\", \"'EXG5'\", \"'EXG6'\", \"'EXG7'\", \"'EXG8'\"]\n",
      "  raw = read_raw_bids(bids_path)\n",
      "/var/folders/m6/tws1p1s95hq4nqmf8vg1ncch0000gn/T/ipykernel_41516/3921119066.py:7: RuntimeWarning: DigMontage is only a subset of info. There are 72 channel positions not present in the DigMontage. The channels missing from the montage are:\n",
      "\n",
      "['Fp1', 'AF7', 'AF3', 'F1', 'F3', 'F5', 'F7', 'FT7', 'FC5', 'FC3', 'FC1', 'C1', 'C3', 'C5', 'T7', 'TP7', 'CP5', 'CP3', 'CP1', 'P1', 'P3', 'P5', 'P7', 'P9', 'PO7', 'PO3', 'O1', 'Iz', 'Oz', 'POz', 'Pz', 'CPz', 'Fpz', 'Fp2', 'AF8', 'AF4', 'AFz', 'Fz', 'F2', 'F4', 'F6', 'F8', 'FT8', 'FC6', 'FC4', 'FC2', 'FCz', 'Cz', 'C2', 'C4', 'C6', 'T8', 'TP8', 'CP6', 'CP4', 'CP2', 'P2', 'P4', 'P6', 'P8', 'P10', 'PO8', 'PO4', 'O2', 'EXG1', 'EXG2', 'EXG3', 'EXG4', 'EXG5', 'EXG6', 'EXG7', 'EXG8'].\n",
      "\n",
      "Consider using inst.rename_channels to match the montage nomenclature, or inst.set_channel_types if these are not EEG channels, or use the on_missing parameter if the channel positions are allowed to be unknown in your analyses.\n",
      "  raw = read_raw_bids(bids_path)\n"
     ]
    },
    {
     "name": "stdout",
     "output_type": "stream",
     "text": [
      "Filtering raw data in 1 contiguous segment\n",
      "Setting up band-pass filter from 0.05 - 50 Hz\n",
      "\n",
      "FIR filter parameters\n",
      "---------------------\n",
      "Designing a one-pass, zero-phase, non-causal bandpass filter:\n",
      "- Windowed time-domain design (firwin) method\n",
      "- Hamming window with 0.0194 passband ripple and 53 dB stopband attenuation\n",
      "- Lower passband edge: 0.05\n",
      "- Lower transition bandwidth: 0.05 Hz (-6 dB cutoff frequency: 0.03 Hz)\n",
      "- Upper passband edge: 50.00 Hz\n",
      "- Upper transition bandwidth: 12.50 Hz (-6 dB cutoff frequency: 56.25 Hz)\n",
      "- Filter length: 33793 samples (66.002 s)\n",
      "\n"
     ]
    },
    {
     "name": "stderr",
     "output_type": "stream",
     "text": [
      "[Parallel(n_jobs=1)]: Done  17 tasks      | elapsed:    0.3s\n"
     ]
    },
    {
     "name": "stdout",
     "output_type": "stream",
     "text": [
      "Fitting ICA to data using 64 channels (please be patient, this may take a while)\n",
      "Selecting by number: 20 components\n",
      "Fitting ICA took 7.1s.\n"
     ]
    },
    {
     "name": "stderr",
     "output_type": "stream",
     "text": [
      "/var/folders/m6/tws1p1s95hq4nqmf8vg1ncch0000gn/T/ipykernel_41516/2578086535.py:8: RuntimeWarning: The provided Raw instance does not seem to be referenced to a common average reference (CAR). ICLabel was designed to classify features extracted from an EEG dataset referenced to a CAR (see the 'set_eeg_reference()' method for Raw and Epochs instances).\n",
      "  ic_labels = label_components(raw, ica, method='iclabel')\n",
      "/var/folders/m6/tws1p1s95hq4nqmf8vg1ncch0000gn/T/ipykernel_41516/2578086535.py:8: RuntimeWarning: The provided Raw instance is not filtered between 1 and 100 Hz. ICLabel was designed to classify features extracted from an EEG dataset bandpass filtered between 1 and 100 Hz (see the 'filter()' method for Raw and Epochs instances).\n",
      "  ic_labels = label_components(raw, ica, method='iclabel')\n",
      "/var/folders/m6/tws1p1s95hq4nqmf8vg1ncch0000gn/T/ipykernel_41516/2578086535.py:8: RuntimeWarning: The provided ICA instance was fitted with a 'fastica' algorithm. ICLabel was designed with extended infomax ICA decompositions. To use the extended infomax algorithm, use the 'mne.preprocessing.ICA' instance with the arguments 'ICA(method='infomax', fit_params=dict(extended=True))' (scikit-learn) or 'ICA(method='picard', fit_params=dict(ortho=False, extended=True))' (python-picard).\n",
      "  ic_labels = label_components(raw, ica, method='iclabel')\n"
     ]
    },
    {
     "name": "stdout",
     "output_type": "stream",
     "text": [
      "Applying ICA to Raw instance\n",
      "    Transforming to ICA space (20 components)\n",
      "    Zeroing out 20 ICA components\n",
      "    Projecting back using 64 PCA components\n",
      "Trigger channel Status has a non-zero initial value of {initial_value} (consider using initial_event=True to detect this event)\n",
      "Removing orphaned offset at the beginning of the file.\n",
      "160 events found on stim channel Status\n",
      "Event IDs: [1 3]\n",
      "Not setting metadata\n",
      "160 matching events found\n",
      "Setting baseline interval to [-0.19921875, 0.0] s\n",
      "Applying baseline correction (mode: mean)\n",
      "0 projection items activated\n",
      "Using data from preloaded Raw for 160 events and 615 original time points ...\n",
      "0 bad epochs dropped\n",
      "Applying baseline correction (mode: mean)\n",
      "Extracting EDF parameters from /Users/sammy/Documents/SP EEG/pro_bids/sub-021/eeg/sub-021_task-jacobsen_eeg.bdf...\n",
      "BDF file detected\n",
      "Setting channel info structure...\n",
      "Creating raw.info structure...\n",
      "Reading events from /Users/sammy/Documents/SP EEG/pro_bids/sub-021/eeg/sub-021_task-jacobsen_events.tsv.\n",
      "Reading channel info from /Users/sammy/Documents/SP EEG/pro_bids/sub-021/eeg/sub-021_task-jacobsen_channels.tsv.\n",
      "Reading electrode coords from /Users/sammy/Documents/SP EEG/pro_bids/sub-021/eeg/sub-021_task-jacobsen_electrodes.tsv.\n",
      "Reading 0 ... 528895  =      0.000 ...  1032.998 secs...\n"
     ]
    },
    {
     "name": "stderr",
     "output_type": "stream",
     "text": [
      "/var/folders/m6/tws1p1s95hq4nqmf8vg1ncch0000gn/T/ipykernel_41516/3921119066.py:7: RuntimeWarning: The number of channels in the channels.tsv sidecar file (72) does not match the number of channels in the raw data file (73). Will not try to set channel names.\n",
      "  raw = read_raw_bids(bids_path)\n",
      "/var/folders/m6/tws1p1s95hq4nqmf8vg1ncch0000gn/T/ipykernel_41516/3921119066.py:7: RuntimeWarning: Cannot set channel type for the following channels, as they are missing in the raw data: 'AF3', 'AF4', 'AF7', 'AF8', 'AFz', 'C1', 'C2', 'C3', 'C4', 'C5', 'C6', 'CP1', 'CP2', 'CP3', 'CP4', 'CP5', 'CP6', 'CPz', 'Cz', 'EXG1', 'EXG2', 'EXG3', 'EXG4', 'EXG5', 'EXG6', 'EXG7', 'EXG8', 'F1', 'F2', 'F3', 'F4', 'F5', 'F6', 'F7', 'F8', 'FC1', 'FC2', 'FC3', 'FC4', 'FC5', 'FC6', 'FCz', 'FT7', 'FT8', 'Fp1', 'Fp2', 'Fpz', 'Fz', 'Iz', 'O1', 'O2', 'Oz', 'P1', 'P10', 'P2', 'P3', 'P4', 'P5', 'P6', 'P7', 'P8', 'P9', 'PO3', 'PO4', 'PO7', 'PO8', 'POz', 'Pz', 'T7', 'T8', 'TP7', 'TP8'\n",
      "  raw = read_raw_bids(bids_path)\n",
      "/var/folders/m6/tws1p1s95hq4nqmf8vg1ncch0000gn/T/ipykernel_41516/3921119066.py:7: RuntimeWarning: There are channels without locations (n/a) that are not marked as bad: [\"'EXG1'\", \"'EXG2'\", \"'EXG3'\", \"'EXG4'\", \"'EXG5'\", \"'EXG6'\", \"'EXG7'\", \"'EXG8'\"]\n",
      "  raw = read_raw_bids(bids_path)\n",
      "/var/folders/m6/tws1p1s95hq4nqmf8vg1ncch0000gn/T/ipykernel_41516/3921119066.py:7: RuntimeWarning: DigMontage is only a subset of info. There are 72 channel positions not present in the DigMontage. The channels missing from the montage are:\n",
      "\n",
      "['Fp1', 'AF7', 'AF3', 'F1', 'F3', 'F5', 'F7', 'FT7', 'FC5', 'FC3', 'FC1', 'C1', 'C3', 'C5', 'T7', 'TP7', 'CP5', 'CP3', 'CP1', 'P1', 'P3', 'P5', 'P7', 'P9', 'PO7', 'PO3', 'O1', 'Iz', 'Oz', 'POz', 'Pz', 'CPz', 'Fpz', 'Fp2', 'AF8', 'AF4', 'AFz', 'Fz', 'F2', 'F4', 'F6', 'F8', 'FT8', 'FC6', 'FC4', 'FC2', 'FCz', 'Cz', 'C2', 'C4', 'C6', 'T8', 'TP8', 'CP6', 'CP4', 'CP2', 'P2', 'P4', 'P6', 'P8', 'P10', 'PO8', 'PO4', 'O2', 'EXG1', 'EXG2', 'EXG3', 'EXG4', 'EXG5', 'EXG6', 'EXG7', 'EXG8'].\n",
      "\n",
      "Consider using inst.rename_channels to match the montage nomenclature, or inst.set_channel_types if these are not EEG channels, or use the on_missing parameter if the channel positions are allowed to be unknown in your analyses.\n",
      "  raw = read_raw_bids(bids_path)\n"
     ]
    },
    {
     "name": "stdout",
     "output_type": "stream",
     "text": [
      "Filtering raw data in 1 contiguous segment\n",
      "Setting up band-pass filter from 0.05 - 50 Hz\n",
      "\n",
      "FIR filter parameters\n",
      "---------------------\n",
      "Designing a one-pass, zero-phase, non-causal bandpass filter:\n",
      "- Windowed time-domain design (firwin) method\n",
      "- Hamming window with 0.0194 passband ripple and 53 dB stopband attenuation\n",
      "- Lower passband edge: 0.05\n",
      "- Lower transition bandwidth: 0.05 Hz (-6 dB cutoff frequency: 0.03 Hz)\n",
      "- Upper passband edge: 50.00 Hz\n",
      "- Upper transition bandwidth: 12.50 Hz (-6 dB cutoff frequency: 56.25 Hz)\n",
      "- Filter length: 33793 samples (66.002 s)\n",
      "\n"
     ]
    },
    {
     "name": "stderr",
     "output_type": "stream",
     "text": [
      "[Parallel(n_jobs=1)]: Done  17 tasks      | elapsed:    0.3s\n"
     ]
    },
    {
     "name": "stdout",
     "output_type": "stream",
     "text": [
      "Fitting ICA to data using 64 channels (please be patient, this may take a while)\n",
      "Selecting by number: 20 components\n",
      "Fitting ICA took 13.4s.\n"
     ]
    },
    {
     "name": "stderr",
     "output_type": "stream",
     "text": [
      "/var/folders/m6/tws1p1s95hq4nqmf8vg1ncch0000gn/T/ipykernel_41516/2578086535.py:8: RuntimeWarning: The provided Raw instance does not seem to be referenced to a common average reference (CAR). ICLabel was designed to classify features extracted from an EEG dataset referenced to a CAR (see the 'set_eeg_reference()' method for Raw and Epochs instances).\n",
      "  ic_labels = label_components(raw, ica, method='iclabel')\n",
      "/var/folders/m6/tws1p1s95hq4nqmf8vg1ncch0000gn/T/ipykernel_41516/2578086535.py:8: RuntimeWarning: The provided Raw instance is not filtered between 1 and 100 Hz. ICLabel was designed to classify features extracted from an EEG dataset bandpass filtered between 1 and 100 Hz (see the 'filter()' method for Raw and Epochs instances).\n",
      "  ic_labels = label_components(raw, ica, method='iclabel')\n",
      "/var/folders/m6/tws1p1s95hq4nqmf8vg1ncch0000gn/T/ipykernel_41516/2578086535.py:8: RuntimeWarning: The provided ICA instance was fitted with a 'fastica' algorithm. ICLabel was designed with extended infomax ICA decompositions. To use the extended infomax algorithm, use the 'mne.preprocessing.ICA' instance with the arguments 'ICA(method='infomax', fit_params=dict(extended=True))' (scikit-learn) or 'ICA(method='picard', fit_params=dict(ortho=False, extended=True))' (python-picard).\n",
      "  ic_labels = label_components(raw, ica, method='iclabel')\n"
     ]
    },
    {
     "name": "stdout",
     "output_type": "stream",
     "text": [
      "Applying ICA to Raw instance\n",
      "    Transforming to ICA space (20 components)\n",
      "    Zeroing out 20 ICA components\n",
      "    Projecting back using 64 PCA components\n",
      "Trigger channel Status has a non-zero initial value of {initial_value} (consider using initial_event=True to detect this event)\n",
      "Removing orphaned offset at the beginning of the file.\n",
      "161 events found on stim channel Status\n",
      "Event IDs: [    1     3 65536]\n",
      "Not setting metadata\n",
      "160 matching events found\n",
      "Setting baseline interval to [-0.19921875, 0.0] s\n",
      "Applying baseline correction (mode: mean)\n",
      "0 projection items activated\n",
      "Using data from preloaded Raw for 160 events and 615 original time points ...\n",
      "0 bad epochs dropped\n",
      "Applying baseline correction (mode: mean)\n",
      "Extracting EDF parameters from /Users/sammy/Documents/SP EEG/pro_bids/sub-022/eeg/sub-022_task-jacobsen_eeg.bdf...\n",
      "BDF file detected\n",
      "Setting channel info structure...\n",
      "Creating raw.info structure...\n",
      "Reading events from /Users/sammy/Documents/SP EEG/pro_bids/sub-022/eeg/sub-022_task-jacobsen_events.tsv.\n",
      "Reading channel info from /Users/sammy/Documents/SP EEG/pro_bids/sub-022/eeg/sub-022_task-jacobsen_channels.tsv.\n",
      "Reading electrode coords from /Users/sammy/Documents/SP EEG/pro_bids/sub-022/eeg/sub-022_task-jacobsen_electrodes.tsv.\n",
      "Reading 0 ... 470015  =      0.000 ...   917.998 secs...\n"
     ]
    },
    {
     "name": "stderr",
     "output_type": "stream",
     "text": [
      "/var/folders/m6/tws1p1s95hq4nqmf8vg1ncch0000gn/T/ipykernel_41516/3921119066.py:7: RuntimeWarning: The number of channels in the channels.tsv sidecar file (72) does not match the number of channels in the raw data file (73). Will not try to set channel names.\n",
      "  raw = read_raw_bids(bids_path)\n",
      "/var/folders/m6/tws1p1s95hq4nqmf8vg1ncch0000gn/T/ipykernel_41516/3921119066.py:7: RuntimeWarning: Cannot set channel type for the following channels, as they are missing in the raw data: 'AF3', 'AF4', 'AF7', 'AF8', 'AFz', 'C1', 'C2', 'C3', 'C4', 'C5', 'C6', 'CP1', 'CP2', 'CP3', 'CP4', 'CP5', 'CP6', 'CPz', 'Cz', 'EXG1', 'EXG2', 'EXG3', 'EXG4', 'EXG5', 'EXG6', 'EXG7', 'EXG8', 'F1', 'F2', 'F3', 'F4', 'F5', 'F6', 'F7', 'F8', 'FC1', 'FC2', 'FC3', 'FC4', 'FC5', 'FC6', 'FCz', 'FT7', 'FT8', 'Fp1', 'Fp2', 'Fpz', 'Fz', 'Iz', 'O1', 'O2', 'Oz', 'P1', 'P10', 'P2', 'P3', 'P4', 'P5', 'P6', 'P7', 'P8', 'P9', 'PO3', 'PO4', 'PO7', 'PO8', 'POz', 'Pz', 'T7', 'T8', 'TP7', 'TP8'\n",
      "  raw = read_raw_bids(bids_path)\n",
      "/var/folders/m6/tws1p1s95hq4nqmf8vg1ncch0000gn/T/ipykernel_41516/3921119066.py:7: RuntimeWarning: There are channels without locations (n/a) that are not marked as bad: [\"'EXG1'\", \"'EXG2'\", \"'EXG3'\", \"'EXG4'\", \"'EXG5'\", \"'EXG6'\", \"'EXG7'\", \"'EXG8'\"]\n",
      "  raw = read_raw_bids(bids_path)\n",
      "/var/folders/m6/tws1p1s95hq4nqmf8vg1ncch0000gn/T/ipykernel_41516/3921119066.py:7: RuntimeWarning: DigMontage is only a subset of info. There are 72 channel positions not present in the DigMontage. The channels missing from the montage are:\n",
      "\n",
      "['Fp1', 'AF7', 'AF3', 'F1', 'F3', 'F5', 'F7', 'FT7', 'FC5', 'FC3', 'FC1', 'C1', 'C3', 'C5', 'T7', 'TP7', 'CP5', 'CP3', 'CP1', 'P1', 'P3', 'P5', 'P7', 'P9', 'PO7', 'PO3', 'O1', 'Iz', 'Oz', 'POz', 'Pz', 'CPz', 'Fpz', 'Fp2', 'AF8', 'AF4', 'AFz', 'Fz', 'F2', 'F4', 'F6', 'F8', 'FT8', 'FC6', 'FC4', 'FC2', 'FCz', 'Cz', 'C2', 'C4', 'C6', 'T8', 'TP8', 'CP6', 'CP4', 'CP2', 'P2', 'P4', 'P6', 'P8', 'P10', 'PO8', 'PO4', 'O2', 'EXG1', 'EXG2', 'EXG3', 'EXG4', 'EXG5', 'EXG6', 'EXG7', 'EXG8'].\n",
      "\n",
      "Consider using inst.rename_channels to match the montage nomenclature, or inst.set_channel_types if these are not EEG channels, or use the on_missing parameter if the channel positions are allowed to be unknown in your analyses.\n",
      "  raw = read_raw_bids(bids_path)\n"
     ]
    },
    {
     "name": "stdout",
     "output_type": "stream",
     "text": [
      "Filtering raw data in 1 contiguous segment\n",
      "Setting up band-pass filter from 0.05 - 50 Hz\n",
      "\n",
      "FIR filter parameters\n",
      "---------------------\n",
      "Designing a one-pass, zero-phase, non-causal bandpass filter:\n",
      "- Windowed time-domain design (firwin) method\n",
      "- Hamming window with 0.0194 passband ripple and 53 dB stopband attenuation\n",
      "- Lower passband edge: 0.05\n",
      "- Lower transition bandwidth: 0.05 Hz (-6 dB cutoff frequency: 0.03 Hz)\n",
      "- Upper passband edge: 50.00 Hz\n",
      "- Upper transition bandwidth: 12.50 Hz (-6 dB cutoff frequency: 56.25 Hz)\n",
      "- Filter length: 33793 samples (66.002 s)\n",
      "\n"
     ]
    },
    {
     "name": "stderr",
     "output_type": "stream",
     "text": [
      "[Parallel(n_jobs=1)]: Done  17 tasks      | elapsed:    0.3s\n"
     ]
    },
    {
     "name": "stdout",
     "output_type": "stream",
     "text": [
      "Fitting ICA to data using 64 channels (please be patient, this may take a while)\n",
      "Selecting by number: 20 components\n",
      "Fitting ICA took 15.3s.\n"
     ]
    },
    {
     "name": "stderr",
     "output_type": "stream",
     "text": [
      "/var/folders/m6/tws1p1s95hq4nqmf8vg1ncch0000gn/T/ipykernel_41516/2578086535.py:8: RuntimeWarning: The provided Raw instance does not seem to be referenced to a common average reference (CAR). ICLabel was designed to classify features extracted from an EEG dataset referenced to a CAR (see the 'set_eeg_reference()' method for Raw and Epochs instances).\n",
      "  ic_labels = label_components(raw, ica, method='iclabel')\n",
      "/var/folders/m6/tws1p1s95hq4nqmf8vg1ncch0000gn/T/ipykernel_41516/2578086535.py:8: RuntimeWarning: The provided Raw instance is not filtered between 1 and 100 Hz. ICLabel was designed to classify features extracted from an EEG dataset bandpass filtered between 1 and 100 Hz (see the 'filter()' method for Raw and Epochs instances).\n",
      "  ic_labels = label_components(raw, ica, method='iclabel')\n",
      "/var/folders/m6/tws1p1s95hq4nqmf8vg1ncch0000gn/T/ipykernel_41516/2578086535.py:8: RuntimeWarning: The provided ICA instance was fitted with a 'fastica' algorithm. ICLabel was designed with extended infomax ICA decompositions. To use the extended infomax algorithm, use the 'mne.preprocessing.ICA' instance with the arguments 'ICA(method='infomax', fit_params=dict(extended=True))' (scikit-learn) or 'ICA(method='picard', fit_params=dict(ortho=False, extended=True))' (python-picard).\n",
      "  ic_labels = label_components(raw, ica, method='iclabel')\n"
     ]
    },
    {
     "name": "stdout",
     "output_type": "stream",
     "text": [
      "Applying ICA to Raw instance\n",
      "    Transforming to ICA space (20 components)\n",
      "    Zeroing out 20 ICA components\n",
      "    Projecting back using 64 PCA components\n",
      "Trigger channel Status has a non-zero initial value of {initial_value} (consider using initial_event=True to detect this event)\n",
      "Removing orphaned offset at the beginning of the file.\n",
      "160 events found on stim channel Status\n",
      "Event IDs: [1 3]\n",
      "Not setting metadata\n",
      "160 matching events found\n",
      "Setting baseline interval to [-0.19921875, 0.0] s\n",
      "Applying baseline correction (mode: mean)\n",
      "0 projection items activated\n",
      "Using data from preloaded Raw for 160 events and 615 original time points ...\n",
      "0 bad epochs dropped\n",
      "Applying baseline correction (mode: mean)\n",
      "Extracting EDF parameters from /Users/sammy/Documents/SP EEG/pro_bids/sub-023/eeg/sub-023_task-jacobsen_eeg.bdf...\n",
      "BDF file detected\n",
      "Setting channel info structure...\n",
      "Creating raw.info structure...\n",
      "Reading events from /Users/sammy/Documents/SP EEG/pro_bids/sub-023/eeg/sub-023_task-jacobsen_events.tsv.\n",
      "Reading channel info from /Users/sammy/Documents/SP EEG/pro_bids/sub-023/eeg/sub-023_task-jacobsen_channels.tsv.\n",
      "Reading electrode coords from /Users/sammy/Documents/SP EEG/pro_bids/sub-023/eeg/sub-023_task-jacobsen_electrodes.tsv.\n",
      "Reading 0 ... 497151  =      0.000 ...   970.998 secs...\n"
     ]
    },
    {
     "name": "stderr",
     "output_type": "stream",
     "text": [
      "/var/folders/m6/tws1p1s95hq4nqmf8vg1ncch0000gn/T/ipykernel_41516/3921119066.py:7: RuntimeWarning: The number of channels in the channels.tsv sidecar file (72) does not match the number of channels in the raw data file (73). Will not try to set channel names.\n",
      "  raw = read_raw_bids(bids_path)\n",
      "/var/folders/m6/tws1p1s95hq4nqmf8vg1ncch0000gn/T/ipykernel_41516/3921119066.py:7: RuntimeWarning: Cannot set channel type for the following channels, as they are missing in the raw data: 'AF3', 'AF4', 'AF7', 'AF8', 'AFz', 'C1', 'C2', 'C3', 'C4', 'C5', 'C6', 'CP1', 'CP2', 'CP3', 'CP4', 'CP5', 'CP6', 'CPz', 'Cz', 'EXG1', 'EXG2', 'EXG3', 'EXG4', 'EXG5', 'EXG6', 'EXG7', 'EXG8', 'F1', 'F2', 'F3', 'F4', 'F5', 'F6', 'F7', 'F8', 'FC1', 'FC2', 'FC3', 'FC4', 'FC5', 'FC6', 'FCz', 'FT7', 'FT8', 'Fp1', 'Fp2', 'Fpz', 'Fz', 'Iz', 'O1', 'O2', 'Oz', 'P1', 'P10', 'P2', 'P3', 'P4', 'P5', 'P6', 'P7', 'P8', 'P9', 'PO3', 'PO4', 'PO7', 'PO8', 'POz', 'Pz', 'T7', 'T8', 'TP7', 'TP8'\n",
      "  raw = read_raw_bids(bids_path)\n",
      "/var/folders/m6/tws1p1s95hq4nqmf8vg1ncch0000gn/T/ipykernel_41516/3921119066.py:7: RuntimeWarning: There are channels without locations (n/a) that are not marked as bad: [\"'EXG1'\", \"'EXG2'\", \"'EXG3'\", \"'EXG4'\", \"'EXG5'\", \"'EXG6'\", \"'EXG7'\", \"'EXG8'\"]\n",
      "  raw = read_raw_bids(bids_path)\n",
      "/var/folders/m6/tws1p1s95hq4nqmf8vg1ncch0000gn/T/ipykernel_41516/3921119066.py:7: RuntimeWarning: DigMontage is only a subset of info. There are 72 channel positions not present in the DigMontage. The channels missing from the montage are:\n",
      "\n",
      "['Fp1', 'AF7', 'AF3', 'F1', 'F3', 'F5', 'F7', 'FT7', 'FC5', 'FC3', 'FC1', 'C1', 'C3', 'C5', 'T7', 'TP7', 'CP5', 'CP3', 'CP1', 'P1', 'P3', 'P5', 'P7', 'P9', 'PO7', 'PO3', 'O1', 'Iz', 'Oz', 'POz', 'Pz', 'CPz', 'Fpz', 'Fp2', 'AF8', 'AF4', 'AFz', 'Fz', 'F2', 'F4', 'F6', 'F8', 'FT8', 'FC6', 'FC4', 'FC2', 'FCz', 'Cz', 'C2', 'C4', 'C6', 'T8', 'TP8', 'CP6', 'CP4', 'CP2', 'P2', 'P4', 'P6', 'P8', 'P10', 'PO8', 'PO4', 'O2', 'EXG1', 'EXG2', 'EXG3', 'EXG4', 'EXG5', 'EXG6', 'EXG7', 'EXG8'].\n",
      "\n",
      "Consider using inst.rename_channels to match the montage nomenclature, or inst.set_channel_types if these are not EEG channels, or use the on_missing parameter if the channel positions are allowed to be unknown in your analyses.\n",
      "  raw = read_raw_bids(bids_path)\n"
     ]
    },
    {
     "name": "stdout",
     "output_type": "stream",
     "text": [
      "Filtering raw data in 1 contiguous segment\n",
      "Setting up band-pass filter from 0.05 - 50 Hz\n",
      "\n",
      "FIR filter parameters\n",
      "---------------------\n",
      "Designing a one-pass, zero-phase, non-causal bandpass filter:\n",
      "- Windowed time-domain design (firwin) method\n",
      "- Hamming window with 0.0194 passband ripple and 53 dB stopband attenuation\n",
      "- Lower passband edge: 0.05\n",
      "- Lower transition bandwidth: 0.05 Hz (-6 dB cutoff frequency: 0.03 Hz)\n",
      "- Upper passband edge: 50.00 Hz\n",
      "- Upper transition bandwidth: 12.50 Hz (-6 dB cutoff frequency: 56.25 Hz)\n",
      "- Filter length: 33793 samples (66.002 s)\n",
      "\n"
     ]
    },
    {
     "name": "stderr",
     "output_type": "stream",
     "text": [
      "[Parallel(n_jobs=1)]: Done  17 tasks      | elapsed:    0.3s\n"
     ]
    },
    {
     "name": "stdout",
     "output_type": "stream",
     "text": [
      "Fitting ICA to data using 64 channels (please be patient, this may take a while)\n",
      "Selecting by number: 20 components\n",
      "Fitting ICA took 9.3s.\n"
     ]
    },
    {
     "name": "stderr",
     "output_type": "stream",
     "text": [
      "/var/folders/m6/tws1p1s95hq4nqmf8vg1ncch0000gn/T/ipykernel_41516/2578086535.py:8: RuntimeWarning: The provided Raw instance does not seem to be referenced to a common average reference (CAR). ICLabel was designed to classify features extracted from an EEG dataset referenced to a CAR (see the 'set_eeg_reference()' method for Raw and Epochs instances).\n",
      "  ic_labels = label_components(raw, ica, method='iclabel')\n",
      "/var/folders/m6/tws1p1s95hq4nqmf8vg1ncch0000gn/T/ipykernel_41516/2578086535.py:8: RuntimeWarning: The provided Raw instance is not filtered between 1 and 100 Hz. ICLabel was designed to classify features extracted from an EEG dataset bandpass filtered between 1 and 100 Hz (see the 'filter()' method for Raw and Epochs instances).\n",
      "  ic_labels = label_components(raw, ica, method='iclabel')\n",
      "/var/folders/m6/tws1p1s95hq4nqmf8vg1ncch0000gn/T/ipykernel_41516/2578086535.py:8: RuntimeWarning: The provided ICA instance was fitted with a 'fastica' algorithm. ICLabel was designed with extended infomax ICA decompositions. To use the extended infomax algorithm, use the 'mne.preprocessing.ICA' instance with the arguments 'ICA(method='infomax', fit_params=dict(extended=True))' (scikit-learn) or 'ICA(method='picard', fit_params=dict(ortho=False, extended=True))' (python-picard).\n",
      "  ic_labels = label_components(raw, ica, method='iclabel')\n"
     ]
    },
    {
     "name": "stdout",
     "output_type": "stream",
     "text": [
      "Applying ICA to Raw instance\n",
      "    Transforming to ICA space (20 components)\n",
      "    Zeroing out 20 ICA components\n",
      "    Projecting back using 64 PCA components\n",
      "Trigger channel Status has a non-zero initial value of {initial_value} (consider using initial_event=True to detect this event)\n",
      "Removing orphaned offset at the beginning of the file.\n",
      "160 events found on stim channel Status\n",
      "Event IDs: [1 3]\n",
      "Not setting metadata\n",
      "160 matching events found\n",
      "Setting baseline interval to [-0.19921875, 0.0] s\n",
      "Applying baseline correction (mode: mean)\n",
      "0 projection items activated\n",
      "Using data from preloaded Raw for 160 events and 615 original time points ...\n",
      "0 bad epochs dropped\n",
      "Applying baseline correction (mode: mean)\n",
      "Extracting EDF parameters from /Users/sammy/Documents/SP EEG/pro_bids/sub-024/eeg/sub-024_task-jacobsen_eeg.bdf...\n",
      "BDF file detected\n",
      "Setting channel info structure...\n",
      "Creating raw.info structure...\n",
      "Reading events from /Users/sammy/Documents/SP EEG/pro_bids/sub-024/eeg/sub-024_task-jacobsen_events.tsv.\n",
      "Reading channel info from /Users/sammy/Documents/SP EEG/pro_bids/sub-024/eeg/sub-024_task-jacobsen_channels.tsv.\n",
      "Reading electrode coords from /Users/sammy/Documents/SP EEG/pro_bids/sub-024/eeg/sub-024_task-jacobsen_electrodes.tsv.\n",
      "Reading 0 ... 447999  =      0.000 ...   874.998 secs...\n"
     ]
    },
    {
     "name": "stderr",
     "output_type": "stream",
     "text": [
      "/var/folders/m6/tws1p1s95hq4nqmf8vg1ncch0000gn/T/ipykernel_41516/3921119066.py:7: RuntimeWarning: The number of channels in the channels.tsv sidecar file (72) does not match the number of channels in the raw data file (73). Will not try to set channel names.\n",
      "  raw = read_raw_bids(bids_path)\n",
      "/var/folders/m6/tws1p1s95hq4nqmf8vg1ncch0000gn/T/ipykernel_41516/3921119066.py:7: RuntimeWarning: Cannot set channel type for the following channels, as they are missing in the raw data: 'AF3', 'AF4', 'AF7', 'AF8', 'AFz', 'C1', 'C2', 'C3', 'C4', 'C5', 'C6', 'CP1', 'CP2', 'CP3', 'CP4', 'CP5', 'CP6', 'CPz', 'Cz', 'EXG1', 'EXG2', 'EXG3', 'EXG4', 'EXG5', 'EXG6', 'EXG7', 'EXG8', 'F1', 'F2', 'F3', 'F4', 'F5', 'F6', 'F7', 'F8', 'FC1', 'FC2', 'FC3', 'FC4', 'FC5', 'FC6', 'FCz', 'FT7', 'FT8', 'Fp1', 'Fp2', 'Fpz', 'Fz', 'Iz', 'O1', 'O2', 'Oz', 'P1', 'P10', 'P2', 'P3', 'P4', 'P5', 'P6', 'P7', 'P8', 'P9', 'PO3', 'PO4', 'PO7', 'PO8', 'POz', 'Pz', 'T7', 'T8', 'TP7', 'TP8'\n",
      "  raw = read_raw_bids(bids_path)\n",
      "/var/folders/m6/tws1p1s95hq4nqmf8vg1ncch0000gn/T/ipykernel_41516/3921119066.py:7: RuntimeWarning: There are channels without locations (n/a) that are not marked as bad: [\"'EXG1'\", \"'EXG2'\", \"'EXG3'\", \"'EXG4'\", \"'EXG5'\", \"'EXG6'\", \"'EXG7'\", \"'EXG8'\"]\n",
      "  raw = read_raw_bids(bids_path)\n",
      "/var/folders/m6/tws1p1s95hq4nqmf8vg1ncch0000gn/T/ipykernel_41516/3921119066.py:7: RuntimeWarning: DigMontage is only a subset of info. There are 72 channel positions not present in the DigMontage. The channels missing from the montage are:\n",
      "\n",
      "['Fp1', 'AF7', 'AF3', 'F1', 'F3', 'F5', 'F7', 'FT7', 'FC5', 'FC3', 'FC1', 'C1', 'C3', 'C5', 'T7', 'TP7', 'CP5', 'CP3', 'CP1', 'P1', 'P3', 'P5', 'P7', 'P9', 'PO7', 'PO3', 'O1', 'Iz', 'Oz', 'POz', 'Pz', 'CPz', 'Fpz', 'Fp2', 'AF8', 'AF4', 'AFz', 'Fz', 'F2', 'F4', 'F6', 'F8', 'FT8', 'FC6', 'FC4', 'FC2', 'FCz', 'Cz', 'C2', 'C4', 'C6', 'T8', 'TP8', 'CP6', 'CP4', 'CP2', 'P2', 'P4', 'P6', 'P8', 'P10', 'PO8', 'PO4', 'O2', 'EXG1', 'EXG2', 'EXG3', 'EXG4', 'EXG5', 'EXG6', 'EXG7', 'EXG8'].\n",
      "\n",
      "Consider using inst.rename_channels to match the montage nomenclature, or inst.set_channel_types if these are not EEG channels, or use the on_missing parameter if the channel positions are allowed to be unknown in your analyses.\n",
      "  raw = read_raw_bids(bids_path)\n"
     ]
    },
    {
     "name": "stdout",
     "output_type": "stream",
     "text": [
      "Filtering raw data in 1 contiguous segment\n",
      "Setting up band-pass filter from 0.05 - 50 Hz\n",
      "\n",
      "FIR filter parameters\n",
      "---------------------\n",
      "Designing a one-pass, zero-phase, non-causal bandpass filter:\n",
      "- Windowed time-domain design (firwin) method\n",
      "- Hamming window with 0.0194 passband ripple and 53 dB stopband attenuation\n",
      "- Lower passband edge: 0.05\n",
      "- Lower transition bandwidth: 0.05 Hz (-6 dB cutoff frequency: 0.03 Hz)\n",
      "- Upper passband edge: 50.00 Hz\n",
      "- Upper transition bandwidth: 12.50 Hz (-6 dB cutoff frequency: 56.25 Hz)\n",
      "- Filter length: 33793 samples (66.002 s)\n",
      "\n"
     ]
    },
    {
     "name": "stderr",
     "output_type": "stream",
     "text": [
      "[Parallel(n_jobs=1)]: Done  17 tasks      | elapsed:    0.3s\n"
     ]
    },
    {
     "name": "stdout",
     "output_type": "stream",
     "text": [
      "Fitting ICA to data using 64 channels (please be patient, this may take a while)\n",
      "Selecting by number: 20 components\n",
      "Fitting ICA took 32.1s.\n"
     ]
    },
    {
     "name": "stderr",
     "output_type": "stream",
     "text": [
      "/var/folders/m6/tws1p1s95hq4nqmf8vg1ncch0000gn/T/ipykernel_41516/2578086535.py:8: RuntimeWarning: The provided Raw instance does not seem to be referenced to a common average reference (CAR). ICLabel was designed to classify features extracted from an EEG dataset referenced to a CAR (see the 'set_eeg_reference()' method for Raw and Epochs instances).\n",
      "  ic_labels = label_components(raw, ica, method='iclabel')\n",
      "/var/folders/m6/tws1p1s95hq4nqmf8vg1ncch0000gn/T/ipykernel_41516/2578086535.py:8: RuntimeWarning: The provided Raw instance is not filtered between 1 and 100 Hz. ICLabel was designed to classify features extracted from an EEG dataset bandpass filtered between 1 and 100 Hz (see the 'filter()' method for Raw and Epochs instances).\n",
      "  ic_labels = label_components(raw, ica, method='iclabel')\n",
      "/var/folders/m6/tws1p1s95hq4nqmf8vg1ncch0000gn/T/ipykernel_41516/2578086535.py:8: RuntimeWarning: The provided ICA instance was fitted with a 'fastica' algorithm. ICLabel was designed with extended infomax ICA decompositions. To use the extended infomax algorithm, use the 'mne.preprocessing.ICA' instance with the arguments 'ICA(method='infomax', fit_params=dict(extended=True))' (scikit-learn) or 'ICA(method='picard', fit_params=dict(ortho=False, extended=True))' (python-picard).\n",
      "  ic_labels = label_components(raw, ica, method='iclabel')\n"
     ]
    },
    {
     "name": "stdout",
     "output_type": "stream",
     "text": [
      "Applying ICA to Raw instance\n",
      "    Transforming to ICA space (20 components)\n",
      "    Zeroing out 20 ICA components\n",
      "    Projecting back using 64 PCA components\n",
      "Trigger channel Status has a non-zero initial value of {initial_value} (consider using initial_event=True to detect this event)\n",
      "Removing orphaned offset at the beginning of the file.\n",
      "160 events found on stim channel Status\n",
      "Event IDs: [1 3]\n",
      "Not setting metadata\n",
      "160 matching events found\n",
      "Setting baseline interval to [-0.19921875, 0.0] s\n",
      "Applying baseline correction (mode: mean)\n",
      "0 projection items activated\n",
      "Using data from preloaded Raw for 160 events and 615 original time points ...\n",
      "0 bad epochs dropped\n",
      "Applying baseline correction (mode: mean)\n"
     ]
    }
   ],
   "source": [
    "# making list of all evoked variables from the data, subjects IDs.\n",
    "compList = []\n",
    "for i in range(0,24):\n",
    "    temp = loadEvoked(subIds[i])\n",
    "    compList.append(temp)"
   ]
  },
  {
   "cell_type": "code",
   "execution_count": 17,
   "id": "2bb562bb-9227-4e3c-aae3-b3c68d56fc63",
   "metadata": {},
   "outputs": [
    {
     "data": {
      "text/plain": [
       "[(<Evoked | 'Symmetrical' (average, N=80), -0.19922 – 1 s, baseline -0.2 – 0 s, 64 ch, ~399 kB>,\n",
       "  <Evoked | 'Asymmetrical' (average, N=79), -0.19922 – 1 s, baseline -0.2 – 0 s, 64 ch, ~399 kB>),\n",
       " (<Evoked | 'Symmetrical' (average, N=80), -0.19922 – 1 s, baseline -0.2 – 0 s, 64 ch, ~399 kB>,\n",
       "  <Evoked | 'Asymmetrical' (average, N=80), -0.19922 – 1 s, baseline -0.2 – 0 s, 64 ch, ~399 kB>),\n",
       " (<Evoked | 'Symmetrical' (average, N=80), -0.19922 – 1 s, baseline -0.2 – 0 s, 64 ch, ~399 kB>,\n",
       "  <Evoked | 'Asymmetrical' (average, N=80), -0.19922 – 1 s, baseline -0.2 – 0 s, 64 ch, ~399 kB>),\n",
       " (<Evoked | 'Symmetrical' (average, N=80), -0.19922 – 1 s, baseline -0.2 – 0 s, 64 ch, ~399 kB>,\n",
       "  <Evoked | 'Asymmetrical' (average, N=80), -0.19922 – 1 s, baseline -0.2 – 0 s, 64 ch, ~399 kB>),\n",
       " (<Evoked | 'Symmetrical' (average, N=80), -0.19922 – 1 s, baseline -0.2 – 0 s, 64 ch, ~399 kB>,\n",
       "  <Evoked | 'Asymmetrical' (average, N=80), -0.19922 – 1 s, baseline -0.2 – 0 s, 64 ch, ~399 kB>),\n",
       " (<Evoked | 'Symmetrical' (average, N=80), -0.19922 – 1 s, baseline -0.2 – 0 s, 64 ch, ~399 kB>,\n",
       "  <Evoked | 'Asymmetrical' (average, N=80), -0.19922 – 1 s, baseline -0.2 – 0 s, 64 ch, ~399 kB>),\n",
       " (<Evoked | 'Symmetrical' (average, N=80), -0.19922 – 1 s, baseline -0.2 – 0 s, 64 ch, ~399 kB>,\n",
       "  <Evoked | 'Asymmetrical' (average, N=80), -0.19922 – 1 s, baseline -0.2 – 0 s, 64 ch, ~399 kB>),\n",
       " (<Evoked | 'Symmetrical' (average, N=80), -0.19922 – 1 s, baseline -0.2 – 0 s, 64 ch, ~399 kB>,\n",
       "  <Evoked | 'Asymmetrical' (average, N=80), -0.19922 – 1 s, baseline -0.2 – 0 s, 64 ch, ~399 kB>),\n",
       " (<Evoked | 'Symmetrical' (average, N=80), -0.19922 – 1 s, baseline -0.2 – 0 s, 64 ch, ~399 kB>,\n",
       "  <Evoked | 'Asymmetrical' (average, N=80), -0.19922 – 1 s, baseline -0.2 – 0 s, 64 ch, ~399 kB>),\n",
       " (<Evoked | 'Symmetrical' (average, N=80), -0.19922 – 1 s, baseline -0.2 – 0 s, 64 ch, ~399 kB>,\n",
       "  <Evoked | 'Asymmetrical' (average, N=80), -0.19922 – 1 s, baseline -0.2 – 0 s, 64 ch, ~399 kB>),\n",
       " (<Evoked | 'Symmetrical' (average, N=80), -0.19922 – 1 s, baseline -0.2 – 0 s, 64 ch, ~399 kB>,\n",
       "  <Evoked | 'Asymmetrical' (average, N=80), -0.19922 – 1 s, baseline -0.2 – 0 s, 64 ch, ~399 kB>),\n",
       " (<Evoked | 'Symmetrical' (average, N=80), -0.19922 – 1 s, baseline -0.2 – 0 s, 64 ch, ~399 kB>,\n",
       "  <Evoked | 'Asymmetrical' (average, N=80), -0.19922 – 1 s, baseline -0.2 – 0 s, 64 ch, ~399 kB>),\n",
       " (<Evoked | 'Symmetrical' (average, N=80), -0.19922 – 1 s, baseline -0.2 – 0 s, 64 ch, ~399 kB>,\n",
       "  <Evoked | 'Asymmetrical' (average, N=80), -0.19922 – 1 s, baseline -0.2 – 0 s, 64 ch, ~399 kB>),\n",
       " (<Evoked | 'Symmetrical' (average, N=80), -0.19922 – 1 s, baseline -0.2 – 0 s, 64 ch, ~399 kB>,\n",
       "  <Evoked | 'Asymmetrical' (average, N=80), -0.19922 – 1 s, baseline -0.2 – 0 s, 64 ch, ~399 kB>),\n",
       " (<Evoked | 'Symmetrical' (average, N=80), -0.19922 – 1 s, baseline -0.2 – 0 s, 64 ch, ~399 kB>,\n",
       "  <Evoked | 'Asymmetrical' (average, N=80), -0.19922 – 1 s, baseline -0.2 – 0 s, 64 ch, ~399 kB>),\n",
       " (<Evoked | 'Symmetrical' (average, N=80), -0.19922 – 1 s, baseline -0.2 – 0 s, 64 ch, ~399 kB>,\n",
       "  <Evoked | 'Asymmetrical' (average, N=80), -0.19922 – 1 s, baseline -0.2 – 0 s, 64 ch, ~399 kB>),\n",
       " (<Evoked | 'Symmetrical' (average, N=80), -0.19922 – 1 s, baseline -0.2 – 0 s, 64 ch, ~399 kB>,\n",
       "  <Evoked | 'Asymmetrical' (average, N=80), -0.19922 – 1 s, baseline -0.2 – 0 s, 64 ch, ~399 kB>),\n",
       " (<Evoked | 'Symmetrical' (average, N=80), -0.19922 – 1 s, baseline -0.2 – 0 s, 64 ch, ~399 kB>,\n",
       "  <Evoked | 'Asymmetrical' (average, N=80), -0.19922 – 1 s, baseline -0.2 – 0 s, 64 ch, ~399 kB>),\n",
       " (<Evoked | 'Symmetrical' (average, N=80), -0.19922 – 1 s, baseline -0.2 – 0 s, 64 ch, ~399 kB>,\n",
       "  <Evoked | 'Asymmetrical' (average, N=80), -0.19922 – 1 s, baseline -0.2 – 0 s, 64 ch, ~399 kB>),\n",
       " (<Evoked | 'Symmetrical' (average, N=80), -0.19922 – 1 s, baseline -0.2 – 0 s, 64 ch, ~399 kB>,\n",
       "  <Evoked | 'Asymmetrical' (average, N=80), -0.19922 – 1 s, baseline -0.2 – 0 s, 64 ch, ~399 kB>),\n",
       " (<Evoked | 'Symmetrical' (average, N=80), -0.19922 – 1 s, baseline -0.2 – 0 s, 64 ch, ~399 kB>,\n",
       "  <Evoked | 'Asymmetrical' (average, N=80), -0.19922 – 1 s, baseline -0.2 – 0 s, 64 ch, ~399 kB>),\n",
       " (<Evoked | 'Symmetrical' (average, N=80), -0.19922 – 1 s, baseline -0.2 – 0 s, 64 ch, ~399 kB>,\n",
       "  <Evoked | 'Asymmetrical' (average, N=80), -0.19922 – 1 s, baseline -0.2 – 0 s, 64 ch, ~399 kB>),\n",
       " (<Evoked | 'Symmetrical' (average, N=80), -0.19922 – 1 s, baseline -0.2 – 0 s, 64 ch, ~399 kB>,\n",
       "  <Evoked | 'Asymmetrical' (average, N=80), -0.19922 – 1 s, baseline -0.2 – 0 s, 64 ch, ~399 kB>),\n",
       " (<Evoked | 'Symmetrical' (average, N=80), -0.19922 – 1 s, baseline -0.2 – 0 s, 64 ch, ~399 kB>,\n",
       "  <Evoked | 'Asymmetrical' (average, N=80), -0.19922 – 1 s, baseline -0.2 – 0 s, 64 ch, ~399 kB>)]"
      ]
     },
     "execution_count": 17,
     "metadata": {},
     "output_type": "execute_result"
    }
   ],
   "source": [
    "compList"
   ]
  },
  {
   "cell_type": "code",
   "execution_count": 19,
   "id": "066efbaf-f166-4ab5-85ca-70255ac1239b",
   "metadata": {},
   "outputs": [],
   "source": [
    "#extract pandas dataframe for symmetrical stimuli for all evoked variables\n",
    "symmEvoked = []\n",
    "asymmEvoked = []\n",
    "for i in range(0,24):\n",
    "    temp_symm = getData(compList[i][0])\n",
    "    symmEvoked.append(temp_symm)\n",
    "    temp_asymm = getData(compList[i][1])\n",
    "    asymmEvoked.append(temp_asymm)"
   ]
  },
  {
   "cell_type": "code",
   "execution_count": 38,
   "id": "1f009d15-ce0e-4fea-bf70-643e89e59aeb",
   "metadata": {
    "scrolled": true
   },
   "outputs": [],
   "source": [
    "#setting index for all the dataframes\n",
    "#extracting PO8, PO7 positions in different dataframes for both symmetrical and asymmetrcial\n",
    "sym_PO8 = []\n",
    "sym_PO7 = []\n",
    "asym_PO8 = []\n",
    "asym_PO7 = []\n",
    "for i in range(0,24):\n",
    "    t = symmEvoked[i][['time','PO8']]\n",
    "    t = t.set_index('time')\n",
    "    sym_PO8.append(t)\n",
    "\n",
    "    t1 = symmEvoked[i][['time','PO7']]\n",
    "    t1 = t1.set_index('time')\n",
    "    sym_PO7.append(t1)\n",
    "    \n",
    "    t2 = asymmEvoked[i][['time','PO8']]\n",
    "    t2 = t2.set_index('time')\n",
    "    asym_PO8.append(t2)\n",
    "    \n",
    "    t3 = asymmEvoked[i][['time','PO7']]\n",
    "    t3 = t3.set_index('time')\n",
    "    asym_PO7.append(t3)"
   ]
  },
  {
   "cell_type": "code",
   "execution_count": 39,
   "id": "27c46f5c-a7ab-4764-8fbe-2577295f1316",
   "metadata": {
    "scrolled": true
   },
   "outputs": [],
   "source": [
    "#combining all the dataframes into one dataframe\n",
    "#for PO8 symmetrical\n",
    "combined_PO8_sym = pd.concat(sym_PO8, axis=1)\n",
    "combined_PO8_sym.columns = ['PO8_1','PO8_2','PO8_3','PO8_4','PO8_5','PO8_6','PO8_7','PO8_8','PO8_9','PO8_10','PO8_11','PO8_12','PO8_13',\n",
    "                            'PO8_14','PO8_15','PO8_16','PO8_17','PO8_18','PO8_19','PO8_20','PO8_21','PO8_22','PO8_23','PO8_24']\n",
    "combined_PO8_sym['Avg_PO8'] = combined_PO8_sym.mean(axis=1)\n",
    "\n",
    "combined_PO7_sym = pd.concat(sym_PO7, axis=1)\n",
    "combined_PO7_sym.columns = ['PO7_1','PO7_2','PO7_3','PO7_4','PO7_5','PO7_6','PO7_7','PO7_8','PO7_9','PO7_10','PO7_11','PO7_12','PO7_13',\n",
    "                            'PO7_14','PO7_15','PO7_16','PO7_17','PO7_18','PO7_19','PO7_20','PO7_21','PO7_22','PO7_23','PO7_24']\n",
    "combined_PO7_sym['Avg_PO7'] = combined_PO7_sym.mean(axis=1)\n",
    "\n",
    "combined_PO8_asym = pd.concat(asym_PO8, axis=1)\n",
    "combined_PO8_asym.columns = ['PO8_1','PO8_2','PO8_3','PO8_4','PO8_5','PO8_6','PO8_7','PO8_8','PO8_9','PO8_10','PO8_11','PO8_12','PO8_13',\n",
    "                             'PO8_14','PO8_15','PO8_16','PO8_17','PO8_18','PO8_19','PO8_20','PO8_21','PO8_22','PO8_23','PO8_24']\n",
    "combined_PO8_asym['Avg_PO8'] = combined_PO8_asym.mean(axis=1)\n",
    "\n",
    "combined_PO7_asym = pd.concat(asym_PO7, axis=1)\n",
    "combined_PO7_asym.columns = ['PO7_1','PO7_2','PO7_3','PO7_4','PO7_5','PO7_6','PO7_7','PO7_8','PO7_9','PO7_10','PO7_11','PO7_12','PO7_13',\n",
    "                            'PO7_14','PO7_15','PO7_16','PO7_17','PO7_18','PO7_19','PO7_20','PO7_21','PO7_22','PO7_23','PO7_24']\n",
    "combined_PO7_asym['Avg_PO7'] = combined_PO7_asym.mean(axis=1)"
   ]
  },
  {
   "cell_type": "code",
   "execution_count": 42,
   "id": "5a01eeca-eb86-42c2-a038-1c3f10985bee",
   "metadata": {
    "scrolled": true
   },
   "outputs": [],
   "source": [
    "combined_PO8_sym.to_csv('combined_PO8_sym.csv', index=True, header=True)"
   ]
  },
  {
   "cell_type": "code",
   "execution_count": 43,
   "id": "f1126398-c91b-4f6d-8fdd-b532692ddde1",
   "metadata": {
    "scrolled": true
   },
   "outputs": [],
   "source": [
    "combined_PO7_sym.to_csv('combined_PO7_sym.csv', index=True, header=True)"
   ]
  },
  {
   "cell_type": "code",
   "execution_count": 44,
   "id": "22486d37-00cd-49dc-9232-1260b4c5eebb",
   "metadata": {
    "scrolled": true
   },
   "outputs": [],
   "source": [
    "combined_PO8_asym.to_csv('combined_PO8_asym.csv', index=True, header=True)"
   ]
  },
  {
   "cell_type": "code",
   "execution_count": 45,
   "id": "60559aba-bf83-4a1e-838d-f77f9590569e",
   "metadata": {
    "scrolled": true
   },
   "outputs": [],
   "source": [
    "combined_PO7_asym.to_csv('combined_PO7_asym.csv', index=True, header=True)"
   ]
  },
  {
   "cell_type": "code",
   "execution_count": null,
   "id": "942a0d0c-8de3-4468-a466-ae921f44692f",
   "metadata": {},
   "outputs": [],
   "source": []
  }
 ],
 "metadata": {
  "kernelspec": {
   "display_name": "Python (mne_env)",
   "language": "python",
   "name": "mne_env"
  },
  "language_info": {
   "codemirror_mode": {
    "name": "ipython",
    "version": 3
   },
   "file_extension": ".py",
   "mimetype": "text/x-python",
   "name": "python",
   "nbconvert_exporter": "python",
   "pygments_lexer": "ipython3",
   "version": "3.9.18"
  }
 },
 "nbformat": 4,
 "nbformat_minor": 5
}
