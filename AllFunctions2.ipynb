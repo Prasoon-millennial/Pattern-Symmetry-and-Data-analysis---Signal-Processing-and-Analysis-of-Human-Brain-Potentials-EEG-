{
 "cells": [
  {
   "cell_type": "code",
   "execution_count": 3,
   "id": "4f78668b-4da2-492e-9d57-032a00158b24",
   "metadata": {},
   "outputs": [],
   "source": [
    "# importing all the required Libraries\n",
    "import mne\n",
    "from mne_bids import BIDSPath, read_raw_bids\n",
    "from mne import Epochs, find_events\n",
    "from mne.preprocessing import ICA\n",
    "from mne_icalabel import label_components\n",
    "from mne.channels import make_standard_montage\n",
    "from mne import find_events\n",
    "import matplotlib.pyplot as plt\n",
    "import numpy as np\n",
    "import pandas as pd"
   ]
  },
  {
   "cell_type": "code",
   "execution_count": 4,
   "id": "7237bf95-7e60-4040-ba65-485de9221347",
   "metadata": {},
   "outputs": [],
   "source": [
    "#loading the BIDS data \n",
    "def loadData(sunId):\n",
    "    bids_root = \"/Users/sammy/Documents/SP EEG/pro_bids\"\n",
    "    #specify id in individual notebook\n",
    "    subject_id = sunId \n",
    "    bids_path = BIDSPath(subject=subject_id,task=\"jacobsen\",datatype='eeg', suffix='eeg',root=bids_root)\n",
    "    raw = read_raw_bids(bids_path)\n",
    "    raw.load_data()\n",
    "    raw.set_montage('standard_1020',match_case=False, on_missing='ignore')\n",
    "    #dropping because these channels are causing troubles in ICA.\n",
    "    raw.drop_channels(['EXG1', 'EXG2', 'EXG3', 'EXG4','EXG5', 'EXG6', 'EXG7', 'EXG8'])\n",
    "    return raw"
   ]
  },
  {
   "cell_type": "code",
   "execution_count": 5,
   "id": "ab61dfe6-2c86-438b-b537-261a35a776c0",
   "metadata": {},
   "outputs": [],
   "source": [
    "#Filtering\n",
    "def filterData(raw):\n",
    "    #filtered at highpass 0.05Hz and Lowpass 50Hz\n",
    "    raw.filter(l_freq = 0.05 , h_freq = 50)\n",
    "    return raw"
   ]
  },
  {
   "cell_type": "code",
   "execution_count": 6,
   "id": "19711c5d-5ee6-4d76-ae6d-a3cfa3f96e1e",
   "metadata": {},
   "outputs": [],
   "source": [
    "#channel information and channel names\n",
    "def channelInfo(raw):\n",
    "    print(raw.info['ch_names'])  # Lists all channel names\n",
    "    print(raw.get_channel_types())  # Lists the types of channels"
   ]
  },
  {
   "cell_type": "code",
   "execution_count": 7,
   "id": "59976f1f-9068-4482-8637-f7af9e7dcb6e",
   "metadata": {},
   "outputs": [],
   "source": [
    "#for getting events\n",
    "def eventName(raw):\n",
    "    # Specify stimulus channel\n",
    "    events = find_events(raw, stim_channel='Status', initial_event = True)\n",
    "    print(events)"
   ]
  },
  {
   "cell_type": "code",
   "execution_count": 8,
   "id": "a42c9aa2-c5e0-44b5-9c3c-9ae436cd470e",
   "metadata": {},
   "outputs": [],
   "source": [
    "#epoching the data\n",
    "def getEpochs(raw):\n",
    "    events = find_events(raw, stim_channel='Status')  #stimuli channel\n",
    "    event_id = {\n",
    "        'Symmetrical': 1,  \n",
    "        'Asymmetrical': 3\n",
    "    }\n",
    "    #epoching from -0.2s to 1s.\n",
    "    epochs = Epochs(raw, events, event_id, tmin=-0.2, tmax=1.0, preload=True)\n",
    "    return epochs"
   ]
  },
  {
   "cell_type": "code",
   "execution_count": 9,
   "id": "d0f9a117-5b2f-4cab-825d-d76d317e8cea",
   "metadata": {},
   "outputs": [],
   "source": [
    "#applying baseline correction\n",
    "def baselineCorrection(epochs):\n",
    "    #from -0.2s to 0s\n",
    "    epochs.apply_baseline(baseline=(-0.2,0))\n",
    "    return epochs"
   ]
  },
  {
   "cell_type": "code",
   "execution_count": 10,
   "id": "04128224-b9f7-4aa0-b831-facc672bb5ba",
   "metadata": {},
   "outputs": [],
   "source": [
    "#plotting epochs with events\n",
    "def plotEpochs(epochs):\n",
    "    symmetrical_epochs = epochs['Symmetrical']\n",
    "    # Plotting symmetrical stimuli event\n",
    "    symmetrical_epochs.plot()\n",
    "    asymmetrical_epochs = epochs['Asymmetrical']\n",
    "    # Plotting asymmetrical stimuli event\n",
    "    asymmetrical_epochs.plot()"
   ]
  },
  {
   "cell_type": "code",
   "execution_count": 11,
   "id": "93a04747-83ad-4208-9594-484de52f2e87",
   "metadata": {},
   "outputs": [],
   "source": [
    "#ICA \n",
    "def performICA(raw):\n",
    "    #intialising ICA\n",
    "    ica = ICA(n_components=20, random_state=42, method='fastica')\n",
    "    ica.fit(raw)\n",
    "    \n",
    "    # Using mne_icalabel to classify components\n",
    "    ic_labels = label_components(raw, ica, method='iclabel')\n",
    "\n",
    "    # Printing the classifications\n",
    "    # print(\"ICLabel classifications:\")\n",
    "    # print(ic_labels)\n",
    "    \n",
    "    # Identify Eye, muscle artifacts and channel noise\n",
    "    Artifact_comp = [i for i, label in enumerate(ic_labels['labels']) if label == 'eye blink' or 'channel noise' or 'muscle artifact']\n",
    "    # print(f\"Artifacts identified: {Artifact_comp}\")\n",
    "    \n",
    "    # Excluding artifacts related components\n",
    "    ica.exclude = Artifact_comp\n",
    "    \n",
    "    # Apply ICA cleaning to the raw data and plotting components\n",
    "    raw_clean = ica.apply(raw)\n",
    "    # ica.plot_components()\n",
    "    x = range(0,20)\n",
    "    # ica.plot_properties(raw,picks=x,psd_args={'fmax': 35.},reject=None);\n",
    "    #labels of all components\n",
    "    # print(ic_labels[\"labels\"])"
   ]
  },
  {
   "cell_type": "code",
   "execution_count": 12,
   "id": "727bcbb5-3386-4095-ac7f-3f4825396777",
   "metadata": {},
   "outputs": [],
   "source": [
    "#plotting EEG with events as symmetrical or asymmetrical / Random patters \n",
    "def plotEvent(raw):\n",
    "    event_id = {\n",
    "        'Symmetrical': 1,  \n",
    "        'Asymmetrical': 3\n",
    "    }\n",
    "    events = find_events(raw, stim_channel='Status')  # Specify your stim channel\n",
    "    raw.plot(events=events, event_id=event_id)"
   ]
  },
  {
   "cell_type": "code",
   "execution_count": 13,
   "id": "635498fb-a7ce-48a7-86e5-03850522dc10",
   "metadata": {},
   "outputs": [],
   "source": [
    "#plotting EEG\n",
    "def plotEEG(raw, start_time, end_time):\n",
    "    data = raw.get_data()  # Shape: (n_channels, n_times)\n",
    "    sfreq = raw.info['sfreq']  \n",
    "    times = np.arange(data.shape[1]) / sfreq  # Time vector\n",
    "    channel_names = raw.info['ch_names']  # List of channel names\n",
    "\n",
    "    start, end = start_time, end_time  # Seconds\n",
    "    start_idx, end_idx = int(start * sfreq), int(end * sfreq)\n",
    "\n",
    "    for i, channel_name in enumerate(channel_names):\n",
    "        plt.figure(figsize=(10, 4))\n",
    "        plt.plot(times[start_idx:end_idx], data[i, start_idx:end_idx], label=channel_name, color='blue', linewidth=0.8)\n",
    "        plt.title(f\"EEG Signal - {channel_name} (Time {start}-{end}s)\")\n",
    "        plt.xlabel(\"Time (s)\")\n",
    "        plt.ylabel(\"Amplitude (µV)\")\n",
    "        plt.grid(True)\n",
    "        plt.legend(loc=\"upper right\")\n",
    "        plt.tight_layout()\n",
    "        plt.show()"
   ]
  },
  {
   "cell_type": "code",
   "execution_count": 14,
   "id": "d16ef6a6-ce7e-4f7f-92cc-ef9190f892eb",
   "metadata": {},
   "outputs": [],
   "source": [
    "#plotting power spectrum density\n",
    "def plotPSD(raw):\n",
    "    raw.plot_psd(fmin=0.05, fmax=50, spatial_colors=True, show=True);"
   ]
  },
  {
   "cell_type": "code",
   "execution_count": 15,
   "id": "c70d7ae8-2c72-40c1-981b-4482cb341bb8",
   "metadata": {},
   "outputs": [],
   "source": [
    "#computing evoked resonse for event type and then averaging it\n",
    "def calcEvoked(epochs):\n",
    "    # for symmetrical\n",
    "    evoked_symm = epochs['Symmetrical'].average()\n",
    "    # print(\"PLOT FOR SYMMETRICAL STIMULI\")\n",
    "    # evoked_symm.plot()  # Basic waveform plot\n",
    "    # evoked_symm.plot_joint();  # Enhanced plot with topography\n",
    "    # for asymmetrical/random stimuli\n",
    "    evoked_asymm = epochs['Asymmetrical'].average()\n",
    "    # print(\"PLOT FOR ASYMMETRICAL / RANDOM STIMULI\")\n",
    "    # evoked_asymm.plot()  # Basic waveform plot\n",
    "    # evoked_asymm.plot_joint();  # Enhanced plot with topography\n",
    "    return (evoked_symm, evoked_asymm)"
   ]
  },
  {
   "cell_type": "code",
   "execution_count": 16,
   "id": "41843f5e-6f5e-43b2-941c-bad645c771a7",
   "metadata": {},
   "outputs": [],
   "source": [
    "#finding peak and latency for P1 and N1\n",
    "def findPeak(evoked):\n",
    "    # Find P1 (positive peak) within 80-130 ms\n",
    "    p1, p1_latency, p1_amplitude = evoked.get_peak(tmin=0.08, tmax=0.13, mode='pos', return_amplitude=True)\n",
    "    # Find N1 (negative peak) within 140-200 ms\n",
    "    n1, n1_latency, n1_amplitude = evoked.get_peak(tmin=0.14, tmax=0.2, mode='neg', return_amplitude=True)\n",
    "    print(f\"P1: Latency={p1_latency*1000:.1f} ms, Amplitude={p1_amplitude*1000000:.3f} µV\")\n",
    "    print(f\"N1: Latency={n1_latency*1000:.1f} ms, Amplitude={n1_amplitude*1000000:.3f} µV\")\n",
    "    print(\"P1 at : \", p1, \" ; N1 at : \", n1)\n",
    "    evoked.plot_topomap(times=[p1_latency, n1_latency])\n",
    "    P1 = [p1, p1_latency, p1_amplitude]\n",
    "    N1 = [n1, n1_latency, n1_amplitude]\n",
    "    return [P1,N1]"
   ]
  },
  {
   "cell_type": "code",
   "execution_count": 17,
   "id": "e013050c-43ea-45fd-90ee-c172734ddd7c",
   "metadata": {},
   "outputs": [],
   "source": [
    "#plotting PO8 electrode events - Depicting P1 and N1\n",
    "def drawEvokedEvents(evoked_symm, evoked_asymm, pick):\n",
    "    mne.viz.plot_compare_evokeds([evoked_symm, evoked_asymm], picks=pick)"
   ]
  },
  {
   "cell_type": "code",
   "execution_count": 18,
   "id": "98203f04-0daa-47e5-9829-e4fdf908fa2b",
   "metadata": {},
   "outputs": [],
   "source": [
    "def getPicks(l1, l2):\n",
    "    #to pick channels for P1 and N1\n",
    "    lst = []\n",
    "    lst.append(l1[0][0])\n",
    "    lst.append(l1[1][0])\n",
    "    lst.append(l2[0][0])\n",
    "    lst.append(l2[1][0])\n",
    "    lst.append('PO8')\n",
    "    lst.append('PO7')\n",
    "    s = set(lst)\n",
    "    fl = list(s)\n",
    "    return fl"
   ]
  },
  {
   "cell_type": "code",
   "execution_count": 19,
   "id": "14c15975-1a26-42ec-930d-a3f93f6e6180",
   "metadata": {},
   "outputs": [],
   "source": [
    "#for getting Data in Dataframe form\n",
    "def getData(evoked):\n",
    "    #making copy so that original object stays intact\n",
    "    x = evoked.copy()\n",
    "    x.pick(['PO8','PO7']) #picking these 2 channels\n",
    "    # Get the data and time points\n",
    "    data = x.data  # Shape is (n_channels, n_times)\n",
    "    times = x.times  # Time points in seconds\n",
    "    \n",
    "    # Convert data to a pandas DataFrame\n",
    "    df = pd.DataFrame(data.T, columns = ['PO8','PO7'])  # Transpose to make time points as rows\n",
    "    df['time'] = times  # Add time column\n",
    "    return df"
   ]
  },
  {
   "cell_type": "code",
   "execution_count": 20,
   "id": "32aab1ba-b7ec-4c90-84b7-8f28fcd02d73",
   "metadata": {},
   "outputs": [],
   "source": [
    "def loadEvoked(subId):\n",
    "    raw = loadData(subId)\n",
    "    raw = filterData(raw)\n",
    "    performICA(raw)\n",
    "    epochs = getEpochs(raw)\n",
    "    epochs = baselineCorrection(epochs)\n",
    "    evoked = calcEvoked(epochs)\n",
    "    return evoked"
   ]
  },
  {
   "cell_type": "code",
   "execution_count": null,
   "id": "4640cf2d-0330-46f7-a3cd-6992bc435362",
   "metadata": {},
   "outputs": [],
   "source": []
  }
 ],
 "metadata": {
  "kernelspec": {
   "display_name": "Python 3 (ipykernel)",
   "language": "python",
   "name": "python3"
  },
  "language_info": {
   "codemirror_mode": {
    "name": "ipython",
    "version": 3
   },
   "file_extension": ".py",
   "mimetype": "text/x-python",
   "name": "python",
   "nbconvert_exporter": "python",
   "pygments_lexer": "ipython3",
   "version": "3.12.4"
  }
 },
 "nbformat": 4,
 "nbformat_minor": 5
}
